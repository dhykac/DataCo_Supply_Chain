{
  "cells": [
    {
      "cell_type": "markdown",
      "metadata": {
        "id": "bNiw3hhx73Ee"
      },
      "source": [
        "# DataCo Supply Chain Big Data Analysis"
      ]
    },
    {
      "cell_type": "markdown",
      "metadata": {
        "id": "rLkAn2Tg-lcK"
      },
      "source": [
        "A DataSet of Supply Chains used by the company DataCo Global was used for the analysis. Dataset of Supply Chain , which allows the use of Machine Learning Algorithms and R Software.\n",
        "Areas of important registered activities : Provisioning , Production , Sales , Commercial Distribution.It also allows the correlation of Structured Data with Unstructured Data for knowledge generation.\n",
        "The objective of this analysis is to predict late delivery risk that the company faced. \n",
        "\n",
        "---\n",
        "\n",
        "Data Description :\n",
        "* Type : Type of transaction made\n",
        "* Days for shipping (real)      : Actual shipping days of the purchased product\n",
        "* Days for shipment (scheduled) : Days of scheduled delivery of the purchased product\n",
        "* Benefit per order : Earnings per order placed\n",
        "* Sales per customer : Total sales per customer made per customer\n",
        "* Delivery Status : Delivery status of orders: Advance shipping , Late delivery , Shipping canceled , Shipping on time\n",
        "* Late_delivery_risk            : Categorical variable that indicates if sending is late (1), it is not late (0).\n",
        "* Category Id : Product category code\n",
        "* Category Name : Description of the product category\n",
        "* Customer City : City where the customer made the purchase\n",
        "* Customer Country : Country where the customer made the purchase\n",
        "* Customer Email : Customer's email\n",
        "* Customer Fname : Customer name\n",
        "* Customer Id : Customer ID\n",
        "* Customer Lname : Customer lastname\n",
        "* Customer Password : Masked customer key\n",
        "* Customer Segment : Types of Customers: Consumer , Corporate , Home Office\n",
        "* Customer State : State to which the store where the purchase is registered belongs\n",
        "* Customer Street : Street to which the store where the purchase is registered belongs\n",
        "* Customer Zipcode : Customer Zipcode\n",
        "* Department Id : Department code of store\n",
        "* Department Name : Department name of store\n",
        "* Latitude : Latitude corresponding to location of store\n",
        "* Longitude : Longitude corresponding to location of store\n",
        "* Market : Market to where the order is delivered : Africa , Europe , LATAM , Pacific Asia , USCA\n",
        "* Order City : Destination city of the order\n",
        "* Order Country : Destination country of the order\n",
        "* Order Customer Id : Customer order code\n",
        "* order date (DateOrders) : Date on which the order is made\n",
        "* Order Id : Order code\n",
        "* Order Item Cardprod Id : Product code generated through the RFID reader\n",
        "* Order Item Discount : Order item discount value\n",
        "* Order Item Discount Rate      : Order item discount percentage\n",
        "* Order Item Id : Order item code\n",
        "* Order Item Product Price      : Price of products without discount\n",
        "* Order Item Profit Ratio : Order Item Profit Ratio\n",
        "* Order Item Quantity : Number of products per order\n",
        "* Sales : Value in sales\n",
        "* Order Item Total   : Total amount per order\n",
        "* Order Profit Per Order : Order Profit Per Order\n",
        "* Order Region : Region of the world where the order is delivered : Southeast Asia ,South Asia ,Oceania ,Eastern Asia, West Asia , West of USA , US Center , West Africa, Central Africa ,North Africa ,Western Europe ,Northern , Caribbean , South America ,East Africa ,Southern Europe , East of USA ,Canada ,Southern Africa , Central Asia , Europe , Central America, Eastern Europe , South of USA \n",
        "* Order State : State of the region where the order is delivered\n",
        "* Order Status : Order Status : COMPLETE , PENDING , CLOSED , PENDING_PAYMENT ,CANCELED , PROCESSING ,SUSPECTED_FRAUD ,ON_HOLD ,PAYMENT_REVIEW\n",
        "* Product Card Id : Product code\n",
        "* Product Category Id : Product category code\n",
        "* Product Description : Product Description\n",
        "* Product Image : Link of visit and purchase of the product\n",
        "* Product Name : Product Name\n",
        "* Product Price : Product Price\n",
        "* Product Status : Status of the product stock :If it is 1 not available , 0 the product is available \n",
        "* Shipping date (DateOrders)    : Exact date and time of shipment\n",
        "* Shipping Mode : The following shipping modes are presented : Standard Class , First Class , Second Class , Same Day"
      ]
    },
    {
      "cell_type": "markdown",
      "metadata": {
        "id": "4Ys4z_zA-UGT"
      },
      "source": [
        "# Data Preparation & Profilling"
      ]
    },
    {
      "cell_type": "markdown",
      "metadata": {
        "id": "8Fk_VefVH8L-"
      },
      "source": [
        "## Library"
      ]
    },
    {
      "cell_type": "code",
      "execution_count": null,
      "metadata": {
        "colab": {
          "base_uri": "https://localhost:8080/"
        },
        "id": "pdC7WOiBlYUO",
        "outputId": "f54c03bd-baa4-4abd-8736-b13c3254baa5"
      },
      "outputs": [
        {
          "output_type": "stream",
          "name": "stdout",
          "text": [
            "Looking in indexes: https://pypi.org/simple, https://us-python.pkg.dev/colab-wheels/public/simple/\n",
            "Requirement already satisfied: dalex in /usr/local/lib/python3.7/dist-packages (1.5.0)\n",
            "Requirement already satisfied: tqdm>=4.61.2 in /usr/local/lib/python3.7/dist-packages (from dalex) (4.64.1)\n",
            "Requirement already satisfied: pandas>=1.2.5 in /usr/local/lib/python3.7/dist-packages (from dalex) (1.3.5)\n",
            "Requirement already satisfied: numpy>=1.20.3 in /usr/local/lib/python3.7/dist-packages (from dalex) (1.21.6)\n",
            "Requirement already satisfied: plotly>=5.1.0 in /usr/local/lib/python3.7/dist-packages (from dalex) (5.5.0)\n",
            "Requirement already satisfied: scipy>=1.6.3 in /usr/local/lib/python3.7/dist-packages (from dalex) (1.7.3)\n",
            "Requirement already satisfied: setuptools in /usr/local/lib/python3.7/dist-packages (from dalex) (57.4.0)\n",
            "Requirement already satisfied: python-dateutil>=2.7.3 in /usr/local/lib/python3.7/dist-packages (from pandas>=1.2.5->dalex) (2.8.2)\n",
            "Requirement already satisfied: pytz>=2017.3 in /usr/local/lib/python3.7/dist-packages (from pandas>=1.2.5->dalex) (2022.6)\n",
            "Requirement already satisfied: six in /usr/local/lib/python3.7/dist-packages (from plotly>=5.1.0->dalex) (1.15.0)\n",
            "Requirement already satisfied: tenacity>=6.2.0 in /usr/local/lib/python3.7/dist-packages (from plotly>=5.1.0->dalex) (8.1.0)\n",
            "Looking in indexes: https://pypi.org/simple, https://us-python.pkg.dev/colab-wheels/public/simple/\n",
            "Requirement already satisfied: scikit-plot in /usr/local/lib/python3.7/dist-packages (0.3.7)\n",
            "Requirement already satisfied: matplotlib>=1.4.0 in /usr/local/lib/python3.7/dist-packages (from scikit-plot) (3.2.2)\n",
            "Requirement already satisfied: scipy>=0.9 in /usr/local/lib/python3.7/dist-packages (from scikit-plot) (1.7.3)\n",
            "Requirement already satisfied: joblib>=0.10 in /usr/local/lib/python3.7/dist-packages (from scikit-plot) (1.2.0)\n",
            "Requirement already satisfied: scikit-learn>=0.18 in /usr/local/lib/python3.7/dist-packages (from scikit-plot) (1.0.2)\n",
            "Requirement already satisfied: pyparsing!=2.0.4,!=2.1.2,!=2.1.6,>=2.0.1 in /usr/local/lib/python3.7/dist-packages (from matplotlib>=1.4.0->scikit-plot) (3.0.9)\n",
            "Requirement already satisfied: kiwisolver>=1.0.1 in /usr/local/lib/python3.7/dist-packages (from matplotlib>=1.4.0->scikit-plot) (1.4.4)\n",
            "Requirement already satisfied: cycler>=0.10 in /usr/local/lib/python3.7/dist-packages (from matplotlib>=1.4.0->scikit-plot) (0.11.0)\n",
            "Requirement already satisfied: numpy>=1.11 in /usr/local/lib/python3.7/dist-packages (from matplotlib>=1.4.0->scikit-plot) (1.21.6)\n",
            "Requirement already satisfied: python-dateutil>=2.1 in /usr/local/lib/python3.7/dist-packages (from matplotlib>=1.4.0->scikit-plot) (2.8.2)\n",
            "Requirement already satisfied: typing-extensions in /usr/local/lib/python3.7/dist-packages (from kiwisolver>=1.0.1->matplotlib>=1.4.0->scikit-plot) (4.1.1)\n",
            "Requirement already satisfied: six>=1.5 in /usr/local/lib/python3.7/dist-packages (from python-dateutil>=2.1->matplotlib>=1.4.0->scikit-plot) (1.15.0)\n",
            "Requirement already satisfied: threadpoolctl>=2.0.0 in /usr/local/lib/python3.7/dist-packages (from scikit-learn>=0.18->scikit-plot) (3.1.0)\n"
          ]
        }
      ],
      "source": [
        "!pip install dalex\n",
        "!pip install scikit-plot"
      ]
    },
    {
      "cell_type": "code",
      "execution_count": null,
      "metadata": {
        "colab": {
          "base_uri": "https://localhost:8080/"
        },
        "id": "yV47h9kKBVUt",
        "outputId": "591be8cd-35a5-42f3-897f-9b8cc9b51444"
      },
      "outputs": [
        {
          "output_type": "stream",
          "name": "stdout",
          "text": [
            "Looking in indexes: https://pypi.org/simple, https://us-python.pkg.dev/colab-wheels/public/simple/\n",
            "Requirement already satisfied: shap in /usr/local/lib/python3.7/dist-packages (0.41.0)\n",
            "Requirement already satisfied: packaging>20.9 in /usr/local/lib/python3.7/dist-packages (from shap) (21.3)\n",
            "Requirement already satisfied: tqdm>4.25.0 in /usr/local/lib/python3.7/dist-packages (from shap) (4.64.1)\n",
            "Requirement already satisfied: scipy in /usr/local/lib/python3.7/dist-packages (from shap) (1.7.3)\n",
            "Requirement already satisfied: numpy in /usr/local/lib/python3.7/dist-packages (from shap) (1.21.6)\n",
            "Requirement already satisfied: pandas in /usr/local/lib/python3.7/dist-packages (from shap) (1.3.5)\n",
            "Requirement already satisfied: cloudpickle in /usr/local/lib/python3.7/dist-packages (from shap) (1.5.0)\n",
            "Requirement already satisfied: slicer==0.0.7 in /usr/local/lib/python3.7/dist-packages (from shap) (0.0.7)\n",
            "Requirement already satisfied: numba in /usr/local/lib/python3.7/dist-packages (from shap) (0.56.4)\n",
            "Requirement already satisfied: scikit-learn in /usr/local/lib/python3.7/dist-packages (from shap) (1.0.2)\n",
            "Requirement already satisfied: pyparsing!=3.0.5,>=2.0.2 in /usr/local/lib/python3.7/dist-packages (from packaging>20.9->shap) (3.0.9)\n",
            "Requirement already satisfied: importlib-metadata in /usr/local/lib/python3.7/dist-packages (from numba->shap) (4.13.0)\n",
            "Requirement already satisfied: llvmlite<0.40,>=0.39.0dev0 in /usr/local/lib/python3.7/dist-packages (from numba->shap) (0.39.1)\n",
            "Requirement already satisfied: setuptools in /usr/local/lib/python3.7/dist-packages (from numba->shap) (57.4.0)\n",
            "Requirement already satisfied: zipp>=0.5 in /usr/local/lib/python3.7/dist-packages (from importlib-metadata->numba->shap) (3.10.0)\n",
            "Requirement already satisfied: typing-extensions>=3.6.4 in /usr/local/lib/python3.7/dist-packages (from importlib-metadata->numba->shap) (4.1.1)\n",
            "Requirement already satisfied: pytz>=2017.3 in /usr/local/lib/python3.7/dist-packages (from pandas->shap) (2022.6)\n",
            "Requirement already satisfied: python-dateutil>=2.7.3 in /usr/local/lib/python3.7/dist-packages (from pandas->shap) (2.8.2)\n",
            "Requirement already satisfied: six>=1.5 in /usr/local/lib/python3.7/dist-packages (from python-dateutil>=2.7.3->pandas->shap) (1.15.0)\n",
            "Requirement already satisfied: threadpoolctl>=2.0.0 in /usr/local/lib/python3.7/dist-packages (from scikit-learn->shap) (3.1.0)\n",
            "Requirement already satisfied: joblib>=0.11 in /usr/local/lib/python3.7/dist-packages (from scikit-learn->shap) (1.2.0)\n"
          ]
        }
      ],
      "source": [
        "!pip install shap"
      ]
    },
    {
      "cell_type": "code",
      "execution_count": null,
      "metadata": {
        "id": "DSeK3ILZ6X8a"
      },
      "outputs": [],
      "source": [
        "import warnings\n",
        "warnings.filterwarnings('ignore')\n",
        "\n",
        "import numpy as np\n",
        "import pandas as pd\n",
        "import matplotlib.pyplot as plt\n",
        "import seaborn as sns\n",
        "\n",
        "# load preprocessing stuff\n",
        "from sklearn.preprocessing import *\n",
        "\n",
        "# load selection stuff\n",
        "from sklearn.model_selection import train_test_split, cross_val_score, ParameterSampler, GridSearchCV\n",
        "\n",
        "# load metrics stuff\n",
        "from sklearn.metrics import confusion_matrix, roc_auc_score, roc_curve, f1_score, recall_score, precision_score, accuracy_score, plot_confusion_matrix, classification_report\n",
        "\n",
        "# load logistic regression model\n",
        "from sklearn.tree import DecisionTreeClassifier\n",
        "# load k nearest neighbors model\n",
        "from sklearn.neighbors import KNeighborsClassifier\n",
        "# import random forest classifier\n",
        "from sklearn.ensemble import RandomForestClassifier\n",
        "# import xgboost classifier\n",
        "from xgboost import XGBClassifier\n",
        "\n",
        "# load scikit-plot modules\n",
        "import scikitplot as skplt\n",
        "\n",
        "# load dalex\n",
        "import dalex as dx\n",
        "\n",
        "palette = {0: 'tab:blue',1: 'tab:orange'}"
      ]
    },
    {
      "cell_type": "markdown",
      "metadata": {
        "id": "nYhyAWGRH-s-"
      },
      "source": [
        "## Data Load & Profiling"
      ]
    },
    {
      "cell_type": "code",
      "execution_count": null,
      "metadata": {
        "colab": {
          "base_uri": "https://localhost:8080/"
        },
        "id": "ETm-tZWABHIU",
        "outputId": "71c07b2a-e50d-4c87-8cca-7f63a6c3d5eb"
      },
      "outputs": [
        {
          "output_type": "stream",
          "name": "stdout",
          "text": [
            "Drive already mounted at /content/gdrive; to attempt to forcibly remount, call drive.mount(\"/content/gdrive\", force_remount=True).\n"
          ]
        }
      ],
      "source": [
        "# Connect to Gdrive\n",
        "from google.colab import drive\n",
        "drive.mount('/content/gdrive')"
      ]
    },
    {
      "cell_type": "code",
      "execution_count": null,
      "metadata": {
        "colab": {
          "base_uri": "https://localhost:8080/"
        },
        "id": "JrpLEiIKBRvk",
        "outputId": "c2520062-a426-40ee-8e27-9d3fd8e50e0b"
      },
      "outputs": [
        {
          "output_type": "stream",
          "name": "stdout",
          "text": [
            "/content/gdrive/MyDrive/Colab Notebooks/Playground/DataCo Supply Chain\n"
          ]
        }
      ],
      "source": [
        "%cd /content/gdrive/MyDrive/Colab Notebooks/Playground/DataCo Supply Chain"
      ]
    },
    {
      "cell_type": "code",
      "execution_count": null,
      "metadata": {
        "id": "vccCRRO06Ivf"
      },
      "outputs": [],
      "source": [
        "data = pd.read_csv('DataCoSupplyChainDataset.csv',encoding ='latin')"
      ]
    },
    {
      "cell_type": "code",
      "execution_count": null,
      "metadata": {
        "colab": {
          "base_uri": "https://localhost:8080/"
        },
        "id": "9L6cZ1Fn9RvN",
        "outputId": "e888638f-82a1-4c7d-f07f-327a83cb06d3"
      },
      "outputs": [
        {
          "output_type": "stream",
          "name": "stdout",
          "text": [
            "<class 'pandas.core.frame.DataFrame'>\n",
            "RangeIndex: 180519 entries, 0 to 180518\n",
            "Data columns (total 53 columns):\n",
            " #   Column                         Non-Null Count   Dtype  \n",
            "---  ------                         --------------   -----  \n",
            " 0   Type                           180519 non-null  object \n",
            " 1   Days for shipping (real)       180519 non-null  int64  \n",
            " 2   Days for shipment (scheduled)  180519 non-null  int64  \n",
            " 3   Benefit per order              180519 non-null  float64\n",
            " 4   Sales per customer             180519 non-null  float64\n",
            " 5   Delivery Status                180519 non-null  object \n",
            " 6   Late_delivery_risk             180519 non-null  int64  \n",
            " 7   Category Id                    180519 non-null  int64  \n",
            " 8   Category Name                  180519 non-null  object \n",
            " 9   Customer City                  180519 non-null  object \n",
            " 10  Customer Country               180519 non-null  object \n",
            " 11  Customer Email                 180519 non-null  object \n",
            " 12  Customer Fname                 180519 non-null  object \n",
            " 13  Customer Id                    180519 non-null  int64  \n",
            " 14  Customer Lname                 180511 non-null  object \n",
            " 15  Customer Password              180519 non-null  object \n",
            " 16  Customer Segment               180519 non-null  object \n",
            " 17  Customer State                 180519 non-null  object \n",
            " 18  Customer Street                180519 non-null  object \n",
            " 19  Customer Zipcode               180516 non-null  float64\n",
            " 20  Department Id                  180519 non-null  int64  \n",
            " 21  Department Name                180519 non-null  object \n",
            " 22  Latitude                       180519 non-null  float64\n",
            " 23  Longitude                      180519 non-null  float64\n",
            " 24  Market                         180519 non-null  object \n",
            " 25  Order City                     180519 non-null  object \n",
            " 26  Order Country                  180519 non-null  object \n",
            " 27  Order Customer Id              180519 non-null  int64  \n",
            " 28  order date (DateOrders)        180519 non-null  object \n",
            " 29  Order Id                       180519 non-null  int64  \n",
            " 30  Order Item Cardprod Id         180519 non-null  int64  \n",
            " 31  Order Item Discount            180519 non-null  float64\n",
            " 32  Order Item Discount Rate       180519 non-null  float64\n",
            " 33  Order Item Id                  180519 non-null  int64  \n",
            " 34  Order Item Product Price       180519 non-null  float64\n",
            " 35  Order Item Profit Ratio        180519 non-null  float64\n",
            " 36  Order Item Quantity            180519 non-null  int64  \n",
            " 37  Sales                          180519 non-null  float64\n",
            " 38  Order Item Total               180519 non-null  float64\n",
            " 39  Order Profit Per Order         180519 non-null  float64\n",
            " 40  Order Region                   180519 non-null  object \n",
            " 41  Order State                    180519 non-null  object \n",
            " 42  Order Status                   180519 non-null  object \n",
            " 43  Order Zipcode                  24840 non-null   float64\n",
            " 44  Product Card Id                180519 non-null  int64  \n",
            " 45  Product Category Id            180519 non-null  int64  \n",
            " 46  Product Description            0 non-null       float64\n",
            " 47  Product Image                  180519 non-null  object \n",
            " 48  Product Name                   180519 non-null  object \n",
            " 49  Product Price                  180519 non-null  float64\n",
            " 50  Product Status                 180519 non-null  int64  \n",
            " 51  shipping date (DateOrders)     180519 non-null  object \n",
            " 52  Shipping Mode                  180519 non-null  object \n",
            "dtypes: float64(15), int64(14), object(24)\n",
            "memory usage: 73.0+ MB\n"
          ]
        }
      ],
      "source": [
        "data.info()"
      ]
    },
    {
      "cell_type": "markdown",
      "metadata": {
        "id": "82QRrG-H8r2B"
      },
      "source": [
        "The data have 180519 rows and 53 columns. The columns consist of 14 int64, 15 float64, and 24 object columns."
      ]
    },
    {
      "cell_type": "code",
      "execution_count": null,
      "metadata": {
        "colab": {
          "base_uri": "https://localhost:8080/"
        },
        "id": "yjQgGfFX6ans",
        "outputId": "18150079-ef18-4bc5-b72c-1a4c87b527c6"
      },
      "outputs": [
        {
          "output_type": "execute_result",
          "data": {
            "text/plain": [
              "Type                                  0\n",
              "Days for shipping (real)              0\n",
              "Days for shipment (scheduled)         0\n",
              "Benefit per order                     0\n",
              "Sales per customer                    0\n",
              "Delivery Status                       0\n",
              "Late_delivery_risk                    0\n",
              "Category Id                           0\n",
              "Category Name                         0\n",
              "Customer City                         0\n",
              "Customer Country                      0\n",
              "Customer Email                        0\n",
              "Customer Fname                        0\n",
              "Customer Id                           0\n",
              "Customer Lname                        8\n",
              "Customer Password                     0\n",
              "Customer Segment                      0\n",
              "Customer State                        0\n",
              "Customer Street                       0\n",
              "Customer Zipcode                      3\n",
              "Department Id                         0\n",
              "Department Name                       0\n",
              "Latitude                              0\n",
              "Longitude                             0\n",
              "Market                                0\n",
              "Order City                            0\n",
              "Order Country                         0\n",
              "Order Customer Id                     0\n",
              "order date (DateOrders)               0\n",
              "Order Id                              0\n",
              "Order Item Cardprod Id                0\n",
              "Order Item Discount                   0\n",
              "Order Item Discount Rate              0\n",
              "Order Item Id                         0\n",
              "Order Item Product Price              0\n",
              "Order Item Profit Ratio               0\n",
              "Order Item Quantity                   0\n",
              "Sales                                 0\n",
              "Order Item Total                      0\n",
              "Order Profit Per Order                0\n",
              "Order Region                          0\n",
              "Order State                           0\n",
              "Order Status                          0\n",
              "Order Zipcode                    155679\n",
              "Product Card Id                       0\n",
              "Product Category Id                   0\n",
              "Product Description              180519\n",
              "Product Image                         0\n",
              "Product Name                          0\n",
              "Product Price                         0\n",
              "Product Status                        0\n",
              "shipping date (DateOrders)            0\n",
              "Shipping Mode                         0\n",
              "dtype: int64"
            ]
          },
          "metadata": {},
          "execution_count": 8
        }
      ],
      "source": [
        "# Checking null data\n",
        "data.isna().sum()"
      ]
    },
    {
      "cell_type": "markdown",
      "metadata": {
        "id": "8_70Qdo99aDC"
      },
      "source": [
        "As we can see on the summary above, the data have much null values on columns Order Zipcode and Product Description, also 3 rows on Customer Zipcode. These things must be handling first before starting for modelling."
      ]
    },
    {
      "cell_type": "code",
      "execution_count": null,
      "metadata": {
        "colab": {
          "base_uri": "https://localhost:8080/"
        },
        "id": "WjGm4anCSbkE",
        "outputId": "54ba2d0f-7de7-4b95-e025-eec5637fc0d9"
      },
      "outputs": [
        {
          "output_type": "execute_result",
          "data": {
            "text/plain": [
              "                       Columns  Unique\n",
              "16     order date (DateOrders)   65752\n",
              "22  shipping date (DateOrders)   63701\n",
              "11             Customer Street    7458\n",
              "14                  Order City    3597\n",
              "7               Customer Lname    1109\n",
              "18                 Order State    1089\n",
              "6               Customer Fname     782\n",
              "3                Customer City     563\n",
              "15               Order Country     164\n",
              "20               Product Image     118\n",
              "21                Product Name     118\n",
              "2                Category Name      50\n",
              "10              Customer State      46\n",
              "17                Order Region      23\n",
              "12             Department Name      11\n",
              "19                Order Status       9\n",
              "13                      Market       5\n",
              "0                         Type       4\n",
              "1              Delivery Status       4\n",
              "23               Shipping Mode       4\n",
              "9             Customer Segment       3\n",
              "4             Customer Country       2\n",
              "8            Customer Password       1\n",
              "5               Customer Email       1"
            ],
            "text/html": [
              "\n",
              "  <div id=\"df-c9897800-4bbd-465a-9c2f-10820bc5a9d9\">\n",
              "    <div class=\"colab-df-container\">\n",
              "      <div>\n",
              "<style scoped>\n",
              "    .dataframe tbody tr th:only-of-type {\n",
              "        vertical-align: middle;\n",
              "    }\n",
              "\n",
              "    .dataframe tbody tr th {\n",
              "        vertical-align: top;\n",
              "    }\n",
              "\n",
              "    .dataframe thead th {\n",
              "        text-align: right;\n",
              "    }\n",
              "</style>\n",
              "<table border=\"1\" class=\"dataframe\">\n",
              "  <thead>\n",
              "    <tr style=\"text-align: right;\">\n",
              "      <th></th>\n",
              "      <th>Columns</th>\n",
              "      <th>Unique</th>\n",
              "    </tr>\n",
              "  </thead>\n",
              "  <tbody>\n",
              "    <tr>\n",
              "      <th>16</th>\n",
              "      <td>order date (DateOrders)</td>\n",
              "      <td>65752</td>\n",
              "    </tr>\n",
              "    <tr>\n",
              "      <th>22</th>\n",
              "      <td>shipping date (DateOrders)</td>\n",
              "      <td>63701</td>\n",
              "    </tr>\n",
              "    <tr>\n",
              "      <th>11</th>\n",
              "      <td>Customer Street</td>\n",
              "      <td>7458</td>\n",
              "    </tr>\n",
              "    <tr>\n",
              "      <th>14</th>\n",
              "      <td>Order City</td>\n",
              "      <td>3597</td>\n",
              "    </tr>\n",
              "    <tr>\n",
              "      <th>7</th>\n",
              "      <td>Customer Lname</td>\n",
              "      <td>1109</td>\n",
              "    </tr>\n",
              "    <tr>\n",
              "      <th>18</th>\n",
              "      <td>Order State</td>\n",
              "      <td>1089</td>\n",
              "    </tr>\n",
              "    <tr>\n",
              "      <th>6</th>\n",
              "      <td>Customer Fname</td>\n",
              "      <td>782</td>\n",
              "    </tr>\n",
              "    <tr>\n",
              "      <th>3</th>\n",
              "      <td>Customer City</td>\n",
              "      <td>563</td>\n",
              "    </tr>\n",
              "    <tr>\n",
              "      <th>15</th>\n",
              "      <td>Order Country</td>\n",
              "      <td>164</td>\n",
              "    </tr>\n",
              "    <tr>\n",
              "      <th>20</th>\n",
              "      <td>Product Image</td>\n",
              "      <td>118</td>\n",
              "    </tr>\n",
              "    <tr>\n",
              "      <th>21</th>\n",
              "      <td>Product Name</td>\n",
              "      <td>118</td>\n",
              "    </tr>\n",
              "    <tr>\n",
              "      <th>2</th>\n",
              "      <td>Category Name</td>\n",
              "      <td>50</td>\n",
              "    </tr>\n",
              "    <tr>\n",
              "      <th>10</th>\n",
              "      <td>Customer State</td>\n",
              "      <td>46</td>\n",
              "    </tr>\n",
              "    <tr>\n",
              "      <th>17</th>\n",
              "      <td>Order Region</td>\n",
              "      <td>23</td>\n",
              "    </tr>\n",
              "    <tr>\n",
              "      <th>12</th>\n",
              "      <td>Department Name</td>\n",
              "      <td>11</td>\n",
              "    </tr>\n",
              "    <tr>\n",
              "      <th>19</th>\n",
              "      <td>Order Status</td>\n",
              "      <td>9</td>\n",
              "    </tr>\n",
              "    <tr>\n",
              "      <th>13</th>\n",
              "      <td>Market</td>\n",
              "      <td>5</td>\n",
              "    </tr>\n",
              "    <tr>\n",
              "      <th>0</th>\n",
              "      <td>Type</td>\n",
              "      <td>4</td>\n",
              "    </tr>\n",
              "    <tr>\n",
              "      <th>1</th>\n",
              "      <td>Delivery Status</td>\n",
              "      <td>4</td>\n",
              "    </tr>\n",
              "    <tr>\n",
              "      <th>23</th>\n",
              "      <td>Shipping Mode</td>\n",
              "      <td>4</td>\n",
              "    </tr>\n",
              "    <tr>\n",
              "      <th>9</th>\n",
              "      <td>Customer Segment</td>\n",
              "      <td>3</td>\n",
              "    </tr>\n",
              "    <tr>\n",
              "      <th>4</th>\n",
              "      <td>Customer Country</td>\n",
              "      <td>2</td>\n",
              "    </tr>\n",
              "    <tr>\n",
              "      <th>8</th>\n",
              "      <td>Customer Password</td>\n",
              "      <td>1</td>\n",
              "    </tr>\n",
              "    <tr>\n",
              "      <th>5</th>\n",
              "      <td>Customer Email</td>\n",
              "      <td>1</td>\n",
              "    </tr>\n",
              "  </tbody>\n",
              "</table>\n",
              "</div>\n",
              "      <button class=\"colab-df-convert\" onclick=\"convertToInteractive('df-c9897800-4bbd-465a-9c2f-10820bc5a9d9')\"\n",
              "              title=\"Convert this dataframe to an interactive table.\"\n",
              "              style=\"display:none;\">\n",
              "        \n",
              "  <svg xmlns=\"http://www.w3.org/2000/svg\" height=\"24px\"viewBox=\"0 0 24 24\"\n",
              "       width=\"24px\">\n",
              "    <path d=\"M0 0h24v24H0V0z\" fill=\"none\"/>\n",
              "    <path d=\"M18.56 5.44l.94 2.06.94-2.06 2.06-.94-2.06-.94-.94-2.06-.94 2.06-2.06.94zm-11 1L8.5 8.5l.94-2.06 2.06-.94-2.06-.94L8.5 2.5l-.94 2.06-2.06.94zm10 10l.94 2.06.94-2.06 2.06-.94-2.06-.94-.94-2.06-.94 2.06-2.06.94z\"/><path d=\"M17.41 7.96l-1.37-1.37c-.4-.4-.92-.59-1.43-.59-.52 0-1.04.2-1.43.59L10.3 9.45l-7.72 7.72c-.78.78-.78 2.05 0 2.83L4 21.41c.39.39.9.59 1.41.59.51 0 1.02-.2 1.41-.59l7.78-7.78 2.81-2.81c.8-.78.8-2.07 0-2.86zM5.41 20L4 18.59l7.72-7.72 1.47 1.35L5.41 20z\"/>\n",
              "  </svg>\n",
              "      </button>\n",
              "      \n",
              "  <style>\n",
              "    .colab-df-container {\n",
              "      display:flex;\n",
              "      flex-wrap:wrap;\n",
              "      gap: 12px;\n",
              "    }\n",
              "\n",
              "    .colab-df-convert {\n",
              "      background-color: #E8F0FE;\n",
              "      border: none;\n",
              "      border-radius: 50%;\n",
              "      cursor: pointer;\n",
              "      display: none;\n",
              "      fill: #1967D2;\n",
              "      height: 32px;\n",
              "      padding: 0 0 0 0;\n",
              "      width: 32px;\n",
              "    }\n",
              "\n",
              "    .colab-df-convert:hover {\n",
              "      background-color: #E2EBFA;\n",
              "      box-shadow: 0px 1px 2px rgba(60, 64, 67, 0.3), 0px 1px 3px 1px rgba(60, 64, 67, 0.15);\n",
              "      fill: #174EA6;\n",
              "    }\n",
              "\n",
              "    [theme=dark] .colab-df-convert {\n",
              "      background-color: #3B4455;\n",
              "      fill: #D2E3FC;\n",
              "    }\n",
              "\n",
              "    [theme=dark] .colab-df-convert:hover {\n",
              "      background-color: #434B5C;\n",
              "      box-shadow: 0px 1px 3px 1px rgba(0, 0, 0, 0.15);\n",
              "      filter: drop-shadow(0px 1px 2px rgba(0, 0, 0, 0.3));\n",
              "      fill: #FFFFFF;\n",
              "    }\n",
              "  </style>\n",
              "\n",
              "      <script>\n",
              "        const buttonEl =\n",
              "          document.querySelector('#df-c9897800-4bbd-465a-9c2f-10820bc5a9d9 button.colab-df-convert');\n",
              "        buttonEl.style.display =\n",
              "          google.colab.kernel.accessAllowed ? 'block' : 'none';\n",
              "\n",
              "        async function convertToInteractive(key) {\n",
              "          const element = document.querySelector('#df-c9897800-4bbd-465a-9c2f-10820bc5a9d9');\n",
              "          const dataTable =\n",
              "            await google.colab.kernel.invokeFunction('convertToInteractive',\n",
              "                                                     [key], {});\n",
              "          if (!dataTable) return;\n",
              "\n",
              "          const docLinkHtml = 'Like what you see? Visit the ' +\n",
              "            '<a target=\"_blank\" href=https://colab.research.google.com/notebooks/data_table.ipynb>data table notebook</a>'\n",
              "            + ' to learn more about interactive tables.';\n",
              "          element.innerHTML = '';\n",
              "          dataTable['output_type'] = 'display_data';\n",
              "          await google.colab.output.renderOutput(dataTable, element);\n",
              "          const docLink = document.createElement('div');\n",
              "          docLink.innerHTML = docLinkHtml;\n",
              "          element.appendChild(docLink);\n",
              "        }\n",
              "      </script>\n",
              "    </div>\n",
              "  </div>\n",
              "  "
            ]
          },
          "metadata": {},
          "execution_count": 9
        }
      ],
      "source": [
        "columns_name =[]\n",
        "unique_value=[]\n",
        "# Iterate through the columns\n",
        "for col in data:\n",
        "    if data[col].dtype == 'object':\n",
        "        # If 2 or fewer unique categories\n",
        "        columns_name.append(str(col)) \n",
        "        unique_value.append(data[col].nunique())\n",
        "table= pd.DataFrame()\n",
        "table['Columns'] = columns_name\n",
        "table['Unique']= unique_value\n",
        "            \n",
        "table=table.sort_values('Unique',ascending=False)\n",
        "table"
      ]
    },
    {
      "cell_type": "markdown",
      "metadata": {
        "id": "QzVRwPoM-GPh"
      },
      "source": [
        "From what we can see, the data have so many columns with high cardinality, we need to encoding these columns using domain knowledge."
      ]
    },
    {
      "cell_type": "code",
      "execution_count": null,
      "metadata": {
        "colab": {
          "base_uri": "https://localhost:8080/"
        },
        "id": "2NSkx7qB7v1K",
        "outputId": "6b570e25-e2aa-4815-b998-e78cfdacb197"
      },
      "outputs": [
        {
          "output_type": "execute_result",
          "data": {
            "text/plain": [
              "       Type  Days for shipping (real)  Days for shipment (scheduled)  \\\n",
              "0     DEBIT                         3                              4   \n",
              "1  TRANSFER                         5                              4   \n",
              "2      CASH                         4                              4   \n",
              "3     DEBIT                         3                              4   \n",
              "4   PAYMENT                         2                              4   \n",
              "\n",
              "   Benefit per order  Sales per customer   Delivery Status  \\\n",
              "0          91.250000          314.640015  Advance shipping   \n",
              "1        -249.089996          311.359985     Late delivery   \n",
              "2        -247.779999          309.720001  Shipping on time   \n",
              "3          22.860001          304.809998  Advance shipping   \n",
              "4         134.210007          298.250000  Advance shipping   \n",
              "\n",
              "   Late_delivery_risk  Category Id   Category Name Customer City  ...  \\\n",
              "0                   0           73  Sporting Goods        Caguas  ...   \n",
              "1                   1           73  Sporting Goods        Caguas  ...   \n",
              "2                   0           73  Sporting Goods      San Jose  ...   \n",
              "3                   0           73  Sporting Goods   Los Angeles  ...   \n",
              "4                   0           73  Sporting Goods        Caguas  ...   \n",
              "\n",
              "  Order Zipcode Product Card Id Product Category Id  Product Description  \\\n",
              "0           NaN            1360                  73                  NaN   \n",
              "1           NaN            1360                  73                  NaN   \n",
              "2           NaN            1360                  73                  NaN   \n",
              "3           NaN            1360                  73                  NaN   \n",
              "4           NaN            1360                  73                  NaN   \n",
              "\n",
              "                                  Product Image  Product Name Product Price  \\\n",
              "0  http://images.acmesports.sports/Smart+watch   Smart watch         327.75   \n",
              "1  http://images.acmesports.sports/Smart+watch   Smart watch         327.75   \n",
              "2  http://images.acmesports.sports/Smart+watch   Smart watch         327.75   \n",
              "3  http://images.acmesports.sports/Smart+watch   Smart watch         327.75   \n",
              "4  http://images.acmesports.sports/Smart+watch   Smart watch         327.75   \n",
              "\n",
              "  Product Status shipping date (DateOrders)   Shipping Mode  \n",
              "0              0             02/03/18 22:56  Standard Class  \n",
              "1              0            1/18/2018 12:27  Standard Class  \n",
              "2              0            1/17/2018 12:06  Standard Class  \n",
              "3              0            1/16/2018 11:45  Standard Class  \n",
              "4              0            1/15/2018 11:24  Standard Class  \n",
              "\n",
              "[5 rows x 53 columns]"
            ],
            "text/html": [
              "\n",
              "  <div id=\"df-c77f02cc-8984-4cdd-84a3-dc25a8941b8b\">\n",
              "    <div class=\"colab-df-container\">\n",
              "      <div>\n",
              "<style scoped>\n",
              "    .dataframe tbody tr th:only-of-type {\n",
              "        vertical-align: middle;\n",
              "    }\n",
              "\n",
              "    .dataframe tbody tr th {\n",
              "        vertical-align: top;\n",
              "    }\n",
              "\n",
              "    .dataframe thead th {\n",
              "        text-align: right;\n",
              "    }\n",
              "</style>\n",
              "<table border=\"1\" class=\"dataframe\">\n",
              "  <thead>\n",
              "    <tr style=\"text-align: right;\">\n",
              "      <th></th>\n",
              "      <th>Type</th>\n",
              "      <th>Days for shipping (real)</th>\n",
              "      <th>Days for shipment (scheduled)</th>\n",
              "      <th>Benefit per order</th>\n",
              "      <th>Sales per customer</th>\n",
              "      <th>Delivery Status</th>\n",
              "      <th>Late_delivery_risk</th>\n",
              "      <th>Category Id</th>\n",
              "      <th>Category Name</th>\n",
              "      <th>Customer City</th>\n",
              "      <th>...</th>\n",
              "      <th>Order Zipcode</th>\n",
              "      <th>Product Card Id</th>\n",
              "      <th>Product Category Id</th>\n",
              "      <th>Product Description</th>\n",
              "      <th>Product Image</th>\n",
              "      <th>Product Name</th>\n",
              "      <th>Product Price</th>\n",
              "      <th>Product Status</th>\n",
              "      <th>shipping date (DateOrders)</th>\n",
              "      <th>Shipping Mode</th>\n",
              "    </tr>\n",
              "  </thead>\n",
              "  <tbody>\n",
              "    <tr>\n",
              "      <th>0</th>\n",
              "      <td>DEBIT</td>\n",
              "      <td>3</td>\n",
              "      <td>4</td>\n",
              "      <td>91.250000</td>\n",
              "      <td>314.640015</td>\n",
              "      <td>Advance shipping</td>\n",
              "      <td>0</td>\n",
              "      <td>73</td>\n",
              "      <td>Sporting Goods</td>\n",
              "      <td>Caguas</td>\n",
              "      <td>...</td>\n",
              "      <td>NaN</td>\n",
              "      <td>1360</td>\n",
              "      <td>73</td>\n",
              "      <td>NaN</td>\n",
              "      <td>http://images.acmesports.sports/Smart+watch</td>\n",
              "      <td>Smart watch</td>\n",
              "      <td>327.75</td>\n",
              "      <td>0</td>\n",
              "      <td>02/03/18 22:56</td>\n",
              "      <td>Standard Class</td>\n",
              "    </tr>\n",
              "    <tr>\n",
              "      <th>1</th>\n",
              "      <td>TRANSFER</td>\n",
              "      <td>5</td>\n",
              "      <td>4</td>\n",
              "      <td>-249.089996</td>\n",
              "      <td>311.359985</td>\n",
              "      <td>Late delivery</td>\n",
              "      <td>1</td>\n",
              "      <td>73</td>\n",
              "      <td>Sporting Goods</td>\n",
              "      <td>Caguas</td>\n",
              "      <td>...</td>\n",
              "      <td>NaN</td>\n",
              "      <td>1360</td>\n",
              "      <td>73</td>\n",
              "      <td>NaN</td>\n",
              "      <td>http://images.acmesports.sports/Smart+watch</td>\n",
              "      <td>Smart watch</td>\n",
              "      <td>327.75</td>\n",
              "      <td>0</td>\n",
              "      <td>1/18/2018 12:27</td>\n",
              "      <td>Standard Class</td>\n",
              "    </tr>\n",
              "    <tr>\n",
              "      <th>2</th>\n",
              "      <td>CASH</td>\n",
              "      <td>4</td>\n",
              "      <td>4</td>\n",
              "      <td>-247.779999</td>\n",
              "      <td>309.720001</td>\n",
              "      <td>Shipping on time</td>\n",
              "      <td>0</td>\n",
              "      <td>73</td>\n",
              "      <td>Sporting Goods</td>\n",
              "      <td>San Jose</td>\n",
              "      <td>...</td>\n",
              "      <td>NaN</td>\n",
              "      <td>1360</td>\n",
              "      <td>73</td>\n",
              "      <td>NaN</td>\n",
              "      <td>http://images.acmesports.sports/Smart+watch</td>\n",
              "      <td>Smart watch</td>\n",
              "      <td>327.75</td>\n",
              "      <td>0</td>\n",
              "      <td>1/17/2018 12:06</td>\n",
              "      <td>Standard Class</td>\n",
              "    </tr>\n",
              "    <tr>\n",
              "      <th>3</th>\n",
              "      <td>DEBIT</td>\n",
              "      <td>3</td>\n",
              "      <td>4</td>\n",
              "      <td>22.860001</td>\n",
              "      <td>304.809998</td>\n",
              "      <td>Advance shipping</td>\n",
              "      <td>0</td>\n",
              "      <td>73</td>\n",
              "      <td>Sporting Goods</td>\n",
              "      <td>Los Angeles</td>\n",
              "      <td>...</td>\n",
              "      <td>NaN</td>\n",
              "      <td>1360</td>\n",
              "      <td>73</td>\n",
              "      <td>NaN</td>\n",
              "      <td>http://images.acmesports.sports/Smart+watch</td>\n",
              "      <td>Smart watch</td>\n",
              "      <td>327.75</td>\n",
              "      <td>0</td>\n",
              "      <td>1/16/2018 11:45</td>\n",
              "      <td>Standard Class</td>\n",
              "    </tr>\n",
              "    <tr>\n",
              "      <th>4</th>\n",
              "      <td>PAYMENT</td>\n",
              "      <td>2</td>\n",
              "      <td>4</td>\n",
              "      <td>134.210007</td>\n",
              "      <td>298.250000</td>\n",
              "      <td>Advance shipping</td>\n",
              "      <td>0</td>\n",
              "      <td>73</td>\n",
              "      <td>Sporting Goods</td>\n",
              "      <td>Caguas</td>\n",
              "      <td>...</td>\n",
              "      <td>NaN</td>\n",
              "      <td>1360</td>\n",
              "      <td>73</td>\n",
              "      <td>NaN</td>\n",
              "      <td>http://images.acmesports.sports/Smart+watch</td>\n",
              "      <td>Smart watch</td>\n",
              "      <td>327.75</td>\n",
              "      <td>0</td>\n",
              "      <td>1/15/2018 11:24</td>\n",
              "      <td>Standard Class</td>\n",
              "    </tr>\n",
              "  </tbody>\n",
              "</table>\n",
              "<p>5 rows × 53 columns</p>\n",
              "</div>\n",
              "      <button class=\"colab-df-convert\" onclick=\"convertToInteractive('df-c77f02cc-8984-4cdd-84a3-dc25a8941b8b')\"\n",
              "              title=\"Convert this dataframe to an interactive table.\"\n",
              "              style=\"display:none;\">\n",
              "        \n",
              "  <svg xmlns=\"http://www.w3.org/2000/svg\" height=\"24px\"viewBox=\"0 0 24 24\"\n",
              "       width=\"24px\">\n",
              "    <path d=\"M0 0h24v24H0V0z\" fill=\"none\"/>\n",
              "    <path d=\"M18.56 5.44l.94 2.06.94-2.06 2.06-.94-2.06-.94-.94-2.06-.94 2.06-2.06.94zm-11 1L8.5 8.5l.94-2.06 2.06-.94-2.06-.94L8.5 2.5l-.94 2.06-2.06.94zm10 10l.94 2.06.94-2.06 2.06-.94-2.06-.94-.94-2.06-.94 2.06-2.06.94z\"/><path d=\"M17.41 7.96l-1.37-1.37c-.4-.4-.92-.59-1.43-.59-.52 0-1.04.2-1.43.59L10.3 9.45l-7.72 7.72c-.78.78-.78 2.05 0 2.83L4 21.41c.39.39.9.59 1.41.59.51 0 1.02-.2 1.41-.59l7.78-7.78 2.81-2.81c.8-.78.8-2.07 0-2.86zM5.41 20L4 18.59l7.72-7.72 1.47 1.35L5.41 20z\"/>\n",
              "  </svg>\n",
              "      </button>\n",
              "      \n",
              "  <style>\n",
              "    .colab-df-container {\n",
              "      display:flex;\n",
              "      flex-wrap:wrap;\n",
              "      gap: 12px;\n",
              "    }\n",
              "\n",
              "    .colab-df-convert {\n",
              "      background-color: #E8F0FE;\n",
              "      border: none;\n",
              "      border-radius: 50%;\n",
              "      cursor: pointer;\n",
              "      display: none;\n",
              "      fill: #1967D2;\n",
              "      height: 32px;\n",
              "      padding: 0 0 0 0;\n",
              "      width: 32px;\n",
              "    }\n",
              "\n",
              "    .colab-df-convert:hover {\n",
              "      background-color: #E2EBFA;\n",
              "      box-shadow: 0px 1px 2px rgba(60, 64, 67, 0.3), 0px 1px 3px 1px rgba(60, 64, 67, 0.15);\n",
              "      fill: #174EA6;\n",
              "    }\n",
              "\n",
              "    [theme=dark] .colab-df-convert {\n",
              "      background-color: #3B4455;\n",
              "      fill: #D2E3FC;\n",
              "    }\n",
              "\n",
              "    [theme=dark] .colab-df-convert:hover {\n",
              "      background-color: #434B5C;\n",
              "      box-shadow: 0px 1px 3px 1px rgba(0, 0, 0, 0.15);\n",
              "      filter: drop-shadow(0px 1px 2px rgba(0, 0, 0, 0.3));\n",
              "      fill: #FFFFFF;\n",
              "    }\n",
              "  </style>\n",
              "\n",
              "      <script>\n",
              "        const buttonEl =\n",
              "          document.querySelector('#df-c77f02cc-8984-4cdd-84a3-dc25a8941b8b button.colab-df-convert');\n",
              "        buttonEl.style.display =\n",
              "          google.colab.kernel.accessAllowed ? 'block' : 'none';\n",
              "\n",
              "        async function convertToInteractive(key) {\n",
              "          const element = document.querySelector('#df-c77f02cc-8984-4cdd-84a3-dc25a8941b8b');\n",
              "          const dataTable =\n",
              "            await google.colab.kernel.invokeFunction('convertToInteractive',\n",
              "                                                     [key], {});\n",
              "          if (!dataTable) return;\n",
              "\n",
              "          const docLinkHtml = 'Like what you see? Visit the ' +\n",
              "            '<a target=\"_blank\" href=https://colab.research.google.com/notebooks/data_table.ipynb>data table notebook</a>'\n",
              "            + ' to learn more about interactive tables.';\n",
              "          element.innerHTML = '';\n",
              "          dataTable['output_type'] = 'display_data';\n",
              "          await google.colab.output.renderOutput(dataTable, element);\n",
              "          const docLink = document.createElement('div');\n",
              "          docLink.innerHTML = docLinkHtml;\n",
              "          element.appendChild(docLink);\n",
              "        }\n",
              "      </script>\n",
              "    </div>\n",
              "  </div>\n",
              "  "
            ]
          },
          "metadata": {},
          "execution_count": 10
        }
      ],
      "source": [
        "data.head()"
      ]
    },
    {
      "cell_type": "markdown",
      "metadata": {
        "id": "D5MjTv2MCsSk"
      },
      "source": [
        "There is few changes we need to perform before starting analysis. First, we need to make date columns change from object to datetime."
      ]
    },
    {
      "cell_type": "code",
      "execution_count": null,
      "metadata": {
        "id": "3CPiyt_nCpjM"
      },
      "outputs": [],
      "source": [
        "# Change all date data to date format and take only date\n",
        "data['order date (DateOrders)'] = pd.to_datetime(data['order date (DateOrders)']).dt.date\n",
        "data['order date (DateOrders)'] = pd.to_datetime(data['order date (DateOrders)'])\n",
        "data['shipping date (DateOrders)'] = pd.to_datetime(data['shipping date (DateOrders)']).dt.date\n",
        "data['shipping date (DateOrders)'] = pd.to_datetime(data['shipping date (DateOrders)'])"
      ]
    },
    {
      "cell_type": "markdown",
      "metadata": {
        "id": "9gLEzz9nDCLq"
      },
      "source": [
        "Next, one more change, we can make one columns to help determine transaction is suspected fraud or not."
      ]
    },
    {
      "cell_type": "code",
      "execution_count": null,
      "metadata": {
        "id": "_R5BLWKkDBWD"
      },
      "outputs": [],
      "source": [
        "# Make new column for late fulfillment and suspected fraud\n",
        "data['SUSPECTED_FRAUD'] = np.where(data['Order Status'] == 'SUSPECTED_FRAUD', 1, 0)"
      ]
    },
    {
      "cell_type": "code",
      "execution_count": null,
      "metadata": {
        "colab": {
          "base_uri": "https://localhost:8080/"
        },
        "id": "c4x-9BHsDOHR",
        "outputId": "506cfc45-cd2f-4659-c832-5c41ab8b265c"
      },
      "outputs": [
        {
          "output_type": "execute_result",
          "data": {
            "text/plain": [
              "       Type  Days for shipping (real)  Days for shipment (scheduled)  \\\n",
              "0     DEBIT                         3                              4   \n",
              "1  TRANSFER                         5                              4   \n",
              "2      CASH                         4                              4   \n",
              "3     DEBIT                         3                              4   \n",
              "4   PAYMENT                         2                              4   \n",
              "\n",
              "   Benefit per order  Sales per customer   Delivery Status  \\\n",
              "0          91.250000          314.640015  Advance shipping   \n",
              "1        -249.089996          311.359985     Late delivery   \n",
              "2        -247.779999          309.720001  Shipping on time   \n",
              "3          22.860001          304.809998  Advance shipping   \n",
              "4         134.210007          298.250000  Advance shipping   \n",
              "\n",
              "   Late_delivery_risk  Category Id   Category Name Customer City  ...  \\\n",
              "0                   0           73  Sporting Goods        Caguas  ...   \n",
              "1                   1           73  Sporting Goods        Caguas  ...   \n",
              "2                   0           73  Sporting Goods      San Jose  ...   \n",
              "3                   0           73  Sporting Goods   Los Angeles  ...   \n",
              "4                   0           73  Sporting Goods        Caguas  ...   \n",
              "\n",
              "  Product Card Id Product Category Id Product Description  \\\n",
              "0            1360                  73                 NaN   \n",
              "1            1360                  73                 NaN   \n",
              "2            1360                  73                 NaN   \n",
              "3            1360                  73                 NaN   \n",
              "4            1360                  73                 NaN   \n",
              "\n",
              "                                  Product Image  Product Name Product Price  \\\n",
              "0  http://images.acmesports.sports/Smart+watch   Smart watch         327.75   \n",
              "1  http://images.acmesports.sports/Smart+watch   Smart watch         327.75   \n",
              "2  http://images.acmesports.sports/Smart+watch   Smart watch         327.75   \n",
              "3  http://images.acmesports.sports/Smart+watch   Smart watch         327.75   \n",
              "4  http://images.acmesports.sports/Smart+watch   Smart watch         327.75   \n",
              "\n",
              "  Product Status shipping date (DateOrders)   Shipping Mode  SUSPECTED_FRAUD  \n",
              "0              0                 2018-02-03  Standard Class                0  \n",
              "1              0                 2018-01-18  Standard Class                0  \n",
              "2              0                 2018-01-17  Standard Class                0  \n",
              "3              0                 2018-01-16  Standard Class                0  \n",
              "4              0                 2018-01-15  Standard Class                0  \n",
              "\n",
              "[5 rows x 54 columns]"
            ],
            "text/html": [
              "\n",
              "  <div id=\"df-b0b46a06-ae42-41e2-ab7d-1e99aef8b520\">\n",
              "    <div class=\"colab-df-container\">\n",
              "      <div>\n",
              "<style scoped>\n",
              "    .dataframe tbody tr th:only-of-type {\n",
              "        vertical-align: middle;\n",
              "    }\n",
              "\n",
              "    .dataframe tbody tr th {\n",
              "        vertical-align: top;\n",
              "    }\n",
              "\n",
              "    .dataframe thead th {\n",
              "        text-align: right;\n",
              "    }\n",
              "</style>\n",
              "<table border=\"1\" class=\"dataframe\">\n",
              "  <thead>\n",
              "    <tr style=\"text-align: right;\">\n",
              "      <th></th>\n",
              "      <th>Type</th>\n",
              "      <th>Days for shipping (real)</th>\n",
              "      <th>Days for shipment (scheduled)</th>\n",
              "      <th>Benefit per order</th>\n",
              "      <th>Sales per customer</th>\n",
              "      <th>Delivery Status</th>\n",
              "      <th>Late_delivery_risk</th>\n",
              "      <th>Category Id</th>\n",
              "      <th>Category Name</th>\n",
              "      <th>Customer City</th>\n",
              "      <th>...</th>\n",
              "      <th>Product Card Id</th>\n",
              "      <th>Product Category Id</th>\n",
              "      <th>Product Description</th>\n",
              "      <th>Product Image</th>\n",
              "      <th>Product Name</th>\n",
              "      <th>Product Price</th>\n",
              "      <th>Product Status</th>\n",
              "      <th>shipping date (DateOrders)</th>\n",
              "      <th>Shipping Mode</th>\n",
              "      <th>SUSPECTED_FRAUD</th>\n",
              "    </tr>\n",
              "  </thead>\n",
              "  <tbody>\n",
              "    <tr>\n",
              "      <th>0</th>\n",
              "      <td>DEBIT</td>\n",
              "      <td>3</td>\n",
              "      <td>4</td>\n",
              "      <td>91.250000</td>\n",
              "      <td>314.640015</td>\n",
              "      <td>Advance shipping</td>\n",
              "      <td>0</td>\n",
              "      <td>73</td>\n",
              "      <td>Sporting Goods</td>\n",
              "      <td>Caguas</td>\n",
              "      <td>...</td>\n",
              "      <td>1360</td>\n",
              "      <td>73</td>\n",
              "      <td>NaN</td>\n",
              "      <td>http://images.acmesports.sports/Smart+watch</td>\n",
              "      <td>Smart watch</td>\n",
              "      <td>327.75</td>\n",
              "      <td>0</td>\n",
              "      <td>2018-02-03</td>\n",
              "      <td>Standard Class</td>\n",
              "      <td>0</td>\n",
              "    </tr>\n",
              "    <tr>\n",
              "      <th>1</th>\n",
              "      <td>TRANSFER</td>\n",
              "      <td>5</td>\n",
              "      <td>4</td>\n",
              "      <td>-249.089996</td>\n",
              "      <td>311.359985</td>\n",
              "      <td>Late delivery</td>\n",
              "      <td>1</td>\n",
              "      <td>73</td>\n",
              "      <td>Sporting Goods</td>\n",
              "      <td>Caguas</td>\n",
              "      <td>...</td>\n",
              "      <td>1360</td>\n",
              "      <td>73</td>\n",
              "      <td>NaN</td>\n",
              "      <td>http://images.acmesports.sports/Smart+watch</td>\n",
              "      <td>Smart watch</td>\n",
              "      <td>327.75</td>\n",
              "      <td>0</td>\n",
              "      <td>2018-01-18</td>\n",
              "      <td>Standard Class</td>\n",
              "      <td>0</td>\n",
              "    </tr>\n",
              "    <tr>\n",
              "      <th>2</th>\n",
              "      <td>CASH</td>\n",
              "      <td>4</td>\n",
              "      <td>4</td>\n",
              "      <td>-247.779999</td>\n",
              "      <td>309.720001</td>\n",
              "      <td>Shipping on time</td>\n",
              "      <td>0</td>\n",
              "      <td>73</td>\n",
              "      <td>Sporting Goods</td>\n",
              "      <td>San Jose</td>\n",
              "      <td>...</td>\n",
              "      <td>1360</td>\n",
              "      <td>73</td>\n",
              "      <td>NaN</td>\n",
              "      <td>http://images.acmesports.sports/Smart+watch</td>\n",
              "      <td>Smart watch</td>\n",
              "      <td>327.75</td>\n",
              "      <td>0</td>\n",
              "      <td>2018-01-17</td>\n",
              "      <td>Standard Class</td>\n",
              "      <td>0</td>\n",
              "    </tr>\n",
              "    <tr>\n",
              "      <th>3</th>\n",
              "      <td>DEBIT</td>\n",
              "      <td>3</td>\n",
              "      <td>4</td>\n",
              "      <td>22.860001</td>\n",
              "      <td>304.809998</td>\n",
              "      <td>Advance shipping</td>\n",
              "      <td>0</td>\n",
              "      <td>73</td>\n",
              "      <td>Sporting Goods</td>\n",
              "      <td>Los Angeles</td>\n",
              "      <td>...</td>\n",
              "      <td>1360</td>\n",
              "      <td>73</td>\n",
              "      <td>NaN</td>\n",
              "      <td>http://images.acmesports.sports/Smart+watch</td>\n",
              "      <td>Smart watch</td>\n",
              "      <td>327.75</td>\n",
              "      <td>0</td>\n",
              "      <td>2018-01-16</td>\n",
              "      <td>Standard Class</td>\n",
              "      <td>0</td>\n",
              "    </tr>\n",
              "    <tr>\n",
              "      <th>4</th>\n",
              "      <td>PAYMENT</td>\n",
              "      <td>2</td>\n",
              "      <td>4</td>\n",
              "      <td>134.210007</td>\n",
              "      <td>298.250000</td>\n",
              "      <td>Advance shipping</td>\n",
              "      <td>0</td>\n",
              "      <td>73</td>\n",
              "      <td>Sporting Goods</td>\n",
              "      <td>Caguas</td>\n",
              "      <td>...</td>\n",
              "      <td>1360</td>\n",
              "      <td>73</td>\n",
              "      <td>NaN</td>\n",
              "      <td>http://images.acmesports.sports/Smart+watch</td>\n",
              "      <td>Smart watch</td>\n",
              "      <td>327.75</td>\n",
              "      <td>0</td>\n",
              "      <td>2018-01-15</td>\n",
              "      <td>Standard Class</td>\n",
              "      <td>0</td>\n",
              "    </tr>\n",
              "  </tbody>\n",
              "</table>\n",
              "<p>5 rows × 54 columns</p>\n",
              "</div>\n",
              "      <button class=\"colab-df-convert\" onclick=\"convertToInteractive('df-b0b46a06-ae42-41e2-ab7d-1e99aef8b520')\"\n",
              "              title=\"Convert this dataframe to an interactive table.\"\n",
              "              style=\"display:none;\">\n",
              "        \n",
              "  <svg xmlns=\"http://www.w3.org/2000/svg\" height=\"24px\"viewBox=\"0 0 24 24\"\n",
              "       width=\"24px\">\n",
              "    <path d=\"M0 0h24v24H0V0z\" fill=\"none\"/>\n",
              "    <path d=\"M18.56 5.44l.94 2.06.94-2.06 2.06-.94-2.06-.94-.94-2.06-.94 2.06-2.06.94zm-11 1L8.5 8.5l.94-2.06 2.06-.94-2.06-.94L8.5 2.5l-.94 2.06-2.06.94zm10 10l.94 2.06.94-2.06 2.06-.94-2.06-.94-.94-2.06-.94 2.06-2.06.94z\"/><path d=\"M17.41 7.96l-1.37-1.37c-.4-.4-.92-.59-1.43-.59-.52 0-1.04.2-1.43.59L10.3 9.45l-7.72 7.72c-.78.78-.78 2.05 0 2.83L4 21.41c.39.39.9.59 1.41.59.51 0 1.02-.2 1.41-.59l7.78-7.78 2.81-2.81c.8-.78.8-2.07 0-2.86zM5.41 20L4 18.59l7.72-7.72 1.47 1.35L5.41 20z\"/>\n",
              "  </svg>\n",
              "      </button>\n",
              "      \n",
              "  <style>\n",
              "    .colab-df-container {\n",
              "      display:flex;\n",
              "      flex-wrap:wrap;\n",
              "      gap: 12px;\n",
              "    }\n",
              "\n",
              "    .colab-df-convert {\n",
              "      background-color: #E8F0FE;\n",
              "      border: none;\n",
              "      border-radius: 50%;\n",
              "      cursor: pointer;\n",
              "      display: none;\n",
              "      fill: #1967D2;\n",
              "      height: 32px;\n",
              "      padding: 0 0 0 0;\n",
              "      width: 32px;\n",
              "    }\n",
              "\n",
              "    .colab-df-convert:hover {\n",
              "      background-color: #E2EBFA;\n",
              "      box-shadow: 0px 1px 2px rgba(60, 64, 67, 0.3), 0px 1px 3px 1px rgba(60, 64, 67, 0.15);\n",
              "      fill: #174EA6;\n",
              "    }\n",
              "\n",
              "    [theme=dark] .colab-df-convert {\n",
              "      background-color: #3B4455;\n",
              "      fill: #D2E3FC;\n",
              "    }\n",
              "\n",
              "    [theme=dark] .colab-df-convert:hover {\n",
              "      background-color: #434B5C;\n",
              "      box-shadow: 0px 1px 3px 1px rgba(0, 0, 0, 0.15);\n",
              "      filter: drop-shadow(0px 1px 2px rgba(0, 0, 0, 0.3));\n",
              "      fill: #FFFFFF;\n",
              "    }\n",
              "  </style>\n",
              "\n",
              "      <script>\n",
              "        const buttonEl =\n",
              "          document.querySelector('#df-b0b46a06-ae42-41e2-ab7d-1e99aef8b520 button.colab-df-convert');\n",
              "        buttonEl.style.display =\n",
              "          google.colab.kernel.accessAllowed ? 'block' : 'none';\n",
              "\n",
              "        async function convertToInteractive(key) {\n",
              "          const element = document.querySelector('#df-b0b46a06-ae42-41e2-ab7d-1e99aef8b520');\n",
              "          const dataTable =\n",
              "            await google.colab.kernel.invokeFunction('convertToInteractive',\n",
              "                                                     [key], {});\n",
              "          if (!dataTable) return;\n",
              "\n",
              "          const docLinkHtml = 'Like what you see? Visit the ' +\n",
              "            '<a target=\"_blank\" href=https://colab.research.google.com/notebooks/data_table.ipynb>data table notebook</a>'\n",
              "            + ' to learn more about interactive tables.';\n",
              "          element.innerHTML = '';\n",
              "          dataTable['output_type'] = 'display_data';\n",
              "          await google.colab.output.renderOutput(dataTable, element);\n",
              "          const docLink = document.createElement('div');\n",
              "          docLink.innerHTML = docLinkHtml;\n",
              "          element.appendChild(docLink);\n",
              "        }\n",
              "      </script>\n",
              "    </div>\n",
              "  </div>\n",
              "  "
            ]
          },
          "metadata": {},
          "execution_count": 13
        }
      ],
      "source": [
        "data.head()"
      ]
    },
    {
      "cell_type": "markdown",
      "metadata": {
        "id": "b-1hMoXQIRs_"
      },
      "source": [
        "## Resampling"
      ]
    },
    {
      "cell_type": "markdown",
      "metadata": {
        "id": "ESRPJfkYDSHV"
      },
      "source": [
        "For Late Delivery Risk analysis, we will use columns : Late_delivery_risk, Category Name, Market, Order City, Order Country, Order Item Quantity, Order Region, Shipping Mode."
      ]
    },
    {
      "cell_type": "code",
      "execution_count": null,
      "metadata": {
        "id": "Fpbm78EyDfHb"
      },
      "outputs": [],
      "source": [
        "# Make oversla dataframe\n",
        "df_over = data[['Order Id', 'Late_delivery_risk', 'Category Name', 'Market', 'Order City', 'Order Country', 'Order Item Quantity', 'Order Region', 'Shipping Mode']]"
      ]
    },
    {
      "cell_type": "code",
      "execution_count": null,
      "metadata": {
        "id": "RF-npaWeD35k"
      },
      "outputs": [],
      "source": [
        "# Data percentage train 80 : test 20\n",
        "X_over = df_over.drop(['Late_delivery_risk'],axis = 1)\n",
        "y_over = df_over['Late_delivery_risk']\n",
        "X_traino, X_testo, y_traino, y_testo = train_test_split(\n",
        "    X_over,\n",
        "    y_over,\n",
        "    test_size = 0.2,\n",
        "    stratify = y_over,\n",
        "    random_state = 1000\n",
        ")"
      ]
    },
    {
      "cell_type": "code",
      "execution_count": null,
      "metadata": {
        "id": "W2fg6mGDELKj"
      },
      "outputs": [],
      "source": [
        "# Make a new dataframe using train & test data for over\n",
        "train_df_xo = pd.DataFrame(X_traino, columns=df_over.drop(['Late_delivery_risk'], axis = 1).columns)\n",
        "train_df_yo = pd.DataFrame(y_traino, columns=['Late_delivery_risk'])\n",
        "train_dfo = pd.concat([train_df_xo, train_df_yo], axis=1)\n",
        "\n",
        "test_df_xo = pd.DataFrame(X_testo, columns=df_over.drop(['Late_delivery_risk'], axis = 1).columns)\n",
        "test_df_yo = pd.DataFrame(y_testo, columns=['Late_delivery_risk'])\n",
        "test_dfo = pd.concat([test_df_xo, test_df_yo], axis=1)"
      ]
    },
    {
      "cell_type": "code",
      "execution_count": null,
      "metadata": {
        "colab": {
          "base_uri": "https://localhost:8080/"
        },
        "id": "RX334_FBZEJ2",
        "outputId": "acd2f22d-f384-4b4c-aa87-5e85652dd262"
      },
      "outputs": [
        {
          "output_type": "execute_result",
          "data": {
            "text/plain": [
              "        Order Id         Category Name        Market     Order City  \\\n",
              "135982     43582       Women's Apparel        Europe            Ufa   \n",
              "143679     17043  Indoor/Outdoor Games        Europe       Valencia   \n",
              "53391      65751          Water Sports        Europe      Mansfield   \n",
              "161942     34218         Shop By Sport          USCA  San Francisco   \n",
              "157975     22340        Men's Footwear  Pacific Asia          Delhi   \n",
              "...          ...                   ...           ...            ...   \n",
              "140797     23458      Camping & Hiking  Pacific Asia        Yakarta   \n",
              "137863     58450               Fishing         LATAM       Jiutepec   \n",
              "118925     46577           Electronics        Africa     Alexandria   \n",
              "62818      22689        Girls' Apparel  Pacific Asia      Hyderabad   \n",
              "47597      19686         Shop By Sport        Europe     Valladolid   \n",
              "\n",
              "         Order Country  Order Item Quantity     Order Region   Shipping Mode  \\\n",
              "135982           Rusia                    3   Eastern Europe  Standard Class   \n",
              "143679          España                    2  Southern Europe     First Class   \n",
              "53391      Reino Unido                    1  Northern Europe  Standard Class   \n",
              "161942  Estados Unidos                    3     West of USA   Standard Class   \n",
              "157975           India                    1       South Asia    Second Class   \n",
              "...                ...                  ...              ...             ...   \n",
              "140797       Indonesia                    1   Southeast Asia  Standard Class   \n",
              "137863          México                    1  Central America    Second Class   \n",
              "118925          Egipto                    2     North Africa    Second Class   \n",
              "62818         Pakistán                    5       South Asia     First Class   \n",
              "47597           España                    4  Southern Europe  Standard Class   \n",
              "\n",
              "        Late_delivery_risk  \n",
              "135982                   0  \n",
              "143679                   1  \n",
              "53391                    0  \n",
              "161942                   0  \n",
              "157975                   1  \n",
              "...                    ...  \n",
              "140797                   0  \n",
              "137863                   1  \n",
              "118925                   1  \n",
              "62818                    1  \n",
              "47597                    0  \n",
              "\n",
              "[144415 rows x 9 columns]"
            ],
            "text/html": [
              "\n",
              "  <div id=\"df-b782b7bd-c56c-4160-8f8d-ff6bc632d7f2\">\n",
              "    <div class=\"colab-df-container\">\n",
              "      <div>\n",
              "<style scoped>\n",
              "    .dataframe tbody tr th:only-of-type {\n",
              "        vertical-align: middle;\n",
              "    }\n",
              "\n",
              "    .dataframe tbody tr th {\n",
              "        vertical-align: top;\n",
              "    }\n",
              "\n",
              "    .dataframe thead th {\n",
              "        text-align: right;\n",
              "    }\n",
              "</style>\n",
              "<table border=\"1\" class=\"dataframe\">\n",
              "  <thead>\n",
              "    <tr style=\"text-align: right;\">\n",
              "      <th></th>\n",
              "      <th>Order Id</th>\n",
              "      <th>Category Name</th>\n",
              "      <th>Market</th>\n",
              "      <th>Order City</th>\n",
              "      <th>Order Country</th>\n",
              "      <th>Order Item Quantity</th>\n",
              "      <th>Order Region</th>\n",
              "      <th>Shipping Mode</th>\n",
              "      <th>Late_delivery_risk</th>\n",
              "    </tr>\n",
              "  </thead>\n",
              "  <tbody>\n",
              "    <tr>\n",
              "      <th>135982</th>\n",
              "      <td>43582</td>\n",
              "      <td>Women's Apparel</td>\n",
              "      <td>Europe</td>\n",
              "      <td>Ufa</td>\n",
              "      <td>Rusia</td>\n",
              "      <td>3</td>\n",
              "      <td>Eastern Europe</td>\n",
              "      <td>Standard Class</td>\n",
              "      <td>0</td>\n",
              "    </tr>\n",
              "    <tr>\n",
              "      <th>143679</th>\n",
              "      <td>17043</td>\n",
              "      <td>Indoor/Outdoor Games</td>\n",
              "      <td>Europe</td>\n",
              "      <td>Valencia</td>\n",
              "      <td>España</td>\n",
              "      <td>2</td>\n",
              "      <td>Southern Europe</td>\n",
              "      <td>First Class</td>\n",
              "      <td>1</td>\n",
              "    </tr>\n",
              "    <tr>\n",
              "      <th>53391</th>\n",
              "      <td>65751</td>\n",
              "      <td>Water Sports</td>\n",
              "      <td>Europe</td>\n",
              "      <td>Mansfield</td>\n",
              "      <td>Reino Unido</td>\n",
              "      <td>1</td>\n",
              "      <td>Northern Europe</td>\n",
              "      <td>Standard Class</td>\n",
              "      <td>0</td>\n",
              "    </tr>\n",
              "    <tr>\n",
              "      <th>161942</th>\n",
              "      <td>34218</td>\n",
              "      <td>Shop By Sport</td>\n",
              "      <td>USCA</td>\n",
              "      <td>San Francisco</td>\n",
              "      <td>Estados Unidos</td>\n",
              "      <td>3</td>\n",
              "      <td>West of USA</td>\n",
              "      <td>Standard Class</td>\n",
              "      <td>0</td>\n",
              "    </tr>\n",
              "    <tr>\n",
              "      <th>157975</th>\n",
              "      <td>22340</td>\n",
              "      <td>Men's Footwear</td>\n",
              "      <td>Pacific Asia</td>\n",
              "      <td>Delhi</td>\n",
              "      <td>India</td>\n",
              "      <td>1</td>\n",
              "      <td>South Asia</td>\n",
              "      <td>Second Class</td>\n",
              "      <td>1</td>\n",
              "    </tr>\n",
              "    <tr>\n",
              "      <th>...</th>\n",
              "      <td>...</td>\n",
              "      <td>...</td>\n",
              "      <td>...</td>\n",
              "      <td>...</td>\n",
              "      <td>...</td>\n",
              "      <td>...</td>\n",
              "      <td>...</td>\n",
              "      <td>...</td>\n",
              "      <td>...</td>\n",
              "    </tr>\n",
              "    <tr>\n",
              "      <th>140797</th>\n",
              "      <td>23458</td>\n",
              "      <td>Camping &amp; Hiking</td>\n",
              "      <td>Pacific Asia</td>\n",
              "      <td>Yakarta</td>\n",
              "      <td>Indonesia</td>\n",
              "      <td>1</td>\n",
              "      <td>Southeast Asia</td>\n",
              "      <td>Standard Class</td>\n",
              "      <td>0</td>\n",
              "    </tr>\n",
              "    <tr>\n",
              "      <th>137863</th>\n",
              "      <td>58450</td>\n",
              "      <td>Fishing</td>\n",
              "      <td>LATAM</td>\n",
              "      <td>Jiutepec</td>\n",
              "      <td>México</td>\n",
              "      <td>1</td>\n",
              "      <td>Central America</td>\n",
              "      <td>Second Class</td>\n",
              "      <td>1</td>\n",
              "    </tr>\n",
              "    <tr>\n",
              "      <th>118925</th>\n",
              "      <td>46577</td>\n",
              "      <td>Electronics</td>\n",
              "      <td>Africa</td>\n",
              "      <td>Alexandria</td>\n",
              "      <td>Egipto</td>\n",
              "      <td>2</td>\n",
              "      <td>North Africa</td>\n",
              "      <td>Second Class</td>\n",
              "      <td>1</td>\n",
              "    </tr>\n",
              "    <tr>\n",
              "      <th>62818</th>\n",
              "      <td>22689</td>\n",
              "      <td>Girls' Apparel</td>\n",
              "      <td>Pacific Asia</td>\n",
              "      <td>Hyderabad</td>\n",
              "      <td>Pakistán</td>\n",
              "      <td>5</td>\n",
              "      <td>South Asia</td>\n",
              "      <td>First Class</td>\n",
              "      <td>1</td>\n",
              "    </tr>\n",
              "    <tr>\n",
              "      <th>47597</th>\n",
              "      <td>19686</td>\n",
              "      <td>Shop By Sport</td>\n",
              "      <td>Europe</td>\n",
              "      <td>Valladolid</td>\n",
              "      <td>España</td>\n",
              "      <td>4</td>\n",
              "      <td>Southern Europe</td>\n",
              "      <td>Standard Class</td>\n",
              "      <td>0</td>\n",
              "    </tr>\n",
              "  </tbody>\n",
              "</table>\n",
              "<p>144415 rows × 9 columns</p>\n",
              "</div>\n",
              "      <button class=\"colab-df-convert\" onclick=\"convertToInteractive('df-b782b7bd-c56c-4160-8f8d-ff6bc632d7f2')\"\n",
              "              title=\"Convert this dataframe to an interactive table.\"\n",
              "              style=\"display:none;\">\n",
              "        \n",
              "  <svg xmlns=\"http://www.w3.org/2000/svg\" height=\"24px\"viewBox=\"0 0 24 24\"\n",
              "       width=\"24px\">\n",
              "    <path d=\"M0 0h24v24H0V0z\" fill=\"none\"/>\n",
              "    <path d=\"M18.56 5.44l.94 2.06.94-2.06 2.06-.94-2.06-.94-.94-2.06-.94 2.06-2.06.94zm-11 1L8.5 8.5l.94-2.06 2.06-.94-2.06-.94L8.5 2.5l-.94 2.06-2.06.94zm10 10l.94 2.06.94-2.06 2.06-.94-2.06-.94-.94-2.06-.94 2.06-2.06.94z\"/><path d=\"M17.41 7.96l-1.37-1.37c-.4-.4-.92-.59-1.43-.59-.52 0-1.04.2-1.43.59L10.3 9.45l-7.72 7.72c-.78.78-.78 2.05 0 2.83L4 21.41c.39.39.9.59 1.41.59.51 0 1.02-.2 1.41-.59l7.78-7.78 2.81-2.81c.8-.78.8-2.07 0-2.86zM5.41 20L4 18.59l7.72-7.72 1.47 1.35L5.41 20z\"/>\n",
              "  </svg>\n",
              "      </button>\n",
              "      \n",
              "  <style>\n",
              "    .colab-df-container {\n",
              "      display:flex;\n",
              "      flex-wrap:wrap;\n",
              "      gap: 12px;\n",
              "    }\n",
              "\n",
              "    .colab-df-convert {\n",
              "      background-color: #E8F0FE;\n",
              "      border: none;\n",
              "      border-radius: 50%;\n",
              "      cursor: pointer;\n",
              "      display: none;\n",
              "      fill: #1967D2;\n",
              "      height: 32px;\n",
              "      padding: 0 0 0 0;\n",
              "      width: 32px;\n",
              "    }\n",
              "\n",
              "    .colab-df-convert:hover {\n",
              "      background-color: #E2EBFA;\n",
              "      box-shadow: 0px 1px 2px rgba(60, 64, 67, 0.3), 0px 1px 3px 1px rgba(60, 64, 67, 0.15);\n",
              "      fill: #174EA6;\n",
              "    }\n",
              "\n",
              "    [theme=dark] .colab-df-convert {\n",
              "      background-color: #3B4455;\n",
              "      fill: #D2E3FC;\n",
              "    }\n",
              "\n",
              "    [theme=dark] .colab-df-convert:hover {\n",
              "      background-color: #434B5C;\n",
              "      box-shadow: 0px 1px 3px 1px rgba(0, 0, 0, 0.15);\n",
              "      filter: drop-shadow(0px 1px 2px rgba(0, 0, 0, 0.3));\n",
              "      fill: #FFFFFF;\n",
              "    }\n",
              "  </style>\n",
              "\n",
              "      <script>\n",
              "        const buttonEl =\n",
              "          document.querySelector('#df-b782b7bd-c56c-4160-8f8d-ff6bc632d7f2 button.colab-df-convert');\n",
              "        buttonEl.style.display =\n",
              "          google.colab.kernel.accessAllowed ? 'block' : 'none';\n",
              "\n",
              "        async function convertToInteractive(key) {\n",
              "          const element = document.querySelector('#df-b782b7bd-c56c-4160-8f8d-ff6bc632d7f2');\n",
              "          const dataTable =\n",
              "            await google.colab.kernel.invokeFunction('convertToInteractive',\n",
              "                                                     [key], {});\n",
              "          if (!dataTable) return;\n",
              "\n",
              "          const docLinkHtml = 'Like what you see? Visit the ' +\n",
              "            '<a target=\"_blank\" href=https://colab.research.google.com/notebooks/data_table.ipynb>data table notebook</a>'\n",
              "            + ' to learn more about interactive tables.';\n",
              "          element.innerHTML = '';\n",
              "          dataTable['output_type'] = 'display_data';\n",
              "          await google.colab.output.renderOutput(dataTable, element);\n",
              "          const docLink = document.createElement('div');\n",
              "          docLink.innerHTML = docLinkHtml;\n",
              "          element.appendChild(docLink);\n",
              "        }\n",
              "      </script>\n",
              "    </div>\n",
              "  </div>\n",
              "  "
            ]
          },
          "metadata": {},
          "execution_count": 17
        }
      ],
      "source": [
        "train_dfo"
      ]
    },
    {
      "cell_type": "code",
      "execution_count": null,
      "metadata": {
        "colab": {
          "base_uri": "https://localhost:8080/"
        },
        "id": "GFPGgWdiZFvN",
        "outputId": "4f4f03b0-1cd3-44e0-8fa7-149b60361013"
      },
      "outputs": [
        {
          "output_type": "execute_result",
          "data": {
            "text/plain": [
              "        Order Id   Category Name        Market       Order City  \\\n",
              "129624     47801          Cleats        Europe         Katowice   \n",
              "38743      12532  Men's Footwear        Europe         Valencia   \n",
              "97586      59002  Men's Footwear         LATAM         Victoria   \n",
              "119329       480          Cleats         LATAM      Piedecuesta   \n",
              "169926     39886          Cleats          USCA     Philadelphia   \n",
              "...          ...             ...           ...              ...   \n",
              "120765     64647  Men's Footwear        Europe  Southend-on-Sea   \n",
              "25749      50004          Cleats        Europe         Astracán   \n",
              "33556      56343  Men's Footwear         LATAM       Chinandega   \n",
              "6509       23423   Shop By Sport  Pacific Asia           Daqing   \n",
              "176174      2067          Cleats         LATAM    San Miguelito   \n",
              "\n",
              "         Order Country  Order Item Quantity     Order Region   Shipping Mode  \\\n",
              "129624         Polonia                    4   Eastern Europe  Standard Class   \n",
              "38743           España                    1  Southern Europe  Standard Class   \n",
              "97586           México                    1  Central America    Second Class   \n",
              "119329        Colombia                    3    South America    Second Class   \n",
              "169926  Estados Unidos                    5      East of USA    Second Class   \n",
              "...                ...                  ...              ...             ...   \n",
              "120765     Reino Unido                    1  Northern Europe  Standard Class   \n",
              "25749            Rusia                    5   Eastern Europe     First Class   \n",
              "33556        Nicaragua                    1  Central America  Standard Class   \n",
              "6509             China                    2     Eastern Asia  Standard Class   \n",
              "176174          Panamá                    3  Central America     First Class   \n",
              "\n",
              "        Late_delivery_risk  \n",
              "129624                   0  \n",
              "38743                    0  \n",
              "97586                    1  \n",
              "119329                   1  \n",
              "169926                   0  \n",
              "...                    ...  \n",
              "120765                   0  \n",
              "25749                    1  \n",
              "33556                    0  \n",
              "6509                     0  \n",
              "176174                   1  \n",
              "\n",
              "[36104 rows x 9 columns]"
            ],
            "text/html": [
              "\n",
              "  <div id=\"df-f4f13400-c0f7-4946-ac47-40d59bef75df\">\n",
              "    <div class=\"colab-df-container\">\n",
              "      <div>\n",
              "<style scoped>\n",
              "    .dataframe tbody tr th:only-of-type {\n",
              "        vertical-align: middle;\n",
              "    }\n",
              "\n",
              "    .dataframe tbody tr th {\n",
              "        vertical-align: top;\n",
              "    }\n",
              "\n",
              "    .dataframe thead th {\n",
              "        text-align: right;\n",
              "    }\n",
              "</style>\n",
              "<table border=\"1\" class=\"dataframe\">\n",
              "  <thead>\n",
              "    <tr style=\"text-align: right;\">\n",
              "      <th></th>\n",
              "      <th>Order Id</th>\n",
              "      <th>Category Name</th>\n",
              "      <th>Market</th>\n",
              "      <th>Order City</th>\n",
              "      <th>Order Country</th>\n",
              "      <th>Order Item Quantity</th>\n",
              "      <th>Order Region</th>\n",
              "      <th>Shipping Mode</th>\n",
              "      <th>Late_delivery_risk</th>\n",
              "    </tr>\n",
              "  </thead>\n",
              "  <tbody>\n",
              "    <tr>\n",
              "      <th>129624</th>\n",
              "      <td>47801</td>\n",
              "      <td>Cleats</td>\n",
              "      <td>Europe</td>\n",
              "      <td>Katowice</td>\n",
              "      <td>Polonia</td>\n",
              "      <td>4</td>\n",
              "      <td>Eastern Europe</td>\n",
              "      <td>Standard Class</td>\n",
              "      <td>0</td>\n",
              "    </tr>\n",
              "    <tr>\n",
              "      <th>38743</th>\n",
              "      <td>12532</td>\n",
              "      <td>Men's Footwear</td>\n",
              "      <td>Europe</td>\n",
              "      <td>Valencia</td>\n",
              "      <td>España</td>\n",
              "      <td>1</td>\n",
              "      <td>Southern Europe</td>\n",
              "      <td>Standard Class</td>\n",
              "      <td>0</td>\n",
              "    </tr>\n",
              "    <tr>\n",
              "      <th>97586</th>\n",
              "      <td>59002</td>\n",
              "      <td>Men's Footwear</td>\n",
              "      <td>LATAM</td>\n",
              "      <td>Victoria</td>\n",
              "      <td>México</td>\n",
              "      <td>1</td>\n",
              "      <td>Central America</td>\n",
              "      <td>Second Class</td>\n",
              "      <td>1</td>\n",
              "    </tr>\n",
              "    <tr>\n",
              "      <th>119329</th>\n",
              "      <td>480</td>\n",
              "      <td>Cleats</td>\n",
              "      <td>LATAM</td>\n",
              "      <td>Piedecuesta</td>\n",
              "      <td>Colombia</td>\n",
              "      <td>3</td>\n",
              "      <td>South America</td>\n",
              "      <td>Second Class</td>\n",
              "      <td>1</td>\n",
              "    </tr>\n",
              "    <tr>\n",
              "      <th>169926</th>\n",
              "      <td>39886</td>\n",
              "      <td>Cleats</td>\n",
              "      <td>USCA</td>\n",
              "      <td>Philadelphia</td>\n",
              "      <td>Estados Unidos</td>\n",
              "      <td>5</td>\n",
              "      <td>East of USA</td>\n",
              "      <td>Second Class</td>\n",
              "      <td>0</td>\n",
              "    </tr>\n",
              "    <tr>\n",
              "      <th>...</th>\n",
              "      <td>...</td>\n",
              "      <td>...</td>\n",
              "      <td>...</td>\n",
              "      <td>...</td>\n",
              "      <td>...</td>\n",
              "      <td>...</td>\n",
              "      <td>...</td>\n",
              "      <td>...</td>\n",
              "      <td>...</td>\n",
              "    </tr>\n",
              "    <tr>\n",
              "      <th>120765</th>\n",
              "      <td>64647</td>\n",
              "      <td>Men's Footwear</td>\n",
              "      <td>Europe</td>\n",
              "      <td>Southend-on-Sea</td>\n",
              "      <td>Reino Unido</td>\n",
              "      <td>1</td>\n",
              "      <td>Northern Europe</td>\n",
              "      <td>Standard Class</td>\n",
              "      <td>0</td>\n",
              "    </tr>\n",
              "    <tr>\n",
              "      <th>25749</th>\n",
              "      <td>50004</td>\n",
              "      <td>Cleats</td>\n",
              "      <td>Europe</td>\n",
              "      <td>Astracán</td>\n",
              "      <td>Rusia</td>\n",
              "      <td>5</td>\n",
              "      <td>Eastern Europe</td>\n",
              "      <td>First Class</td>\n",
              "      <td>1</td>\n",
              "    </tr>\n",
              "    <tr>\n",
              "      <th>33556</th>\n",
              "      <td>56343</td>\n",
              "      <td>Men's Footwear</td>\n",
              "      <td>LATAM</td>\n",
              "      <td>Chinandega</td>\n",
              "      <td>Nicaragua</td>\n",
              "      <td>1</td>\n",
              "      <td>Central America</td>\n",
              "      <td>Standard Class</td>\n",
              "      <td>0</td>\n",
              "    </tr>\n",
              "    <tr>\n",
              "      <th>6509</th>\n",
              "      <td>23423</td>\n",
              "      <td>Shop By Sport</td>\n",
              "      <td>Pacific Asia</td>\n",
              "      <td>Daqing</td>\n",
              "      <td>China</td>\n",
              "      <td>2</td>\n",
              "      <td>Eastern Asia</td>\n",
              "      <td>Standard Class</td>\n",
              "      <td>0</td>\n",
              "    </tr>\n",
              "    <tr>\n",
              "      <th>176174</th>\n",
              "      <td>2067</td>\n",
              "      <td>Cleats</td>\n",
              "      <td>LATAM</td>\n",
              "      <td>San Miguelito</td>\n",
              "      <td>Panamá</td>\n",
              "      <td>3</td>\n",
              "      <td>Central America</td>\n",
              "      <td>First Class</td>\n",
              "      <td>1</td>\n",
              "    </tr>\n",
              "  </tbody>\n",
              "</table>\n",
              "<p>36104 rows × 9 columns</p>\n",
              "</div>\n",
              "      <button class=\"colab-df-convert\" onclick=\"convertToInteractive('df-f4f13400-c0f7-4946-ac47-40d59bef75df')\"\n",
              "              title=\"Convert this dataframe to an interactive table.\"\n",
              "              style=\"display:none;\">\n",
              "        \n",
              "  <svg xmlns=\"http://www.w3.org/2000/svg\" height=\"24px\"viewBox=\"0 0 24 24\"\n",
              "       width=\"24px\">\n",
              "    <path d=\"M0 0h24v24H0V0z\" fill=\"none\"/>\n",
              "    <path d=\"M18.56 5.44l.94 2.06.94-2.06 2.06-.94-2.06-.94-.94-2.06-.94 2.06-2.06.94zm-11 1L8.5 8.5l.94-2.06 2.06-.94-2.06-.94L8.5 2.5l-.94 2.06-2.06.94zm10 10l.94 2.06.94-2.06 2.06-.94-2.06-.94-.94-2.06-.94 2.06-2.06.94z\"/><path d=\"M17.41 7.96l-1.37-1.37c-.4-.4-.92-.59-1.43-.59-.52 0-1.04.2-1.43.59L10.3 9.45l-7.72 7.72c-.78.78-.78 2.05 0 2.83L4 21.41c.39.39.9.59 1.41.59.51 0 1.02-.2 1.41-.59l7.78-7.78 2.81-2.81c.8-.78.8-2.07 0-2.86zM5.41 20L4 18.59l7.72-7.72 1.47 1.35L5.41 20z\"/>\n",
              "  </svg>\n",
              "      </button>\n",
              "      \n",
              "  <style>\n",
              "    .colab-df-container {\n",
              "      display:flex;\n",
              "      flex-wrap:wrap;\n",
              "      gap: 12px;\n",
              "    }\n",
              "\n",
              "    .colab-df-convert {\n",
              "      background-color: #E8F0FE;\n",
              "      border: none;\n",
              "      border-radius: 50%;\n",
              "      cursor: pointer;\n",
              "      display: none;\n",
              "      fill: #1967D2;\n",
              "      height: 32px;\n",
              "      padding: 0 0 0 0;\n",
              "      width: 32px;\n",
              "    }\n",
              "\n",
              "    .colab-df-convert:hover {\n",
              "      background-color: #E2EBFA;\n",
              "      box-shadow: 0px 1px 2px rgba(60, 64, 67, 0.3), 0px 1px 3px 1px rgba(60, 64, 67, 0.15);\n",
              "      fill: #174EA6;\n",
              "    }\n",
              "\n",
              "    [theme=dark] .colab-df-convert {\n",
              "      background-color: #3B4455;\n",
              "      fill: #D2E3FC;\n",
              "    }\n",
              "\n",
              "    [theme=dark] .colab-df-convert:hover {\n",
              "      background-color: #434B5C;\n",
              "      box-shadow: 0px 1px 3px 1px rgba(0, 0, 0, 0.15);\n",
              "      filter: drop-shadow(0px 1px 2px rgba(0, 0, 0, 0.3));\n",
              "      fill: #FFFFFF;\n",
              "    }\n",
              "  </style>\n",
              "\n",
              "      <script>\n",
              "        const buttonEl =\n",
              "          document.querySelector('#df-f4f13400-c0f7-4946-ac47-40d59bef75df button.colab-df-convert');\n",
              "        buttonEl.style.display =\n",
              "          google.colab.kernel.accessAllowed ? 'block' : 'none';\n",
              "\n",
              "        async function convertToInteractive(key) {\n",
              "          const element = document.querySelector('#df-f4f13400-c0f7-4946-ac47-40d59bef75df');\n",
              "          const dataTable =\n",
              "            await google.colab.kernel.invokeFunction('convertToInteractive',\n",
              "                                                     [key], {});\n",
              "          if (!dataTable) return;\n",
              "\n",
              "          const docLinkHtml = 'Like what you see? Visit the ' +\n",
              "            '<a target=\"_blank\" href=https://colab.research.google.com/notebooks/data_table.ipynb>data table notebook</a>'\n",
              "            + ' to learn more about interactive tables.';\n",
              "          element.innerHTML = '';\n",
              "          dataTable['output_type'] = 'display_data';\n",
              "          await google.colab.output.renderOutput(dataTable, element);\n",
              "          const docLink = document.createElement('div');\n",
              "          docLink.innerHTML = docLinkHtml;\n",
              "          element.appendChild(docLink);\n",
              "        }\n",
              "      </script>\n",
              "    </div>\n",
              "  </div>\n",
              "  "
            ]
          },
          "metadata": {},
          "execution_count": 18
        }
      ],
      "source": [
        "test_dfo"
      ]
    },
    {
      "cell_type": "markdown",
      "metadata": {
        "id": "VB8asUJ1FZqI"
      },
      "source": [
        "# Exploratory Data Analysis"
      ]
    },
    {
      "cell_type": "code",
      "execution_count": null,
      "metadata": {
        "colab": {
          "base_uri": "https://localhost:8080/",
          "height": 424
        },
        "id": "YGzue7HzGhmd",
        "outputId": "f32deee0-4ac5-4d6d-e997-b5b9abe65a03"
      },
      "outputs": [
        {
          "output_type": "execute_result",
          "data": {
            "text/plain": [
              "        Order Id         Category Name        Market     Order City  \\\n",
              "135982     43582       Women's Apparel        Europe            Ufa   \n",
              "143679     17043  Indoor/Outdoor Games        Europe       Valencia   \n",
              "53391      65751          Water Sports        Europe      Mansfield   \n",
              "161942     34218         Shop By Sport          USCA  San Francisco   \n",
              "157975     22340        Men's Footwear  Pacific Asia          Delhi   \n",
              "...          ...                   ...           ...            ...   \n",
              "140797     23458      Camping & Hiking  Pacific Asia        Yakarta   \n",
              "137863     58450               Fishing         LATAM       Jiutepec   \n",
              "118925     46577           Electronics        Africa     Alexandria   \n",
              "62818      22689        Girls' Apparel  Pacific Asia      Hyderabad   \n",
              "47597      19686         Shop By Sport        Europe     Valladolid   \n",
              "\n",
              "         Order Country  Order Item Quantity     Order Region   Shipping Mode  \\\n",
              "135982           Rusia                    3   Eastern Europe  Standard Class   \n",
              "143679          España                    2  Southern Europe     First Class   \n",
              "53391      Reino Unido                    1  Northern Europe  Standard Class   \n",
              "161942  Estados Unidos                    3     West of USA   Standard Class   \n",
              "157975           India                    1       South Asia    Second Class   \n",
              "...                ...                  ...              ...             ...   \n",
              "140797       Indonesia                    1   Southeast Asia  Standard Class   \n",
              "137863          México                    1  Central America    Second Class   \n",
              "118925          Egipto                    2     North Africa    Second Class   \n",
              "62818         Pakistán                    5       South Asia     First Class   \n",
              "47597           España                    4  Southern Europe  Standard Class   \n",
              "\n",
              "        Late_delivery_risk  \n",
              "135982                   0  \n",
              "143679                   1  \n",
              "53391                    0  \n",
              "161942                   0  \n",
              "157975                   1  \n",
              "...                    ...  \n",
              "140797                   0  \n",
              "137863                   1  \n",
              "118925                   1  \n",
              "62818                    1  \n",
              "47597                    0  \n",
              "\n",
              "[144415 rows x 9 columns]"
            ],
            "text/html": [
              "\n",
              "  <div id=\"df-0c48e3f6-61c5-43a6-beda-2b90aac3815a\">\n",
              "    <div class=\"colab-df-container\">\n",
              "      <div>\n",
              "<style scoped>\n",
              "    .dataframe tbody tr th:only-of-type {\n",
              "        vertical-align: middle;\n",
              "    }\n",
              "\n",
              "    .dataframe tbody tr th {\n",
              "        vertical-align: top;\n",
              "    }\n",
              "\n",
              "    .dataframe thead th {\n",
              "        text-align: right;\n",
              "    }\n",
              "</style>\n",
              "<table border=\"1\" class=\"dataframe\">\n",
              "  <thead>\n",
              "    <tr style=\"text-align: right;\">\n",
              "      <th></th>\n",
              "      <th>Order Id</th>\n",
              "      <th>Category Name</th>\n",
              "      <th>Market</th>\n",
              "      <th>Order City</th>\n",
              "      <th>Order Country</th>\n",
              "      <th>Order Item Quantity</th>\n",
              "      <th>Order Region</th>\n",
              "      <th>Shipping Mode</th>\n",
              "      <th>Late_delivery_risk</th>\n",
              "    </tr>\n",
              "  </thead>\n",
              "  <tbody>\n",
              "    <tr>\n",
              "      <th>135982</th>\n",
              "      <td>43582</td>\n",
              "      <td>Women's Apparel</td>\n",
              "      <td>Europe</td>\n",
              "      <td>Ufa</td>\n",
              "      <td>Rusia</td>\n",
              "      <td>3</td>\n",
              "      <td>Eastern Europe</td>\n",
              "      <td>Standard Class</td>\n",
              "      <td>0</td>\n",
              "    </tr>\n",
              "    <tr>\n",
              "      <th>143679</th>\n",
              "      <td>17043</td>\n",
              "      <td>Indoor/Outdoor Games</td>\n",
              "      <td>Europe</td>\n",
              "      <td>Valencia</td>\n",
              "      <td>España</td>\n",
              "      <td>2</td>\n",
              "      <td>Southern Europe</td>\n",
              "      <td>First Class</td>\n",
              "      <td>1</td>\n",
              "    </tr>\n",
              "    <tr>\n",
              "      <th>53391</th>\n",
              "      <td>65751</td>\n",
              "      <td>Water Sports</td>\n",
              "      <td>Europe</td>\n",
              "      <td>Mansfield</td>\n",
              "      <td>Reino Unido</td>\n",
              "      <td>1</td>\n",
              "      <td>Northern Europe</td>\n",
              "      <td>Standard Class</td>\n",
              "      <td>0</td>\n",
              "    </tr>\n",
              "    <tr>\n",
              "      <th>161942</th>\n",
              "      <td>34218</td>\n",
              "      <td>Shop By Sport</td>\n",
              "      <td>USCA</td>\n",
              "      <td>San Francisco</td>\n",
              "      <td>Estados Unidos</td>\n",
              "      <td>3</td>\n",
              "      <td>West of USA</td>\n",
              "      <td>Standard Class</td>\n",
              "      <td>0</td>\n",
              "    </tr>\n",
              "    <tr>\n",
              "      <th>157975</th>\n",
              "      <td>22340</td>\n",
              "      <td>Men's Footwear</td>\n",
              "      <td>Pacific Asia</td>\n",
              "      <td>Delhi</td>\n",
              "      <td>India</td>\n",
              "      <td>1</td>\n",
              "      <td>South Asia</td>\n",
              "      <td>Second Class</td>\n",
              "      <td>1</td>\n",
              "    </tr>\n",
              "    <tr>\n",
              "      <th>...</th>\n",
              "      <td>...</td>\n",
              "      <td>...</td>\n",
              "      <td>...</td>\n",
              "      <td>...</td>\n",
              "      <td>...</td>\n",
              "      <td>...</td>\n",
              "      <td>...</td>\n",
              "      <td>...</td>\n",
              "      <td>...</td>\n",
              "    </tr>\n",
              "    <tr>\n",
              "      <th>140797</th>\n",
              "      <td>23458</td>\n",
              "      <td>Camping &amp; Hiking</td>\n",
              "      <td>Pacific Asia</td>\n",
              "      <td>Yakarta</td>\n",
              "      <td>Indonesia</td>\n",
              "      <td>1</td>\n",
              "      <td>Southeast Asia</td>\n",
              "      <td>Standard Class</td>\n",
              "      <td>0</td>\n",
              "    </tr>\n",
              "    <tr>\n",
              "      <th>137863</th>\n",
              "      <td>58450</td>\n",
              "      <td>Fishing</td>\n",
              "      <td>LATAM</td>\n",
              "      <td>Jiutepec</td>\n",
              "      <td>México</td>\n",
              "      <td>1</td>\n",
              "      <td>Central America</td>\n",
              "      <td>Second Class</td>\n",
              "      <td>1</td>\n",
              "    </tr>\n",
              "    <tr>\n",
              "      <th>118925</th>\n",
              "      <td>46577</td>\n",
              "      <td>Electronics</td>\n",
              "      <td>Africa</td>\n",
              "      <td>Alexandria</td>\n",
              "      <td>Egipto</td>\n",
              "      <td>2</td>\n",
              "      <td>North Africa</td>\n",
              "      <td>Second Class</td>\n",
              "      <td>1</td>\n",
              "    </tr>\n",
              "    <tr>\n",
              "      <th>62818</th>\n",
              "      <td>22689</td>\n",
              "      <td>Girls' Apparel</td>\n",
              "      <td>Pacific Asia</td>\n",
              "      <td>Hyderabad</td>\n",
              "      <td>Pakistán</td>\n",
              "      <td>5</td>\n",
              "      <td>South Asia</td>\n",
              "      <td>First Class</td>\n",
              "      <td>1</td>\n",
              "    </tr>\n",
              "    <tr>\n",
              "      <th>47597</th>\n",
              "      <td>19686</td>\n",
              "      <td>Shop By Sport</td>\n",
              "      <td>Europe</td>\n",
              "      <td>Valladolid</td>\n",
              "      <td>España</td>\n",
              "      <td>4</td>\n",
              "      <td>Southern Europe</td>\n",
              "      <td>Standard Class</td>\n",
              "      <td>0</td>\n",
              "    </tr>\n",
              "  </tbody>\n",
              "</table>\n",
              "<p>144415 rows × 9 columns</p>\n",
              "</div>\n",
              "      <button class=\"colab-df-convert\" onclick=\"convertToInteractive('df-0c48e3f6-61c5-43a6-beda-2b90aac3815a')\"\n",
              "              title=\"Convert this dataframe to an interactive table.\"\n",
              "              style=\"display:none;\">\n",
              "        \n",
              "  <svg xmlns=\"http://www.w3.org/2000/svg\" height=\"24px\"viewBox=\"0 0 24 24\"\n",
              "       width=\"24px\">\n",
              "    <path d=\"M0 0h24v24H0V0z\" fill=\"none\"/>\n",
              "    <path d=\"M18.56 5.44l.94 2.06.94-2.06 2.06-.94-2.06-.94-.94-2.06-.94 2.06-2.06.94zm-11 1L8.5 8.5l.94-2.06 2.06-.94-2.06-.94L8.5 2.5l-.94 2.06-2.06.94zm10 10l.94 2.06.94-2.06 2.06-.94-2.06-.94-.94-2.06-.94 2.06-2.06.94z\"/><path d=\"M17.41 7.96l-1.37-1.37c-.4-.4-.92-.59-1.43-.59-.52 0-1.04.2-1.43.59L10.3 9.45l-7.72 7.72c-.78.78-.78 2.05 0 2.83L4 21.41c.39.39.9.59 1.41.59.51 0 1.02-.2 1.41-.59l7.78-7.78 2.81-2.81c.8-.78.8-2.07 0-2.86zM5.41 20L4 18.59l7.72-7.72 1.47 1.35L5.41 20z\"/>\n",
              "  </svg>\n",
              "      </button>\n",
              "      \n",
              "  <style>\n",
              "    .colab-df-container {\n",
              "      display:flex;\n",
              "      flex-wrap:wrap;\n",
              "      gap: 12px;\n",
              "    }\n",
              "\n",
              "    .colab-df-convert {\n",
              "      background-color: #E8F0FE;\n",
              "      border: none;\n",
              "      border-radius: 50%;\n",
              "      cursor: pointer;\n",
              "      display: none;\n",
              "      fill: #1967D2;\n",
              "      height: 32px;\n",
              "      padding: 0 0 0 0;\n",
              "      width: 32px;\n",
              "    }\n",
              "\n",
              "    .colab-df-convert:hover {\n",
              "      background-color: #E2EBFA;\n",
              "      box-shadow: 0px 1px 2px rgba(60, 64, 67, 0.3), 0px 1px 3px 1px rgba(60, 64, 67, 0.15);\n",
              "      fill: #174EA6;\n",
              "    }\n",
              "\n",
              "    [theme=dark] .colab-df-convert {\n",
              "      background-color: #3B4455;\n",
              "      fill: #D2E3FC;\n",
              "    }\n",
              "\n",
              "    [theme=dark] .colab-df-convert:hover {\n",
              "      background-color: #434B5C;\n",
              "      box-shadow: 0px 1px 3px 1px rgba(0, 0, 0, 0.15);\n",
              "      filter: drop-shadow(0px 1px 2px rgba(0, 0, 0, 0.3));\n",
              "      fill: #FFFFFF;\n",
              "    }\n",
              "  </style>\n",
              "\n",
              "      <script>\n",
              "        const buttonEl =\n",
              "          document.querySelector('#df-0c48e3f6-61c5-43a6-beda-2b90aac3815a button.colab-df-convert');\n",
              "        buttonEl.style.display =\n",
              "          google.colab.kernel.accessAllowed ? 'block' : 'none';\n",
              "\n",
              "        async function convertToInteractive(key) {\n",
              "          const element = document.querySelector('#df-0c48e3f6-61c5-43a6-beda-2b90aac3815a');\n",
              "          const dataTable =\n",
              "            await google.colab.kernel.invokeFunction('convertToInteractive',\n",
              "                                                     [key], {});\n",
              "          if (!dataTable) return;\n",
              "\n",
              "          const docLinkHtml = 'Like what you see? Visit the ' +\n",
              "            '<a target=\"_blank\" href=https://colab.research.google.com/notebooks/data_table.ipynb>data table notebook</a>'\n",
              "            + ' to learn more about interactive tables.';\n",
              "          element.innerHTML = '';\n",
              "          dataTable['output_type'] = 'display_data';\n",
              "          await google.colab.output.renderOutput(dataTable, element);\n",
              "          const docLink = document.createElement('div');\n",
              "          docLink.innerHTML = docLinkHtml;\n",
              "          element.appendChild(docLink);\n",
              "        }\n",
              "      </script>\n",
              "    </div>\n",
              "  </div>\n",
              "  "
            ]
          },
          "metadata": {},
          "execution_count": 19
        }
      ],
      "source": [
        "train_dfo"
      ]
    },
    {
      "cell_type": "code",
      "execution_count": null,
      "metadata": {
        "colab": {
          "base_uri": "https://localhost:8080/"
        },
        "id": "KuY7iuS1FgKz",
        "outputId": "96e91e17-2b19-4f7d-bf2d-56b892025811"
      },
      "outputs": [
        {
          "output_type": "execute_result",
          "data": {
            "text/plain": [
              "Order Country\n",
              "Estados Unidos    19903\n",
              "Francia           10667\n",
              "México            10603\n",
              "Alemania           7627\n",
              "Australia          6777\n",
              "dtype: int64"
            ]
          },
          "metadata": {},
          "execution_count": 20
        }
      ],
      "source": [
        "train_dfo.groupby(['Order Country']).size().sort_values(ascending=False).head()"
      ]
    },
    {
      "cell_type": "code",
      "execution_count": null,
      "metadata": {
        "colab": {
          "base_uri": "https://localhost:8080/",
          "height": 383
        },
        "id": "cocp0ZA_JKo_",
        "outputId": "299177b7-a18a-452a-f7de-2945a491c461"
      },
      "outputs": [
        {
          "output_type": "display_data",
          "data": {
            "text/plain": [
              "<Figure size 432x288 with 1 Axes>"
            ],
            "image/png": "[encoded data removed]"
          },
          "metadata": {
            "needs_background": "light"
          }
        }
      ],
      "source": [
        "train_dfo['Order Country'].value_counts().head(15).plot(kind='bar')\n",
        "plt.title(\"Country Distribution\")\n",
        "plt.show()"
      ]
    },
    {
      "cell_type": "code",
      "execution_count": null,
      "metadata": {
        "colab": {
          "base_uri": "https://localhost:8080/"
        },
        "id": "rZneBIFUIQZs",
        "outputId": "d87f7464-b57e-47d8-a6ae-83ef5e2d99b9"
      },
      "outputs": [
        {
          "output_type": "execute_result",
          "data": {
            "text/plain": [
              "Order City\n",
              "Santo Domingo    1799\n",
              "New York City    1764\n",
              "Los Angeles      1465\n",
              "Tegucigalpa      1391\n",
              "Managua          1342\n",
              "dtype: int64"
            ]
          },
          "metadata": {},
          "execution_count": 22
        }
      ],
      "source": [
        "train_dfo.groupby(['Order City']).size().sort_values(ascending=False).head()"
      ]
    },
    {
      "cell_type": "code",
      "execution_count": null,
      "metadata": {
        "colab": {
          "base_uri": "https://localhost:8080/",
          "height": 348
        },
        "id": "LHCxw7e3ITp0",
        "outputId": "81d401d5-e6c7-4bc7-cdb1-7acfb84249c8"
      },
      "outputs": [
        {
          "output_type": "display_data",
          "data": {
            "text/plain": [
              "<Figure size 432x288 with 1 Axes>"
            ],
            "image/png": "[encoded data removed]"
          },
          "metadata": {
            "needs_background": "light"
          }
        }
      ],
      "source": [
        "train_dfo['Order City'].value_counts().head(15).plot(kind='bar')\n",
        "plt.title(\"City Distribution\")\n",
        "plt.show()"
      ]
    },
    {
      "cell_type": "code",
      "execution_count": null,
      "metadata": {
        "colab": {
          "base_uri": "https://localhost:8080/"
        },
        "id": "u0dwCB27IYmr",
        "outputId": "4019ae04-e0de-40b1-b777-d765b45ea152"
      },
      "outputs": [
        {
          "output_type": "execute_result",
          "data": {
            "text/plain": [
              "Order Region\n",
              "Central America    22643\n",
              "Western Europe     21795\n",
              "South America      12012\n",
              "Oceania             8097\n",
              "Northern Europe     7786\n",
              "dtype: int64"
            ]
          },
          "metadata": {},
          "execution_count": 24
        }
      ],
      "source": [
        "train_dfo.groupby(['Order Region']).size().sort_values(ascending=False).head()"
      ]
    },
    {
      "cell_type": "code",
      "execution_count": null,
      "metadata": {
        "colab": {
          "base_uri": "https://localhost:8080/",
          "height": 355
        },
        "id": "3hkepcYVIdir",
        "outputId": "b7d1a121-52b5-4c3e-9eb4-9c2abc4efc99"
      },
      "outputs": [
        {
          "output_type": "display_data",
          "data": {
            "text/plain": [
              "<Figure size 432x288 with 1 Axes>"
            ],
            "image/png": "[encoded data removed]"
          },
          "metadata": {
            "needs_background": "light"
          }
        }
      ],
      "source": [
        "train_dfo['Order Region'].value_counts().head(15).plot(kind='bar')\n",
        "plt.title(\"Region Distribution\")\n",
        "plt.show()"
      ]
    },
    {
      "cell_type": "code",
      "execution_count": null,
      "metadata": {
        "colab": {
          "base_uri": "https://localhost:8080/"
        },
        "id": "CsmeCbhZKf48",
        "outputId": "29e585f3-362d-49f7-98e3-e72ada97c057"
      },
      "outputs": [
        {
          "output_type": "execute_result",
          "data": {
            "text/plain": [
              "Market\n",
              "LATAM           41322\n",
              "Europe          40205\n",
              "Pacific Asia    32964\n",
              "USCA            20657\n",
              "Africa           9267\n",
              "dtype: int64"
            ]
          },
          "metadata": {},
          "execution_count": 26
        }
      ],
      "source": [
        "train_dfo.groupby(['Market']).size().sort_values(ascending=False).head()"
      ]
    },
    {
      "cell_type": "code",
      "execution_count": null,
      "metadata": {
        "colab": {
          "base_uri": "https://localhost:8080/",
          "height": 328
        },
        "id": "jaTCc9flKnHX",
        "outputId": "fea707f6-0903-4c1f-ea51-24cc74df6ada"
      },
      "outputs": [
        {
          "output_type": "display_data",
          "data": {
            "text/plain": [
              "<Figure size 432x288 with 1 Axes>"
            ],
            "image/png": "[encoded data removed]"
          },
          "metadata": {
            "needs_background": "light"
          }
        }
      ],
      "source": [
        "train_dfo['Market'].value_counts().head().plot(kind='bar')\n",
        "plt.title(\"Customers Market\")\n",
        "plt.show()"
      ]
    },
    {
      "cell_type": "markdown",
      "metadata": {
        "id": "0xgJaEzeKxjO"
      },
      "source": [
        "From the 4 plot above, we know that most of the sales orders come from LATAM and Europe. With distribution of the city most on Santo Domingo, even on the Country Distribution the order much likely coming from United States. The company can use this data to determine the hub location in order to speed up the delivery process, in which can prevent late fulfillment risk."
      ]
    },
    {
      "cell_type": "code",
      "execution_count": null,
      "metadata": {
        "colab": {
          "base_uri": "https://localhost:8080/"
        },
        "id": "p-NIM8M6HFQ4",
        "outputId": "f0826d5d-3bc5-419c-a064-e27698d44eae"
      },
      "outputs": [
        {
          "output_type": "execute_result",
          "data": {
            "text/plain": [
              "Category Name\n",
              "Cleats                  19704\n",
              "Men's Footwear          17831\n",
              "Women's Apparel         16743\n",
              "Indoor/Outdoor Games    15455\n",
              "Fishing                 13884\n",
              "dtype: int64"
            ]
          },
          "metadata": {},
          "execution_count": 28
        }
      ],
      "source": [
        "train_dfo.groupby(['Category Name']).size().sort_values(ascending=False).head()"
      ]
    },
    {
      "cell_type": "code",
      "execution_count": null,
      "metadata": {
        "colab": {
          "base_uri": "https://localhost:8080/",
          "height": 385
        },
        "id": "9UUDCqVHKUj3",
        "outputId": "ac79c4cd-8849-4aae-a9e2-09badfff76f0"
      },
      "outputs": [
        {
          "output_type": "display_data",
          "data": {
            "text/plain": [
              "<Figure size 432x288 with 1 Axes>"
            ],
            "image/png": "[encoded data removed]"
          },
          "metadata": {
            "needs_background": "light"
          }
        }
      ],
      "source": [
        "train_dfo['Category Name'].value_counts().head(15).plot(kind='bar')\n",
        "plt.title(\"Category Distribution of Goods\")\n",
        "plt.show()"
      ]
    },
    {
      "cell_type": "markdown",
      "metadata": {
        "id": "vfwFrQk8Ixwk"
      },
      "source": [
        "From the summary we know that most of the category with much orders are come from Cleats, Men's Footwaear, Women's Apparel, Indoor/Outdoor Games, Fishing, Water Sports, Camping & Hiking, Cardio Equipment, and Shop By Sport. We can use this data to make a dedicated line for respective category. In which, we can design the manpower for each category line to maximize the outbound flow process."
      ]
    },
    {
      "cell_type": "code",
      "execution_count": null,
      "metadata": {
        "colab": {
          "base_uri": "https://localhost:8080/"
        },
        "id": "NX1iOgjWNQxr",
        "outputId": "19eff3a0-f481-4336-b52a-b29823b208df"
      },
      "outputs": [
        {
          "output_type": "execute_result",
          "data": {
            "text/plain": [
              "Shipping Mode\n",
              "Standard Class    86248\n",
              "Second Class      28234\n",
              "First Class       22178\n",
              "Same Day           7755\n",
              "dtype: int64"
            ]
          },
          "metadata": {},
          "execution_count": 30
        }
      ],
      "source": [
        "train_dfo.groupby(['Shipping Mode']).size().sort_values(ascending=False).head()"
      ]
    },
    {
      "cell_type": "code",
      "execution_count": null,
      "metadata": {
        "colab": {
          "base_uri": "https://localhost:8080/",
          "height": 346
        },
        "id": "HDHwsP_mNTXK",
        "outputId": "1249f7db-b016-4e1c-dca5-dd06ab174763"
      },
      "outputs": [
        {
          "output_type": "display_data",
          "data": {
            "text/plain": [
              "<Figure size 432x288 with 1 Axes>"
            ],
            "image/png": "[encoded data removed]"
          },
          "metadata": {
            "needs_background": "light"
          }
        }
      ],
      "source": [
        "train_dfo['Shipping Mode'].value_counts().head(15).plot(kind='bar')\n",
        "plt.title(\"Shipping Mode of Goods\")\n",
        "plt.show()"
      ]
    },
    {
      "cell_type": "markdown",
      "metadata": {
        "id": "BNfB98aCNclq"
      },
      "source": [
        "From the plot above, we found that Standard Class Shipping Mode have most customers than other shipping mode. We can make this as a notes that customer didn't really care about shipping mode of the delivery."
      ]
    },
    {
      "cell_type": "code",
      "execution_count": null,
      "metadata": {
        "colab": {
          "base_uri": "https://localhost:8080/",
          "height": 775
        },
        "id": "4bVEbGz1NvXL",
        "outputId": "cc2ca617-cc97-4e8c-9b61-5ffce6f94a3d"
      },
      "outputs": [
        {
          "output_type": "display_data",
          "data": {
            "text/plain": [
              "<Figure size 1800x864 with 1 Axes>"
            ],
            "image/png": "[encoded data removed]"
          },
          "metadata": {
            "needs_background": "light"
          }
        }
      ],
      "source": [
        "# Target Feature based on Shipping Mode\n",
        "plt.figure(figsize=(25,12))\n",
        "ax = sns.countplot(train_dfo['Shipping Mode'], hue=train_dfo['Late_delivery_risk'], palette=palette, order = train_dfo['Shipping Mode'].value_counts().index)\n",
        "for p in ax.patches:\n",
        "    ax.annotate(f'\\n{p.get_height()}', (p.get_x()+0.2, p.get_height()), ha='center', va='top', color='white', size=10)\n",
        "plt.xticks(rotation=90)\n",
        "plt.tight_layout();"
      ]
    },
    {
      "cell_type": "markdown",
      "metadata": {
        "id": "g9ekOvYZN0yT"
      },
      "source": [
        "From the plot above, we know clearly that Standard Class have better performance in term of SLA. As we can see the shipping mode that lowest chance to be over SLA is Standard Class and Same Day, however we could see that Same Day service have almost 50:50 chance for late delivery service."
      ]
    },
    {
      "cell_type": "code",
      "execution_count": null,
      "metadata": {
        "colab": {
          "base_uri": "https://localhost:8080/",
          "height": 775
        },
        "id": "YEbCBTZgmrii",
        "outputId": "a582e3b7-5e4d-4e16-d8ed-30ba52c219f1"
      },
      "outputs": [
        {
          "output_type": "display_data",
          "data": {
            "text/plain": [
              "<Figure size 1800x864 with 1 Axes>"
            ],
            "image/png": "[encoded data removed]"
          },
          "metadata": {
            "needs_background": "light"
          }
        }
      ],
      "source": [
        "# Target Feature based on Category Name\n",
        "plt.figure(figsize=(25,12))\n",
        "ax = sns.countplot(train_dfo['Category Name'], hue=train_dfo['Late_delivery_risk'], palette=palette, order = train_dfo['Category Name'].value_counts().head(10).index)\n",
        "for p in ax.patches:\n",
        "    ax.annotate(f'\\n{p.get_height()}', (p.get_x()+0.2, p.get_height()), ha='center', va='top', color='white', size=10)\n",
        "plt.xticks(rotation=90)\n",
        "plt.tight_layout();"
      ]
    },
    {
      "cell_type": "markdown",
      "source": [
        "The Category didn’t seems very clear about determining late delivery risk. However, we know that some of category have different category movement. As we can see the more order for specific category is also more late delivery risk will show up.\n"
      ],
      "metadata": {
        "id": "AFRJTex3U_iR"
      }
    },
    {
      "cell_type": "code",
      "execution_count": null,
      "metadata": {
        "colab": {
          "base_uri": "https://localhost:8080/",
          "height": 775
        },
        "id": "-BJXGJmnnC0o",
        "outputId": "750fa4a0-5c77-46c9-81d5-1081401e6f21"
      },
      "outputs": [
        {
          "output_type": "display_data",
          "data": {
            "text/plain": [
              "<Figure size 1800x864 with 1 Axes>"
            ],
            "image/png": "[encoded data removed]"
          },
          "metadata": {
            "needs_background": "light"
          }
        }
      ],
      "source": [
        "# Target Feature based on Market\n",
        "plt.figure(figsize=(25,12))\n",
        "ax = sns.countplot(train_dfo['Market'], hue=train_dfo['Late_delivery_risk'], palette=palette, order = train_dfo['Market'].value_counts().head(10).index)\n",
        "for p in ax.patches:\n",
        "    ax.annotate(f'\\n{p.get_height()}', (p.get_x()+0.2, p.get_height()), ha='center', va='top', color='white', size=10)\n",
        "plt.xticks(rotation=90)\n",
        "plt.tight_layout();"
      ]
    },
    {
      "cell_type": "code",
      "execution_count": null,
      "metadata": {
        "colab": {
          "base_uri": "https://localhost:8080/",
          "height": 775
        },
        "id": "eIlJ2tlvnIRw",
        "outputId": "24998f3b-c4b9-40b2-8790-0b50b19528fb"
      },
      "outputs": [
        {
          "output_type": "display_data",
          "data": {
            "text/plain": [
              "<Figure size 1800x864 with 1 Axes>"
            ],
            "image/png": "[encoded data removed]"
          },
          "metadata": {
            "needs_background": "light"
          }
        }
      ],
      "source": [
        "# Target Feature based on Order Region\n",
        "plt.figure(figsize=(25,12))\n",
        "ax = sns.countplot(train_dfo['Order Region'], hue=train_dfo['Late_delivery_risk'], palette=palette, order = train_dfo['Order Region'].value_counts().head(10).index)\n",
        "for p in ax.patches:\n",
        "    ax.annotate(f'\\n{p.get_height()}', (p.get_x()+0.2, p.get_height()), ha='center', va='top', color='white', size=10)\n",
        "plt.xticks(rotation=90)\n",
        "plt.tight_layout();"
      ]
    },
    {
      "cell_type": "code",
      "execution_count": null,
      "metadata": {
        "colab": {
          "base_uri": "https://localhost:8080/",
          "height": 775
        },
        "id": "R0skQSXTnWj_",
        "outputId": "c763d03c-5df8-44c8-d79b-782345f55000"
      },
      "outputs": [
        {
          "output_type": "display_data",
          "data": {
            "text/plain": [
              "<Figure size 1800x864 with 1 Axes>"
            ],
            "image/png": "[encoded data removed]"
          },
          "metadata": {
            "needs_background": "light"
          }
        }
      ],
      "source": [
        "# Target Feature based on Order Country\n",
        "plt.figure(figsize=(25,12))\n",
        "ax = sns.countplot(train_dfo['Order Country'], hue=train_dfo['Late_delivery_risk'], palette=palette, order = train_dfo['Order Country'].value_counts().head(10).index)\n",
        "for p in ax.patches:\n",
        "    ax.annotate(f'\\n{p.get_height()}', (p.get_x()+0.2, p.get_height()), ha='center', va='top', color='white', size=10)\n",
        "plt.xticks(rotation=90)\n",
        "plt.tight_layout();"
      ]
    },
    {
      "cell_type": "markdown",
      "source": [
        "As we can see, there is no clear evidence that the late delivery is because of the distance between fulfillment center and the customers. However, we need further analysis is there any factors except distance that really make raise late delivery risk.\n"
      ],
      "metadata": {
        "id": "2XXPHt4VU8lY"
      }
    },
    {
      "cell_type": "markdown",
      "metadata": {
        "id": "tAqj8QrEno7I"
      },
      "source": [
        "From the plot above, we know that :\n",
        "* In terms of Market, Category, Region, Country all order have much chance to be Late Delivery Risk than not. So we can assume that the distance of the delivery didn't really affect the fulfillment rate.\n",
        "* The Standard Class shipping mode have good performance than all other shipping mode. Same Day shipping mode have a lower chance for late delivery, however the chance is almost 50:50."
      ]
    },
    {
      "cell_type": "markdown",
      "metadata": {
        "id": "RFH1tzo6-4bP"
      },
      "source": [
        "# Preprocessing"
      ]
    },
    {
      "cell_type": "markdown",
      "metadata": {
        "id": "dqVId9rH_X40"
      },
      "source": [
        "## Missing Values Handling"
      ]
    },
    {
      "cell_type": "code",
      "execution_count": null,
      "metadata": {
        "colab": {
          "base_uri": "https://localhost:8080/"
        },
        "id": "ig-IsOth_ayQ",
        "outputId": "08250d65-cd39-4a7c-f741-7adb505f37e6"
      },
      "outputs": [
        {
          "output_type": "execute_result",
          "data": {
            "text/plain": [
              "Order Id               0.0\n",
              "Category Name          0.0\n",
              "Market                 0.0\n",
              "Order City             0.0\n",
              "Order Country          0.0\n",
              "Order Item Quantity    0.0\n",
              "Order Region           0.0\n",
              "Shipping Mode          0.0\n",
              "Late_delivery_risk     0.0\n",
              "dtype: float64"
            ]
          },
          "metadata": {},
          "execution_count": 37
        }
      ],
      "source": [
        "train_dfo.isna().mean()*100"
      ]
    },
    {
      "cell_type": "code",
      "execution_count": null,
      "metadata": {
        "colab": {
          "base_uri": "https://localhost:8080/"
        },
        "id": "tTdpMFMEbg5z",
        "outputId": "9f485ffe-5d21-4533-8363-c1c8f63ea0d6"
      },
      "outputs": [
        {
          "output_type": "execute_result",
          "data": {
            "text/plain": [
              "Order Id               0.0\n",
              "Category Name          0.0\n",
              "Market                 0.0\n",
              "Order City             0.0\n",
              "Order Country          0.0\n",
              "Order Item Quantity    0.0\n",
              "Order Region           0.0\n",
              "Shipping Mode          0.0\n",
              "Late_delivery_risk     0.0\n",
              "dtype: float64"
            ]
          },
          "metadata": {},
          "execution_count": 38
        }
      ],
      "source": [
        "test_dfo.isna().mean()*100"
      ]
    },
    {
      "cell_type": "code",
      "execution_count": null,
      "metadata": {
        "colab": {
          "base_uri": "https://localhost:8080/"
        },
        "id": "yEHH1OjW6YB8",
        "outputId": "3e49db8a-c76b-487c-e56b-dd5aa1102c53"
      },
      "outputs": [
        {
          "output_type": "execute_result",
          "data": {
            "text/plain": [
              "Order Id               0.0\n",
              "Category Name          0.0\n",
              "Market                 0.0\n",
              "Order City             0.0\n",
              "Order Country          0.0\n",
              "Order Item Quantity    0.0\n",
              "Order Region           0.0\n",
              "Shipping Mode          0.0\n",
              "Late_delivery_risk     0.0\n",
              "dtype: float64"
            ]
          },
          "metadata": {},
          "execution_count": 39
        }
      ],
      "source": [
        "train_dfo.isna().mean()*100"
      ]
    },
    {
      "cell_type": "code",
      "execution_count": null,
      "metadata": {
        "colab": {
          "base_uri": "https://localhost:8080/"
        },
        "id": "CW5wceJH6YIL",
        "outputId": "aaf3c10c-3909-4262-9f41-d237312b0614"
      },
      "outputs": [
        {
          "output_type": "execute_result",
          "data": {
            "text/plain": [
              "Order Id               0.0\n",
              "Category Name          0.0\n",
              "Market                 0.0\n",
              "Order City             0.0\n",
              "Order Country          0.0\n",
              "Order Item Quantity    0.0\n",
              "Order Region           0.0\n",
              "Shipping Mode          0.0\n",
              "Late_delivery_risk     0.0\n",
              "dtype: float64"
            ]
          },
          "metadata": {},
          "execution_count": 40
        }
      ],
      "source": [
        "train_dfo.isna().mean()*100"
      ]
    },
    {
      "cell_type": "markdown",
      "metadata": {
        "id": "D8VCztkVbeNE"
      },
      "source": [
        "Luckily, there aren't null values on our dataset."
      ]
    },
    {
      "cell_type": "markdown",
      "metadata": {
        "id": "MFz3-Jj1EGbQ"
      },
      "source": [
        "## Duplicated Value Handling"
      ]
    },
    {
      "cell_type": "code",
      "execution_count": null,
      "metadata": {
        "colab": {
          "base_uri": "https://localhost:8080/"
        },
        "id": "i_hHmjHhcldr",
        "outputId": "8f4eec26-5a0b-4eec-9a89-52b626e1a643"
      },
      "outputs": [
        {
          "output_type": "execute_result",
          "data": {
            "text/plain": [
              "(144415, 9)"
            ]
          },
          "metadata": {},
          "execution_count": 41
        }
      ],
      "source": [
        "train_dfo.shape"
      ]
    },
    {
      "cell_type": "code",
      "execution_count": null,
      "metadata": {
        "colab": {
          "base_uri": "https://localhost:8080/"
        },
        "id": "7qSjRQm0EH0w",
        "outputId": "24fa79cd-6a82-459d-dcb2-2d1ffe77924d"
      },
      "outputs": [
        {
          "output_type": "execute_result",
          "data": {
            "text/plain": [
              "7426"
            ]
          },
          "metadata": {},
          "execution_count": 42
        }
      ],
      "source": [
        "train_dfo.duplicated().sum()"
      ]
    },
    {
      "cell_type": "code",
      "execution_count": null,
      "metadata": {
        "colab": {
          "base_uri": "https://localhost:8080/"
        },
        "id": "5oJCYTnScqXC",
        "outputId": "8a963da5-c1af-4e99-f4b4-f24ad228f778"
      },
      "outputs": [
        {
          "output_type": "execute_result",
          "data": {
            "text/plain": [
              "(36104, 9)"
            ]
          },
          "metadata": {},
          "execution_count": 43
        }
      ],
      "source": [
        "test_dfo.shape"
      ]
    },
    {
      "cell_type": "code",
      "execution_count": null,
      "metadata": {
        "colab": {
          "base_uri": "https://localhost:8080/"
        },
        "id": "0QyBmmFhNnUH",
        "outputId": "398539a5-7aa6-44c7-a71d-43c4b3d0bfec"
      },
      "outputs": [
        {
          "output_type": "execute_result",
          "data": {
            "text/plain": [
              "482"
            ]
          },
          "metadata": {},
          "execution_count": 44
        }
      ],
      "source": [
        "test_dfo.duplicated().sum()"
      ]
    },
    {
      "cell_type": "markdown",
      "metadata": {
        "id": "IFx75KVqEM14"
      },
      "source": [
        "We found that there are duplicated values on the our data (train and test), we need to handle this before going to next step. This is because some of the order id have more than one items order and thus resulting on duplicated record. We can drop the duplicate for this issue."
      ]
    },
    {
      "cell_type": "code",
      "execution_count": null,
      "metadata": {
        "id": "1KrcTB9ZcwsT"
      },
      "outputs": [],
      "source": [
        "# Drop duplicate on train data\n",
        "train_dfo = train_dfo.drop_duplicates()\n",
        "\n",
        "# Drop duplicate on train data\n",
        "test_dfo = test_dfo.drop_duplicates()"
      ]
    },
    {
      "cell_type": "markdown",
      "metadata": {
        "id": "ZhuOy2uiD_Sg"
      },
      "source": [
        "## Feature Selection"
      ]
    },
    {
      "cell_type": "markdown",
      "metadata": {
        "id": "5m1LS6W2EU4Q"
      },
      "source": [
        "For the feature selection we will drop the order id, since order id much more like identification for each order."
      ]
    },
    {
      "cell_type": "code",
      "execution_count": null,
      "metadata": {
        "id": "XKDHRJgCD9KA"
      },
      "outputs": [],
      "source": [
        "# Drop the Order Id since it could be unique for every rows\n",
        "train_dfo = train_dfo.drop(columns=['Order Id'])\n",
        "test_dfo = test_dfo.drop(columns=['Order Id'])"
      ]
    },
    {
      "cell_type": "code",
      "execution_count": null,
      "metadata": {
        "colab": {
          "base_uri": "https://localhost:8080/"
        },
        "id": "bAE4bLhwZdht",
        "outputId": "f15de568-85f9-4cc8-b571-d86c2411b8be"
      },
      "outputs": [
        {
          "output_type": "stream",
          "name": "stdout",
          "text": [
            "(136989, 8)\n",
            "(35622, 8)\n"
          ]
        }
      ],
      "source": [
        "# Checking train & test\n",
        "print(train_dfo.shape)\n",
        "print(test_dfo.shape)"
      ]
    },
    {
      "cell_type": "markdown",
      "metadata": {
        "id": "VBcA3K2DGLk3"
      },
      "source": [
        "## Encoding"
      ]
    },
    {
      "cell_type": "code",
      "execution_count": null,
      "metadata": {
        "colab": {
          "base_uri": "https://localhost:8080/"
        },
        "id": "78zsqqt2dLcT",
        "outputId": "9045c28d-8743-45ec-96ba-78d263921072"
      },
      "outputs": [
        {
          "output_type": "execute_result",
          "data": {
            "text/plain": [
              "               Category Name        Market     Order City   Order Country  \\\n",
              "135982       Women's Apparel        Europe            Ufa           Rusia   \n",
              "143679  Indoor/Outdoor Games        Europe       Valencia          España   \n",
              "53391           Water Sports        Europe      Mansfield     Reino Unido   \n",
              "161942         Shop By Sport          USCA  San Francisco  Estados Unidos   \n",
              "157975        Men's Footwear  Pacific Asia          Delhi           India   \n",
              "\n",
              "        Order Item Quantity     Order Region   Shipping Mode  \\\n",
              "135982                    3   Eastern Europe  Standard Class   \n",
              "143679                    2  Southern Europe     First Class   \n",
              "53391                     1  Northern Europe  Standard Class   \n",
              "161942                    3     West of USA   Standard Class   \n",
              "157975                    1       South Asia    Second Class   \n",
              "\n",
              "        Late_delivery_risk  \n",
              "135982                   0  \n",
              "143679                   1  \n",
              "53391                    0  \n",
              "161942                   0  \n",
              "157975                   1  "
            ],
            "text/html": [
              "\n",
              "  <div id=\"df-6ca96b8a-8893-4798-a21d-18ee73d0c278\">\n",
              "    <div class=\"colab-df-container\">\n",
              "      <div>\n",
              "<style scoped>\n",
              "    .dataframe tbody tr th:only-of-type {\n",
              "        vertical-align: middle;\n",
              "    }\n",
              "\n",
              "    .dataframe tbody tr th {\n",
              "        vertical-align: top;\n",
              "    }\n",
              "\n",
              "    .dataframe thead th {\n",
              "        text-align: right;\n",
              "    }\n",
              "</style>\n",
              "<table border=\"1\" class=\"dataframe\">\n",
              "  <thead>\n",
              "    <tr style=\"text-align: right;\">\n",
              "      <th></th>\n",
              "      <th>Category Name</th>\n",
              "      <th>Market</th>\n",
              "      <th>Order City</th>\n",
              "      <th>Order Country</th>\n",
              "      <th>Order Item Quantity</th>\n",
              "      <th>Order Region</th>\n",
              "      <th>Shipping Mode</th>\n",
              "      <th>Late_delivery_risk</th>\n",
              "    </tr>\n",
              "  </thead>\n",
              "  <tbody>\n",
              "    <tr>\n",
              "      <th>135982</th>\n",
              "      <td>Women's Apparel</td>\n",
              "      <td>Europe</td>\n",
              "      <td>Ufa</td>\n",
              "      <td>Rusia</td>\n",
              "      <td>3</td>\n",
              "      <td>Eastern Europe</td>\n",
              "      <td>Standard Class</td>\n",
              "      <td>0</td>\n",
              "    </tr>\n",
              "    <tr>\n",
              "      <th>143679</th>\n",
              "      <td>Indoor/Outdoor Games</td>\n",
              "      <td>Europe</td>\n",
              "      <td>Valencia</td>\n",
              "      <td>España</td>\n",
              "      <td>2</td>\n",
              "      <td>Southern Europe</td>\n",
              "      <td>First Class</td>\n",
              "      <td>1</td>\n",
              "    </tr>\n",
              "    <tr>\n",
              "      <th>53391</th>\n",
              "      <td>Water Sports</td>\n",
              "      <td>Europe</td>\n",
              "      <td>Mansfield</td>\n",
              "      <td>Reino Unido</td>\n",
              "      <td>1</td>\n",
              "      <td>Northern Europe</td>\n",
              "      <td>Standard Class</td>\n",
              "      <td>0</td>\n",
              "    </tr>\n",
              "    <tr>\n",
              "      <th>161942</th>\n",
              "      <td>Shop By Sport</td>\n",
              "      <td>USCA</td>\n",
              "      <td>San Francisco</td>\n",
              "      <td>Estados Unidos</td>\n",
              "      <td>3</td>\n",
              "      <td>West of USA</td>\n",
              "      <td>Standard Class</td>\n",
              "      <td>0</td>\n",
              "    </tr>\n",
              "    <tr>\n",
              "      <th>157975</th>\n",
              "      <td>Men's Footwear</td>\n",
              "      <td>Pacific Asia</td>\n",
              "      <td>Delhi</td>\n",
              "      <td>India</td>\n",
              "      <td>1</td>\n",
              "      <td>South Asia</td>\n",
              "      <td>Second Class</td>\n",
              "      <td>1</td>\n",
              "    </tr>\n",
              "  </tbody>\n",
              "</table>\n",
              "</div>\n",
              "      <button class=\"colab-df-convert\" onclick=\"convertToInteractive('df-6ca96b8a-8893-4798-a21d-18ee73d0c278')\"\n",
              "              title=\"Convert this dataframe to an interactive table.\"\n",
              "              style=\"display:none;\">\n",
              "        \n",
              "  <svg xmlns=\"http://www.w3.org/2000/svg\" height=\"24px\"viewBox=\"0 0 24 24\"\n",
              "       width=\"24px\">\n",
              "    <path d=\"M0 0h24v24H0V0z\" fill=\"none\"/>\n",
              "    <path d=\"M18.56 5.44l.94 2.06.94-2.06 2.06-.94-2.06-.94-.94-2.06-.94 2.06-2.06.94zm-11 1L8.5 8.5l.94-2.06 2.06-.94-2.06-.94L8.5 2.5l-.94 2.06-2.06.94zm10 10l.94 2.06.94-2.06 2.06-.94-2.06-.94-.94-2.06-.94 2.06-2.06.94z\"/><path d=\"M17.41 7.96l-1.37-1.37c-.4-.4-.92-.59-1.43-.59-.52 0-1.04.2-1.43.59L10.3 9.45l-7.72 7.72c-.78.78-.78 2.05 0 2.83L4 21.41c.39.39.9.59 1.41.59.51 0 1.02-.2 1.41-.59l7.78-7.78 2.81-2.81c.8-.78.8-2.07 0-2.86zM5.41 20L4 18.59l7.72-7.72 1.47 1.35L5.41 20z\"/>\n",
              "  </svg>\n",
              "      </button>\n",
              "      \n",
              "  <style>\n",
              "    .colab-df-container {\n",
              "      display:flex;\n",
              "      flex-wrap:wrap;\n",
              "      gap: 12px;\n",
              "    }\n",
              "\n",
              "    .colab-df-convert {\n",
              "      background-color: #E8F0FE;\n",
              "      border: none;\n",
              "      border-radius: 50%;\n",
              "      cursor: pointer;\n",
              "      display: none;\n",
              "      fill: #1967D2;\n",
              "      height: 32px;\n",
              "      padding: 0 0 0 0;\n",
              "      width: 32px;\n",
              "    }\n",
              "\n",
              "    .colab-df-convert:hover {\n",
              "      background-color: #E2EBFA;\n",
              "      box-shadow: 0px 1px 2px rgba(60, 64, 67, 0.3), 0px 1px 3px 1px rgba(60, 64, 67, 0.15);\n",
              "      fill: #174EA6;\n",
              "    }\n",
              "\n",
              "    [theme=dark] .colab-df-convert {\n",
              "      background-color: #3B4455;\n",
              "      fill: #D2E3FC;\n",
              "    }\n",
              "\n",
              "    [theme=dark] .colab-df-convert:hover {\n",
              "      background-color: #434B5C;\n",
              "      box-shadow: 0px 1px 3px 1px rgba(0, 0, 0, 0.15);\n",
              "      filter: drop-shadow(0px 1px 2px rgba(0, 0, 0, 0.3));\n",
              "      fill: #FFFFFF;\n",
              "    }\n",
              "  </style>\n",
              "\n",
              "      <script>\n",
              "        const buttonEl =\n",
              "          document.querySelector('#df-6ca96b8a-8893-4798-a21d-18ee73d0c278 button.colab-df-convert');\n",
              "        buttonEl.style.display =\n",
              "          google.colab.kernel.accessAllowed ? 'block' : 'none';\n",
              "\n",
              "        async function convertToInteractive(key) {\n",
              "          const element = document.querySelector('#df-6ca96b8a-8893-4798-a21d-18ee73d0c278');\n",
              "          const dataTable =\n",
              "            await google.colab.kernel.invokeFunction('convertToInteractive',\n",
              "                                                     [key], {});\n",
              "          if (!dataTable) return;\n",
              "\n",
              "          const docLinkHtml = 'Like what you see? Visit the ' +\n",
              "            '<a target=\"_blank\" href=https://colab.research.google.com/notebooks/data_table.ipynb>data table notebook</a>'\n",
              "            + ' to learn more about interactive tables.';\n",
              "          element.innerHTML = '';\n",
              "          dataTable['output_type'] = 'display_data';\n",
              "          await google.colab.output.renderOutput(dataTable, element);\n",
              "          const docLink = document.createElement('div');\n",
              "          docLink.innerHTML = docLinkHtml;\n",
              "          element.appendChild(docLink);\n",
              "        }\n",
              "      </script>\n",
              "    </div>\n",
              "  </div>\n",
              "  "
            ]
          },
          "metadata": {},
          "execution_count": 48
        }
      ],
      "source": [
        "train_dfo.head()"
      ]
    },
    {
      "cell_type": "code",
      "execution_count": null,
      "metadata": {
        "colab": {
          "base_uri": "https://localhost:8080/"
        },
        "id": "gNbObPRZdTbz",
        "outputId": "71d8de9b-0fa9-424a-d385-b1afed4ab535"
      },
      "outputs": [
        {
          "output_type": "execute_result",
          "data": {
            "text/plain": [
              "Index(['Category Name', 'Market', 'Order City', 'Order Country',\n",
              "       'Order Item Quantity', 'Order Region', 'Shipping Mode',\n",
              "       'Late_delivery_risk'],\n",
              "      dtype='object')"
            ]
          },
          "metadata": {},
          "execution_count": 49
        }
      ],
      "source": [
        "train_dfo.columns"
      ]
    },
    {
      "cell_type": "markdown",
      "metadata": {
        "id": "sO6TYbSUHRXg"
      },
      "source": [
        "For encoding phase, we use these strategies :\n",
        "\n",
        "* Columns with high cardinality, we using frequency encoding\n",
        "* Columns with binary values, we using dummy encoding"
      ]
    },
    {
      "cell_type": "code",
      "execution_count": null,
      "metadata": {
        "id": "v6E0FFNnGOrn"
      },
      "outputs": [],
      "source": [
        "# Frequency Encoding for high cardinality columns on train\n",
        "col_freq = ['Category Name', 'Market', 'Order City', 'Order Country', 'Order Region', 'Shipping Mode']\n",
        "for col in col_freq:\n",
        "  fe = train_dfo.groupby(col).size()/len(train_dfo) # fit on data train\n",
        "  train_dfo.loc[:, col] = train_dfo[col].map(fe) # transform data train\n",
        "  test_dfo.loc[:, col] = test_dfo[col].map(fe) # tranform data test"
      ]
    },
    {
      "cell_type": "code",
      "execution_count": null,
      "metadata": {
        "colab": {
          "base_uri": "https://localhost:8080/"
        },
        "id": "MKsIkLUJdJ4e",
        "outputId": "165b8514-5707-4383-c6f3-94c4fa318079"
      },
      "outputs": [
        {
          "output_type": "stream",
          "name": "stdout",
          "text": [
            "(136989, 8)\n",
            "(35622, 8)\n"
          ]
        }
      ],
      "source": [
        "# Checking train & test\n",
        "print(train_dfo.shape)\n",
        "print(test_dfo.shape)"
      ]
    },
    {
      "cell_type": "markdown",
      "metadata": {
        "id": "wS91bNUCHl5_"
      },
      "source": [
        "## Normalization"
      ]
    },
    {
      "cell_type": "markdown",
      "metadata": {
        "id": "tt6q2xn2HoOf"
      },
      "source": [
        "As we can observe from dataset so far, there is column like Order Quantity. For these, we using normalization in order to generalize all value into 0 ~ 1."
      ]
    },
    {
      "cell_type": "code",
      "execution_count": null,
      "metadata": {
        "id": "PqBa7Pj_GRlH"
      },
      "outputs": [],
      "source": [
        "# Transform certain columns using normalization\n",
        "col_trans = ['Order Item Quantity']\n",
        "scaler = MinMaxScaler()\n",
        "train_dfo[col_trans] = scaler.fit_transform(train_dfo[col_trans])\n",
        "test_dfo[col_trans] = scaler.transform(test_dfo[col_trans])"
      ]
    },
    {
      "cell_type": "code",
      "execution_count": null,
      "metadata": {
        "colab": {
          "base_uri": "https://localhost:8080/"
        },
        "id": "lRCskCa6Pv0_",
        "outputId": "260a65b7-9924-4373-d8b1-76a5e9b06e7e"
      },
      "outputs": [
        {
          "output_type": "execute_result",
          "data": {
            "text/plain": [
              "        Category Name    Market  Order City  Order Country  \\\n",
              "129624       0.139420  0.278760    0.000277       0.003460   \n",
              "38743        0.113476  0.278760    0.001555       0.021396   \n",
              "97586        0.113476  0.285490    0.000504       0.073174   \n",
              "119329       0.139420  0.285490    0.000255       0.009957   \n",
              "169926       0.139420  0.142610    0.007241       0.137405   \n",
              "...               ...       ...         ...            ...   \n",
              "120765       0.113476  0.278760    0.000453       0.040536   \n",
              "25749        0.139420  0.278760    0.000139       0.005409   \n",
              "33556        0.113476  0.285490    0.001467       0.016687   \n",
              "6509         0.063158  0.229398    0.000161       0.031915   \n",
              "176174       0.139420  0.285490    0.003679       0.010775   \n",
              "\n",
              "        Order Item Quantity  Order Region  Shipping Mode  Late_delivery_risk  \n",
              "129624                 0.75      0.021323       0.597690                   0  \n",
              "38743                  0.00      0.052274       0.597690                   0  \n",
              "97586                  0.00      0.156363       0.195038                   1  \n",
              "119329                 0.50      0.083036       0.195038                   1  \n",
              "169926                 1.00      0.038288       0.195038                   0  \n",
              "...                     ...           ...            ...                 ...  \n",
              "120765                 0.00      0.053990       0.597690                   0  \n",
              "25749                  1.00      0.021323       0.153567                   1  \n",
              "33556                  0.00      0.156363       0.597690                   0  \n",
              "6509                   0.25      0.040376       0.597690                   0  \n",
              "176174                 0.50      0.156363       0.153567                   1  \n",
              "\n",
              "[35622 rows x 8 columns]"
            ],
            "text/html": [
              "\n",
              "  <div id=\"df-7dc49518-11e9-499e-8f32-194f89c0430a\">\n",
              "    <div class=\"colab-df-container\">\n",
              "      <div>\n",
              "<style scoped>\n",
              "    .dataframe tbody tr th:only-of-type {\n",
              "        vertical-align: middle;\n",
              "    }\n",
              "\n",
              "    .dataframe tbody tr th {\n",
              "        vertical-align: top;\n",
              "    }\n",
              "\n",
              "    .dataframe thead th {\n",
              "        text-align: right;\n",
              "    }\n",
              "</style>\n",
              "<table border=\"1\" class=\"dataframe\">\n",
              "  <thead>\n",
              "    <tr style=\"text-align: right;\">\n",
              "      <th></th>\n",
              "      <th>Category Name</th>\n",
              "      <th>Market</th>\n",
              "      <th>Order City</th>\n",
              "      <th>Order Country</th>\n",
              "      <th>Order Item Quantity</th>\n",
              "      <th>Order Region</th>\n",
              "      <th>Shipping Mode</th>\n",
              "      <th>Late_delivery_risk</th>\n",
              "    </tr>\n",
              "  </thead>\n",
              "  <tbody>\n",
              "    <tr>\n",
              "      <th>129624</th>\n",
              "      <td>0.139420</td>\n",
              "      <td>0.278760</td>\n",
              "      <td>0.000277</td>\n",
              "      <td>0.003460</td>\n",
              "      <td>0.75</td>\n",
              "      <td>0.021323</td>\n",
              "      <td>0.597690</td>\n",
              "      <td>0</td>\n",
              "    </tr>\n",
              "    <tr>\n",
              "      <th>38743</th>\n",
              "      <td>0.113476</td>\n",
              "      <td>0.278760</td>\n",
              "      <td>0.001555</td>\n",
              "      <td>0.021396</td>\n",
              "      <td>0.00</td>\n",
              "      <td>0.052274</td>\n",
              "      <td>0.597690</td>\n",
              "      <td>0</td>\n",
              "    </tr>\n",
              "    <tr>\n",
              "      <th>97586</th>\n",
              "      <td>0.113476</td>\n",
              "      <td>0.285490</td>\n",
              "      <td>0.000504</td>\n",
              "      <td>0.073174</td>\n",
              "      <td>0.00</td>\n",
              "      <td>0.156363</td>\n",
              "      <td>0.195038</td>\n",
              "      <td>1</td>\n",
              "    </tr>\n",
              "    <tr>\n",
              "      <th>119329</th>\n",
              "      <td>0.139420</td>\n",
              "      <td>0.285490</td>\n",
              "      <td>0.000255</td>\n",
              "      <td>0.009957</td>\n",
              "      <td>0.50</td>\n",
              "      <td>0.083036</td>\n",
              "      <td>0.195038</td>\n",
              "      <td>1</td>\n",
              "    </tr>\n",
              "    <tr>\n",
              "      <th>169926</th>\n",
              "      <td>0.139420</td>\n",
              "      <td>0.142610</td>\n",
              "      <td>0.007241</td>\n",
              "      <td>0.137405</td>\n",
              "      <td>1.00</td>\n",
              "      <td>0.038288</td>\n",
              "      <td>0.195038</td>\n",
              "      <td>0</td>\n",
              "    </tr>\n",
              "    <tr>\n",
              "      <th>...</th>\n",
              "      <td>...</td>\n",
              "      <td>...</td>\n",
              "      <td>...</td>\n",
              "      <td>...</td>\n",
              "      <td>...</td>\n",
              "      <td>...</td>\n",
              "      <td>...</td>\n",
              "      <td>...</td>\n",
              "    </tr>\n",
              "    <tr>\n",
              "      <th>120765</th>\n",
              "      <td>0.113476</td>\n",
              "      <td>0.278760</td>\n",
              "      <td>0.000453</td>\n",
              "      <td>0.040536</td>\n",
              "      <td>0.00</td>\n",
              "      <td>0.053990</td>\n",
              "      <td>0.597690</td>\n",
              "      <td>0</td>\n",
              "    </tr>\n",
              "    <tr>\n",
              "      <th>25749</th>\n",
              "      <td>0.139420</td>\n",
              "      <td>0.278760</td>\n",
              "      <td>0.000139</td>\n",
              "      <td>0.005409</td>\n",
              "      <td>1.00</td>\n",
              "      <td>0.021323</td>\n",
              "      <td>0.153567</td>\n",
              "      <td>1</td>\n",
              "    </tr>\n",
              "    <tr>\n",
              "      <th>33556</th>\n",
              "      <td>0.113476</td>\n",
              "      <td>0.285490</td>\n",
              "      <td>0.001467</td>\n",
              "      <td>0.016687</td>\n",
              "      <td>0.00</td>\n",
              "      <td>0.156363</td>\n",
              "      <td>0.597690</td>\n",
              "      <td>0</td>\n",
              "    </tr>\n",
              "    <tr>\n",
              "      <th>6509</th>\n",
              "      <td>0.063158</td>\n",
              "      <td>0.229398</td>\n",
              "      <td>0.000161</td>\n",
              "      <td>0.031915</td>\n",
              "      <td>0.25</td>\n",
              "      <td>0.040376</td>\n",
              "      <td>0.597690</td>\n",
              "      <td>0</td>\n",
              "    </tr>\n",
              "    <tr>\n",
              "      <th>176174</th>\n",
              "      <td>0.139420</td>\n",
              "      <td>0.285490</td>\n",
              "      <td>0.003679</td>\n",
              "      <td>0.010775</td>\n",
              "      <td>0.50</td>\n",
              "      <td>0.156363</td>\n",
              "      <td>0.153567</td>\n",
              "      <td>1</td>\n",
              "    </tr>\n",
              "  </tbody>\n",
              "</table>\n",
              "<p>35622 rows × 8 columns</p>\n",
              "</div>\n",
              "      <button class=\"colab-df-convert\" onclick=\"convertToInteractive('df-7dc49518-11e9-499e-8f32-194f89c0430a')\"\n",
              "              title=\"Convert this dataframe to an interactive table.\"\n",
              "              style=\"display:none;\">\n",
              "        \n",
              "  <svg xmlns=\"http://www.w3.org/2000/svg\" height=\"24px\"viewBox=\"0 0 24 24\"\n",
              "       width=\"24px\">\n",
              "    <path d=\"M0 0h24v24H0V0z\" fill=\"none\"/>\n",
              "    <path d=\"M18.56 5.44l.94 2.06.94-2.06 2.06-.94-2.06-.94-.94-2.06-.94 2.06-2.06.94zm-11 1L8.5 8.5l.94-2.06 2.06-.94-2.06-.94L8.5 2.5l-.94 2.06-2.06.94zm10 10l.94 2.06.94-2.06 2.06-.94-2.06-.94-.94-2.06-.94 2.06-2.06.94z\"/><path d=\"M17.41 7.96l-1.37-1.37c-.4-.4-.92-.59-1.43-.59-.52 0-1.04.2-1.43.59L10.3 9.45l-7.72 7.72c-.78.78-.78 2.05 0 2.83L4 21.41c.39.39.9.59 1.41.59.51 0 1.02-.2 1.41-.59l7.78-7.78 2.81-2.81c.8-.78.8-2.07 0-2.86zM5.41 20L4 18.59l7.72-7.72 1.47 1.35L5.41 20z\"/>\n",
              "  </svg>\n",
              "      </button>\n",
              "      \n",
              "  <style>\n",
              "    .colab-df-container {\n",
              "      display:flex;\n",
              "      flex-wrap:wrap;\n",
              "      gap: 12px;\n",
              "    }\n",
              "\n",
              "    .colab-df-convert {\n",
              "      background-color: #E8F0FE;\n",
              "      border: none;\n",
              "      border-radius: 50%;\n",
              "      cursor: pointer;\n",
              "      display: none;\n",
              "      fill: #1967D2;\n",
              "      height: 32px;\n",
              "      padding: 0 0 0 0;\n",
              "      width: 32px;\n",
              "    }\n",
              "\n",
              "    .colab-df-convert:hover {\n",
              "      background-color: #E2EBFA;\n",
              "      box-shadow: 0px 1px 2px rgba(60, 64, 67, 0.3), 0px 1px 3px 1px rgba(60, 64, 67, 0.15);\n",
              "      fill: #174EA6;\n",
              "    }\n",
              "\n",
              "    [theme=dark] .colab-df-convert {\n",
              "      background-color: #3B4455;\n",
              "      fill: #D2E3FC;\n",
              "    }\n",
              "\n",
              "    [theme=dark] .colab-df-convert:hover {\n",
              "      background-color: #434B5C;\n",
              "      box-shadow: 0px 1px 3px 1px rgba(0, 0, 0, 0.15);\n",
              "      filter: drop-shadow(0px 1px 2px rgba(0, 0, 0, 0.3));\n",
              "      fill: #FFFFFF;\n",
              "    }\n",
              "  </style>\n",
              "\n",
              "      <script>\n",
              "        const buttonEl =\n",
              "          document.querySelector('#df-7dc49518-11e9-499e-8f32-194f89c0430a button.colab-df-convert');\n",
              "        buttonEl.style.display =\n",
              "          google.colab.kernel.accessAllowed ? 'block' : 'none';\n",
              "\n",
              "        async function convertToInteractive(key) {\n",
              "          const element = document.querySelector('#df-7dc49518-11e9-499e-8f32-194f89c0430a');\n",
              "          const dataTable =\n",
              "            await google.colab.kernel.invokeFunction('convertToInteractive',\n",
              "                                                     [key], {});\n",
              "          if (!dataTable) return;\n",
              "\n",
              "          const docLinkHtml = 'Like what you see? Visit the ' +\n",
              "            '<a target=\"_blank\" href=https://colab.research.google.com/notebooks/data_table.ipynb>data table notebook</a>'\n",
              "            + ' to learn more about interactive tables.';\n",
              "          element.innerHTML = '';\n",
              "          dataTable['output_type'] = 'display_data';\n",
              "          await google.colab.output.renderOutput(dataTable, element);\n",
              "          const docLink = document.createElement('div');\n",
              "          docLink.innerHTML = docLinkHtml;\n",
              "          element.appendChild(docLink);\n",
              "        }\n",
              "      </script>\n",
              "    </div>\n",
              "  </div>\n",
              "  "
            ]
          },
          "metadata": {},
          "execution_count": 53
        }
      ],
      "source": [
        "test_dfo"
      ]
    },
    {
      "cell_type": "markdown",
      "metadata": {
        "id": "inbnCyaCgXkN"
      },
      "source": [
        "# Modeling Preparation"
      ]
    },
    {
      "cell_type": "markdown",
      "metadata": {
        "id": "VzJWnjFwUVk5"
      },
      "source": [
        "## Reseparate train_df and test_df"
      ]
    },
    {
      "cell_type": "code",
      "execution_count": null,
      "metadata": {
        "colab": {
          "base_uri": "https://localhost:8080/"
        },
        "id": "JARwrcuY7Y4b",
        "outputId": "6efb5bdc-dea8-475c-bb61-c21ba47f16d2"
      },
      "outputs": [
        {
          "output_type": "stream",
          "name": "stdout",
          "text": [
            "Category Name          0\n",
            "Market                 0\n",
            "Order City             0\n",
            "Order Country          0\n",
            "Order Item Quantity    0\n",
            "Order Region           0\n",
            "Shipping Mode          0\n",
            "Late_delivery_risk     0\n",
            "dtype: int64\n",
            "==========\n",
            "Category Name           0\n",
            "Market                  0\n",
            "Order City             21\n",
            "Order Country           0\n",
            "Order Item Quantity     0\n",
            "Order Region            0\n",
            "Shipping Mode           0\n",
            "Late_delivery_risk      0\n",
            "dtype: int64\n",
            "==========\n"
          ]
        }
      ],
      "source": [
        "# Check Null values\n",
        "print(train_dfo.isna().sum())\n",
        "print(\"=\"*10)\n",
        "print(test_dfo.isna().sum())\n",
        "print(\"=\"*10)"
      ]
    },
    {
      "cell_type": "markdown",
      "metadata": {
        "id": "1uoMm_bW_vFD"
      },
      "source": [
        "As we can see, there is null values created on test_dfo after encoding. We can drop these rows since it's only small percent from the data."
      ]
    },
    {
      "cell_type": "code",
      "execution_count": null,
      "metadata": {
        "id": "8QDFKXOq_ukM"
      },
      "outputs": [],
      "source": [
        "test_dfo = test_dfo.dropna()"
      ]
    },
    {
      "cell_type": "code",
      "execution_count": null,
      "metadata": {
        "colab": {
          "base_uri": "https://localhost:8080/"
        },
        "id": "l-stqIMrAUFC",
        "outputId": "403f414c-902d-4d92-ec58-babacd2d091a"
      },
      "outputs": [
        {
          "output_type": "stream",
          "name": "stdout",
          "text": [
            "Category Name          0\n",
            "Market                 0\n",
            "Order City             0\n",
            "Order Country          0\n",
            "Order Item Quantity    0\n",
            "Order Region           0\n",
            "Shipping Mode          0\n",
            "Late_delivery_risk     0\n",
            "dtype: int64\n",
            "==========\n"
          ]
        }
      ],
      "source": [
        "# Rechecking\n",
        "print(test_dfo.isna().sum())\n",
        "print(\"=\"*10)"
      ]
    },
    {
      "cell_type": "code",
      "execution_count": null,
      "metadata": {
        "id": "4idK8gEtP-et"
      },
      "outputs": [],
      "source": [
        "# Train df separation\n",
        "X_train = train_dfo.drop(['Late_delivery_risk'],axis = 1)\n",
        "y_train = train_dfo['Late_delivery_risk']\n",
        "\n",
        "# Test df separation\n",
        "X_test = test_dfo.drop(['Late_delivery_risk'],axis = 1)\n",
        "y_test = test_dfo['Late_delivery_risk']"
      ]
    },
    {
      "cell_type": "markdown",
      "metadata": {
        "id": "FJYDM8M-7atv"
      },
      "source": [
        "## Target Feature Percentage"
      ]
    },
    {
      "cell_type": "code",
      "execution_count": null,
      "metadata": {
        "colab": {
          "base_uri": "https://localhost:8080/"
        },
        "id": "siMg3iTmUBK7",
        "outputId": "0f44f51e-7aa9-4c6b-9dd3-21cf666b25b1"
      },
      "outputs": [
        {
          "output_type": "execute_result",
          "data": {
            "text/plain": [
              "   Late_delivery_risk   freq  percentage\n",
              "0                   1  75072        54.8\n",
              "1                   0  61917        45.2"
            ],
            "text/html": [
              "\n",
              "  <div id=\"df-ec7a86d1-fc74-4066-a9e6-151fc03fb53a\">\n",
              "    <div class=\"colab-df-container\">\n",
              "      <div>\n",
              "<style scoped>\n",
              "    .dataframe tbody tr th:only-of-type {\n",
              "        vertical-align: middle;\n",
              "    }\n",
              "\n",
              "    .dataframe tbody tr th {\n",
              "        vertical-align: top;\n",
              "    }\n",
              "\n",
              "    .dataframe thead th {\n",
              "        text-align: right;\n",
              "    }\n",
              "</style>\n",
              "<table border=\"1\" class=\"dataframe\">\n",
              "  <thead>\n",
              "    <tr style=\"text-align: right;\">\n",
              "      <th></th>\n",
              "      <th>Late_delivery_risk</th>\n",
              "      <th>freq</th>\n",
              "      <th>percentage</th>\n",
              "    </tr>\n",
              "  </thead>\n",
              "  <tbody>\n",
              "    <tr>\n",
              "      <th>0</th>\n",
              "      <td>1</td>\n",
              "      <td>75072</td>\n",
              "      <td>54.8</td>\n",
              "    </tr>\n",
              "    <tr>\n",
              "      <th>1</th>\n",
              "      <td>0</td>\n",
              "      <td>61917</td>\n",
              "      <td>45.2</td>\n",
              "    </tr>\n",
              "  </tbody>\n",
              "</table>\n",
              "</div>\n",
              "      <button class=\"colab-df-convert\" onclick=\"convertToInteractive('df-ec7a86d1-fc74-4066-a9e6-151fc03fb53a')\"\n",
              "              title=\"Convert this dataframe to an interactive table.\"\n",
              "              style=\"display:none;\">\n",
              "        \n",
              "  <svg xmlns=\"http://www.w3.org/2000/svg\" height=\"24px\"viewBox=\"0 0 24 24\"\n",
              "       width=\"24px\">\n",
              "    <path d=\"M0 0h24v24H0V0z\" fill=\"none\"/>\n",
              "    <path d=\"M18.56 5.44l.94 2.06.94-2.06 2.06-.94-2.06-.94-.94-2.06-.94 2.06-2.06.94zm-11 1L8.5 8.5l.94-2.06 2.06-.94-2.06-.94L8.5 2.5l-.94 2.06-2.06.94zm10 10l.94 2.06.94-2.06 2.06-.94-2.06-.94-.94-2.06-.94 2.06-2.06.94z\"/><path d=\"M17.41 7.96l-1.37-1.37c-.4-.4-.92-.59-1.43-.59-.52 0-1.04.2-1.43.59L10.3 9.45l-7.72 7.72c-.78.78-.78 2.05 0 2.83L4 21.41c.39.39.9.59 1.41.59.51 0 1.02-.2 1.41-.59l7.78-7.78 2.81-2.81c.8-.78.8-2.07 0-2.86zM5.41 20L4 18.59l7.72-7.72 1.47 1.35L5.41 20z\"/>\n",
              "  </svg>\n",
              "      </button>\n",
              "      \n",
              "  <style>\n",
              "    .colab-df-container {\n",
              "      display:flex;\n",
              "      flex-wrap:wrap;\n",
              "      gap: 12px;\n",
              "    }\n",
              "\n",
              "    .colab-df-convert {\n",
              "      background-color: #E8F0FE;\n",
              "      border: none;\n",
              "      border-radius: 50%;\n",
              "      cursor: pointer;\n",
              "      display: none;\n",
              "      fill: #1967D2;\n",
              "      height: 32px;\n",
              "      padding: 0 0 0 0;\n",
              "      width: 32px;\n",
              "    }\n",
              "\n",
              "    .colab-df-convert:hover {\n",
              "      background-color: #E2EBFA;\n",
              "      box-shadow: 0px 1px 2px rgba(60, 64, 67, 0.3), 0px 1px 3px 1px rgba(60, 64, 67, 0.15);\n",
              "      fill: #174EA6;\n",
              "    }\n",
              "\n",
              "    [theme=dark] .colab-df-convert {\n",
              "      background-color: #3B4455;\n",
              "      fill: #D2E3FC;\n",
              "    }\n",
              "\n",
              "    [theme=dark] .colab-df-convert:hover {\n",
              "      background-color: #434B5C;\n",
              "      box-shadow: 0px 1px 3px 1px rgba(0, 0, 0, 0.15);\n",
              "      filter: drop-shadow(0px 1px 2px rgba(0, 0, 0, 0.3));\n",
              "      fill: #FFFFFF;\n",
              "    }\n",
              "  </style>\n",
              "\n",
              "      <script>\n",
              "        const buttonEl =\n",
              "          document.querySelector('#df-ec7a86d1-fc74-4066-a9e6-151fc03fb53a button.colab-df-convert');\n",
              "        buttonEl.style.display =\n",
              "          google.colab.kernel.accessAllowed ? 'block' : 'none';\n",
              "\n",
              "        async function convertToInteractive(key) {\n",
              "          const element = document.querySelector('#df-ec7a86d1-fc74-4066-a9e6-151fc03fb53a');\n",
              "          const dataTable =\n",
              "            await google.colab.kernel.invokeFunction('convertToInteractive',\n",
              "                                                     [key], {});\n",
              "          if (!dataTable) return;\n",
              "\n",
              "          const docLinkHtml = 'Like what you see? Visit the ' +\n",
              "            '<a target=\"_blank\" href=https://colab.research.google.com/notebooks/data_table.ipynb>data table notebook</a>'\n",
              "            + ' to learn more about interactive tables.';\n",
              "          element.innerHTML = '';\n",
              "          dataTable['output_type'] = 'display_data';\n",
              "          await google.colab.output.renderOutput(dataTable, element);\n",
              "          const docLink = document.createElement('div');\n",
              "          docLink.innerHTML = docLinkHtml;\n",
              "          element.appendChild(docLink);\n",
              "        }\n",
              "      </script>\n",
              "    </div>\n",
              "  </div>\n",
              "  "
            ]
          },
          "metadata": {},
          "execution_count": 58
        }
      ],
      "source": [
        "# View the percentage of target feature\n",
        "target = y_train.value_counts().reset_index()\n",
        "target.rename(columns={'index':'Late_delivery_risk','Late_delivery_risk':'freq'}, inplace=True)\n",
        "target['percentage'] = round((target['freq']/target['freq'].sum())*100,2)\n",
        "target"
      ]
    },
    {
      "cell_type": "markdown",
      "metadata": {
        "id": "G37piFDQZ_ML"
      },
      "source": [
        "# Modeling"
      ]
    },
    {
      "cell_type": "markdown",
      "metadata": {
        "id": "8GpjKbER0icM"
      },
      "source": [
        "## Find best models"
      ]
    },
    {
      "cell_type": "code",
      "execution_count": null,
      "metadata": {
        "id": "2uPTHEcGXdKe"
      },
      "outputs": [],
      "source": [
        "def create_models(seed=1000):\n",
        "    '''\n",
        "    Create a list of machine learning models.\n",
        "            Parameters:\n",
        "                    seed (integer): random seed of the models\n",
        "            Returns:\n",
        "                    models (list): list containing the models\n",
        "    '''\n",
        "\n",
        "    models = []\n",
        "    models.append(('Decision Tree', DecisionTreeClassifier(random_state= seed)))\n",
        "    models.append(('KNN', KNeighborsClassifier()))\n",
        "    models.append(('Random Forest', RandomForestClassifier(random_state = seed)))\n",
        "    models.append(('XGBoost', XGBClassifier(random_state = seed)))\n",
        "    \n",
        "    return models\n",
        "\n",
        "# create a list with all the algorithms we are going to assess\n",
        "models = create_models()"
      ]
    },
    {
      "cell_type": "code",
      "execution_count": null,
      "metadata": {
        "colab": {
          "base_uri": "https://localhost:8080/"
        },
        "id": "1WZsAq72X7R7",
        "outputId": "ed2d7482-d253-4637-9f76-29a367940daf"
      },
      "outputs": [
        {
          "output_type": "stream",
          "name": "stdout",
          "text": [
            "Classifier: Decision Tree, F1 Score: 0.6644341737469903)\n",
            "Classifier: KNN, F1 Score: 0.6803956881476261)\n",
            "Classifier: Random Forest, F1 Score: 0.6878284410000531)\n",
            "Classifier: XGBoost, F1 Score: 0.6633660283356686)\n"
          ]
        }
      ],
      "source": [
        "# test the F1 Score of each model using default hyperparameters\n",
        "results = []\n",
        "names = []\n",
        "scoring = 'F1 Score'\n",
        "for name, model in models:\n",
        "    # fit the model with the training data\n",
        "    model.fit(X_train, y_train).predict(X_test)\n",
        "    # make predictions with the testing data\n",
        "    predictions = model.predict(X_test)\n",
        "    # calculate f1_score \n",
        "    f1score = f1_score(y_test, predictions)\n",
        "    # append the model name and the F1 Score to the lists\n",
        "    results.append(f1score)\n",
        "    names.append(name)\n",
        "    # print classifier F1 Score\n",
        "    print('Classifier: {}, F1 Score: {})'.format(name, f1score))"
      ]
    },
    {
      "cell_type": "code",
      "execution_count": null,
      "metadata": {
        "id": "axM3WMAffqcv",
        "colab": {
          "base_uri": "https://localhost:8080/"
        },
        "outputId": "cfd69094-774c-45b6-c765-5e192fea8aa7"
      },
      "outputs": [
        {
          "output_type": "stream",
          "name": "stdout",
          "text": [
            "===========================================================================\n",
            "Classifier: Decision Tree\n",
            "               not late          late  accuracy     macro avg  weighted avg\n",
            "precision      0.603155      0.723961   0.65942      0.663558      0.669501\n",
            "recall         0.714811      0.613953   0.65942      0.664382      0.659420\n",
            "f1-score       0.654253      0.664434   0.65942      0.659344      0.659845\n",
            "support    16049.000000  19552.000000   0.65942  35601.000000  35601.000000\n",
            "===========================================================================\n",
            "Classifier: KNN\n",
            "               not late          late  accuracy     macro avg  weighted avg\n",
            "precision      0.612945      0.694739  0.656049      0.653842      0.657866\n",
            "recall         0.643155      0.666633  0.656049      0.654894      0.656049\n",
            "f1-score       0.627687      0.680396  0.656049      0.654041      0.656635\n",
            "support    16049.000000  19552.000000  0.656049  35601.000000  35601.000000\n",
            "===========================================================================\n",
            "Classifier: Random Forest\n",
            "               not late          late  accuracy     macro avg  weighted avg\n",
            "precision      0.622661      0.714885  0.669616      0.668773      0.673310\n",
            "recall         0.677986      0.662745  0.669616      0.670366      0.669616\n",
            "f1-score       0.649147      0.687828  0.669616      0.668488      0.670391\n",
            "support    16049.000000  19552.000000  0.669616  35601.000000  35601.000000\n",
            "===========================================================================\n",
            "Classifier: XGBoost\n",
            "               not late          late  accuracy     macro avg  weighted avg\n",
            "precision      0.613682      0.847887  0.696329      0.730784      0.742307\n",
            "recall         0.880927      0.544804  0.696329      0.712865      0.696329\n",
            "f1-score       0.723412      0.663366  0.696329      0.693389      0.690435\n",
            "support    16049.000000  19552.000000  0.696329  35601.000000  35601.000000\n"
          ]
        }
      ],
      "source": [
        "for name,model in models:\n",
        "  model.fit(X_train, y_train).predict(X_test)\n",
        "  predictions = model.predict(X_test)\n",
        "  print('='*75)\n",
        "  print('Classifier: {}'.format(name))\n",
        "  print(pd.DataFrame(classification_report(y_test, predictions, target_names=['not late','late'], output_dict=True)))"
      ]
    },
    {
      "cell_type": "markdown",
      "metadata": {
        "id": "Ig7j4uubAt8o"
      },
      "source": [
        "From the summary above, the best model in the term of F1-Score is Random Forest. Therefore, we are going to use this model for prediction."
      ]
    },
    {
      "cell_type": "markdown",
      "metadata": {
        "id": "Ug_eod1aVmbd"
      },
      "source": [
        "## Modelling with Best Model"
      ]
    },
    {
      "cell_type": "code",
      "execution_count": null,
      "metadata": {
        "colab": {
          "base_uri": "https://localhost:8080/"
        },
        "id": "WqjBFvYHVmAo",
        "outputId": "06c653e8-fcbb-45cf-e971-684df7fe5fb3"
      },
      "outputs": [
        {
          "output_type": "execute_result",
          "data": {
            "text/plain": [
              "RandomForestClassifier(random_state=1000)"
            ]
          },
          "metadata": {},
          "execution_count": 62
        }
      ],
      "source": [
        "# define KNN\n",
        "rf = RandomForestClassifier(random_state = 1000)\n",
        "\n",
        "# fit model to data\n",
        "rf.fit(X_train, y_train)"
      ]
    },
    {
      "cell_type": "markdown",
      "metadata": {
        "id": "2vHYX037U94_"
      },
      "source": [
        "## Evaluation"
      ]
    },
    {
      "cell_type": "code",
      "execution_count": null,
      "metadata": {
        "id": "Ic__ePnUgiam"
      },
      "outputs": [],
      "source": [
        "# predict\n",
        "pred_result = rf.predict(X_test)\n",
        "pred_proba_result = rf.predict_proba(X_test)"
      ]
    },
    {
      "cell_type": "code",
      "execution_count": null,
      "metadata": {
        "colab": {
          "base_uri": "https://localhost:8080/",
          "height": 175
        },
        "id": "JeO_iLESgoWE",
        "outputId": "bc371082-1003-4875-fcef-273a6e1b7d68"
      },
      "outputs": [
        {
          "output_type": "execute_result",
          "data": {
            "text/plain": [
              "               not late          late  accuracy     macro avg  weighted avg\n",
              "precision      0.622661      0.714885  0.669616      0.668773      0.673310\n",
              "recall         0.677986      0.662745  0.669616      0.670366      0.669616\n",
              "f1-score       0.649147      0.687828  0.669616      0.668488      0.670391\n",
              "support    16049.000000  19552.000000  0.669616  35601.000000  35601.000000"
            ],
            "text/html": [
              "\n",
              "  <div id=\"df-dee3648b-6c41-4551-adc5-ecf32fdf16e5\">\n",
              "    <div class=\"colab-df-container\">\n",
              "      <div>\n",
              "<style scoped>\n",
              "    .dataframe tbody tr th:only-of-type {\n",
              "        vertical-align: middle;\n",
              "    }\n",
              "\n",
              "    .dataframe tbody tr th {\n",
              "        vertical-align: top;\n",
              "    }\n",
              "\n",
              "    .dataframe thead th {\n",
              "        text-align: right;\n",
              "    }\n",
              "</style>\n",
              "<table border=\"1\" class=\"dataframe\">\n",
              "  <thead>\n",
              "    <tr style=\"text-align: right;\">\n",
              "      <th></th>\n",
              "      <th>not late</th>\n",
              "      <th>late</th>\n",
              "      <th>accuracy</th>\n",
              "      <th>macro avg</th>\n",
              "      <th>weighted avg</th>\n",
              "    </tr>\n",
              "  </thead>\n",
              "  <tbody>\n",
              "    <tr>\n",
              "      <th>precision</th>\n",
              "      <td>0.622661</td>\n",
              "      <td>0.714885</td>\n",
              "      <td>0.669616</td>\n",
              "      <td>0.668773</td>\n",
              "      <td>0.673310</td>\n",
              "    </tr>\n",
              "    <tr>\n",
              "      <th>recall</th>\n",
              "      <td>0.677986</td>\n",
              "      <td>0.662745</td>\n",
              "      <td>0.669616</td>\n",
              "      <td>0.670366</td>\n",
              "      <td>0.669616</td>\n",
              "    </tr>\n",
              "    <tr>\n",
              "      <th>f1-score</th>\n",
              "      <td>0.649147</td>\n",
              "      <td>0.687828</td>\n",
              "      <td>0.669616</td>\n",
              "      <td>0.668488</td>\n",
              "      <td>0.670391</td>\n",
              "    </tr>\n",
              "    <tr>\n",
              "      <th>support</th>\n",
              "      <td>16049.000000</td>\n",
              "      <td>19552.000000</td>\n",
              "      <td>0.669616</td>\n",
              "      <td>35601.000000</td>\n",
              "      <td>35601.000000</td>\n",
              "    </tr>\n",
              "  </tbody>\n",
              "</table>\n",
              "</div>\n",
              "      <button class=\"colab-df-convert\" onclick=\"convertToInteractive('df-dee3648b-6c41-4551-adc5-ecf32fdf16e5')\"\n",
              "              title=\"Convert this dataframe to an interactive table.\"\n",
              "              style=\"display:none;\">\n",
              "        \n",
              "  <svg xmlns=\"http://www.w3.org/2000/svg\" height=\"24px\"viewBox=\"0 0 24 24\"\n",
              "       width=\"24px\">\n",
              "    <path d=\"M0 0h24v24H0V0z\" fill=\"none\"/>\n",
              "    <path d=\"M18.56 5.44l.94 2.06.94-2.06 2.06-.94-2.06-.94-.94-2.06-.94 2.06-2.06.94zm-11 1L8.5 8.5l.94-2.06 2.06-.94-2.06-.94L8.5 2.5l-.94 2.06-2.06.94zm10 10l.94 2.06.94-2.06 2.06-.94-2.06-.94-.94-2.06-.94 2.06-2.06.94z\"/><path d=\"M17.41 7.96l-1.37-1.37c-.4-.4-.92-.59-1.43-.59-.52 0-1.04.2-1.43.59L10.3 9.45l-7.72 7.72c-.78.78-.78 2.05 0 2.83L4 21.41c.39.39.9.59 1.41.59.51 0 1.02-.2 1.41-.59l7.78-7.78 2.81-2.81c.8-.78.8-2.07 0-2.86zM5.41 20L4 18.59l7.72-7.72 1.47 1.35L5.41 20z\"/>\n",
              "  </svg>\n",
              "      </button>\n",
              "      \n",
              "  <style>\n",
              "    .colab-df-container {\n",
              "      display:flex;\n",
              "      flex-wrap:wrap;\n",
              "      gap: 12px;\n",
              "    }\n",
              "\n",
              "    .colab-df-convert {\n",
              "      background-color: #E8F0FE;\n",
              "      border: none;\n",
              "      border-radius: 50%;\n",
              "      cursor: pointer;\n",
              "      display: none;\n",
              "      fill: #1967D2;\n",
              "      height: 32px;\n",
              "      padding: 0 0 0 0;\n",
              "      width: 32px;\n",
              "    }\n",
              "\n",
              "    .colab-df-convert:hover {\n",
              "      background-color: #E2EBFA;\n",
              "      box-shadow: 0px 1px 2px rgba(60, 64, 67, 0.3), 0px 1px 3px 1px rgba(60, 64, 67, 0.15);\n",
              "      fill: #174EA6;\n",
              "    }\n",
              "\n",
              "    [theme=dark] .colab-df-convert {\n",
              "      background-color: #3B4455;\n",
              "      fill: #D2E3FC;\n",
              "    }\n",
              "\n",
              "    [theme=dark] .colab-df-convert:hover {\n",
              "      background-color: #434B5C;\n",
              "      box-shadow: 0px 1px 3px 1px rgba(0, 0, 0, 0.15);\n",
              "      filter: drop-shadow(0px 1px 2px rgba(0, 0, 0, 0.3));\n",
              "      fill: #FFFFFF;\n",
              "    }\n",
              "  </style>\n",
              "\n",
              "      <script>\n",
              "        const buttonEl =\n",
              "          document.querySelector('#df-dee3648b-6c41-4551-adc5-ecf32fdf16e5 button.colab-df-convert');\n",
              "        buttonEl.style.display =\n",
              "          google.colab.kernel.accessAllowed ? 'block' : 'none';\n",
              "\n",
              "        async function convertToInteractive(key) {\n",
              "          const element = document.querySelector('#df-dee3648b-6c41-4551-adc5-ecf32fdf16e5');\n",
              "          const dataTable =\n",
              "            await google.colab.kernel.invokeFunction('convertToInteractive',\n",
              "                                                     [key], {});\n",
              "          if (!dataTable) return;\n",
              "\n",
              "          const docLinkHtml = 'Like what you see? Visit the ' +\n",
              "            '<a target=\"_blank\" href=https://colab.research.google.com/notebooks/data_table.ipynb>data table notebook</a>'\n",
              "            + ' to learn more about interactive tables.';\n",
              "          element.innerHTML = '';\n",
              "          dataTable['output_type'] = 'display_data';\n",
              "          await google.colab.output.renderOutput(dataTable, element);\n",
              "          const docLink = document.createElement('div');\n",
              "          docLink.innerHTML = docLinkHtml;\n",
              "          element.appendChild(docLink);\n",
              "        }\n",
              "      </script>\n",
              "    </div>\n",
              "  </div>\n",
              "  "
            ]
          },
          "metadata": {},
          "execution_count": 64
        }
      ],
      "source": [
        "# check classification report result\n",
        "pd.DataFrame(classification_report(y_test, pred_result, target_names=['not late','late'], output_dict=True))"
      ]
    },
    {
      "cell_type": "code",
      "execution_count": null,
      "metadata": {
        "colab": {
          "base_uri": "https://localhost:8080/",
          "height": 295
        },
        "id": "Er9aA2DRgyv8",
        "outputId": "17c48c04-2e44-4e3d-9c75-a94f28b6ead2"
      },
      "outputs": [
        {
          "output_type": "display_data",
          "data": {
            "text/plain": [
              "<Figure size 432x288 with 2 Axes>"
            ],
            "image/png": "[encoded data removed]"
          },
          "metadata": {
            "needs_background": "light"
          }
        }
      ],
      "source": [
        "# check confusion matrix\n",
        "skplt.metrics.plot_confusion_matrix(y_test, pred_result);"
      ]
    },
    {
      "cell_type": "markdown",
      "metadata": {
        "id": "4RUgYN-FATDX"
      },
      "source": [
        "The confusion matrix show :\n",
        "\n",
        "* The model predicted delivery will be late and actually late is 12958. (True Positive)\n",
        "* The model predicted delivery will not late and actually late is 6394. (False Negative)\n",
        "* The model predicted delivery will late and actually not is 5168. (False Positive)\n",
        "* The model predicted delivery will not late and actually not late is 10881. (True Negative)\n"
      ]
    },
    {
      "cell_type": "code",
      "execution_count": null,
      "metadata": {
        "colab": {
          "base_uri": "https://localhost:8080/",
          "height": 295
        },
        "id": "fswcrfRFhAVD",
        "outputId": "21f10b13-3b19-4532-d5f1-86fea12f13ef"
      },
      "outputs": [
        {
          "output_type": "display_data",
          "data": {
            "text/plain": [
              "<Figure size 432x288 with 1 Axes>"
            ],
            "image/png": "[encoded data removed]"
          },
          "metadata": {
            "needs_background": "light"
          }
        }
      ],
      "source": [
        "# check ROC-AUC curve and result\n",
        "skplt.metrics.plot_roc_curve(y_test, pred_proba_result);"
      ]
    },
    {
      "cell_type": "markdown",
      "metadata": {
        "id": "rBxhb6xQ_qB7"
      },
      "source": [
        "From the plot above, we know that our model success rate in distinct True Positive and True Negative is 73%."
      ]
    },
    {
      "cell_type": "code",
      "execution_count": null,
      "metadata": {
        "colab": {
          "base_uri": "https://localhost:8080/"
        },
        "id": "u5SRmTsKhGwM",
        "outputId": "f6a71870-d8f1-40a7-bcb0-dd07be483637"
      },
      "outputs": [
        {
          "output_type": "execute_result",
          "data": {
            "text/plain": [
              "0.6878284410000531"
            ]
          },
          "metadata": {},
          "execution_count": 67
        }
      ],
      "source": [
        "# check f1-score\n",
        "f1_score(y_test, pred_result)"
      ]
    },
    {
      "cell_type": "markdown",
      "metadata": {
        "id": "mpwHcwPl_j2F"
      },
      "source": [
        "As a result, the harmony between precision and recall is 68.7%."
      ]
    },
    {
      "cell_type": "markdown",
      "metadata": {
        "id": "T31acBFMhUDE"
      },
      "source": [
        "## Interpretation"
      ]
    },
    {
      "cell_type": "code",
      "execution_count": null,
      "metadata": {
        "colab": {
          "base_uri": "https://localhost:8080/"
        },
        "id": "1uGvflWzhVgl",
        "outputId": "64e967c7-8e15-4694-a5d2-cf45597cae48"
      },
      "outputs": [
        {
          "output_type": "stream",
          "name": "stdout",
          "text": [
            "Preparation of a new explainer is initiated\n",
            "\n",
            "  -> data              : 136989 rows 7 cols\n",
            "  -> target variable   : Parameter 'y' was a pandas.Series. Converted to a numpy.ndarray.\n",
            "  -> target variable   : 136989 values\n",
            "  -> model_class       : sklearn.ensemble._forest.RandomForestClassifier (default)\n",
            "  -> label             : Random Forest Interpretation\n",
            "  -> predict function  : <function yhat_proba_default at 0x7febb7b3d4d0> will be used (default)\n",
            "  -> predict function  : Accepts pandas.DataFrame and numpy.ndarray.\n",
            "  -> predicted values  : min = 0.0, mean = 0.548, max = 1.0\n",
            "  -> model type        : classification will be used (default)\n",
            "  -> residual function : difference between y and yhat (default)\n",
            "  -> residuals         : min = -0.955, mean = -0.000128, max = 0.933\n",
            "  -> model_info        : package sklearn\n",
            "\n",
            "A new explainer has been created!\n"
          ]
        }
      ],
      "source": [
        "# initiate explainer for rf model\n",
        "conv_rf_exp = dx.Explainer(rf, X_train, y_train, label = \"Random Forest Interpretation\")"
      ]
    },
    {
      "cell_type": "code",
      "execution_count": null,
      "metadata": {
        "colab": {
          "base_uri": "https://localhost:8080/",
          "height": 340
        },
        "id": "CEqEHWPcn__E",
        "outputId": "99c7eabb-0be2-447f-d5a7-781facc01761"
      },
      "outputs": [
        {
          "output_type": "display_data",
          "data": {
            "text/html": [
              "<html>\n",
              "<head><meta charset=\"utf-8\" /></head>\n",
              "<body>\n",
              "    <div>            <script src=\"https://cdnjs.cloudflare.com/ajax/libs/mathjax/2.7.5/MathJax.js?config=TeX-AMS-MML_SVG\"></script><script type=\"text/javascript\">if (window.MathJax) {MathJax.Hub.Config({SVG: {font: \"STIX-Web\"}});}</script>                <script type=\"text/javascript\">window.PlotlyConfig = {MathJaxConfig: 'local'};</script>\n",
              "        <script src=\"https://cdn.plot.ly/plotly-2.8.3.min.js\"></script>                <div id=\"6481b519-4947-4d80-a82f-dead4a246a50\" class=\"plotly-graph-div\" style=\"height:323.0px; width:100%;\"></div>            <script type=\"text/javascript\">                                    window.PLOTLYENV=window.PLOTLYENV || {};                                    if (document.getElementById(\"6481b519-4947-4d80-a82f-dead4a246a50\")) {                    Plotly.newPlot(                        \"6481b519-4947-4d80-a82f-dead4a246a50\",                        [{\"base\":0.06957016589490946,\"hoverinfo\":\"text\",\"hoverlabel\":{\"bgcolor\":\"rgba(0,0,0,0.8)\"},\"hovertext\":[\"Model: Random Forest Interpretation loss after<br>variable: Shipping Mode is permuted: 0.385<br>Drop-out loss change: +0.315\",\"Model: Random Forest Interpretation loss after<br>variable: Order City is permuted: 0.273<br>Drop-out loss change: +0.204\",\"Model: Random Forest Interpretation loss after<br>variable: Category Name is permuted: 0.234<br>Drop-out loss change: +0.165\",\"Model: Random Forest Interpretation loss after<br>variable: Order Item Quantity is permuted: 0.197<br>Drop-out loss change: +0.127\",\"Model: Random Forest Interpretation loss after<br>variable: Order Country is permuted: 0.182<br>Drop-out loss change: +0.112\",\"Model: Random Forest Interpretation loss after<br>variable: Order Region is permuted: 0.163<br>Drop-out loss change: +0.093\",\"Model: Random Forest Interpretation loss after<br>variable: Market is permuted: 0.116<br>Drop-out loss change: +0.046\"],\"marker\":{\"color\":\"#46bac2\"},\"orientation\":\"h\",\"showlegend\":false,\"text\":[\"+0.315\",\"+0.204\",\"+0.165\",\"+0.127\",\"+0.112\",\"+0.093\",\"+0.046\"],\"textposition\":\"outside\",\"x\":[0.31493155037020343,0.20386966185628824,0.16483845540181635,0.12721586989093076,0.11239885088848188,0.09348233383789263,0.04624136775635687],\"y\":[\"Shipping Mode\",\"Order City\",\"Category Name\",\"Order Item Quantity\",\"Order Country\",\"Order Region\",\"Market\"],\"type\":\"bar\",\"xaxis\":\"x\",\"yaxis\":\"y\"}],                        {\"template\":{\"data\":{\"scatter\":[{\"type\":\"scatter\"}]}},\"xaxis\":{\"anchor\":\"y\",\"domain\":[0.0,1.0],\"type\":\"linear\",\"gridwidth\":2,\"zeroline\":false,\"automargin\":true,\"ticks\":\"outside\",\"tickcolor\":\"white\",\"ticklen\":3,\"fixedrange\":true,\"range\":[0.022330433339378945,0.43174144882064336]},\"yaxis\":{\"anchor\":\"x\",\"domain\":[0.0,1.0],\"type\":\"category\",\"autorange\":\"reversed\",\"gridwidth\":2,\"automargin\":true,\"ticks\":\"outside\",\"tickcolor\":\"white\",\"ticklen\":10,\"fixedrange\":true},\"annotations\":[{\"font\":{\"size\":16},\"showarrow\":false,\"text\":\"Random Forest Interpretation\",\"x\":0.5,\"xanchor\":\"center\",\"xref\":\"paper\",\"y\":1.0,\"yanchor\":\"bottom\",\"yref\":\"paper\"},{\"font\":{\"size\":16},\"showarrow\":false,\"text\":\"drop-out loss\",\"x\":0.5,\"xanchor\":\"center\",\"xref\":\"paper\",\"y\":0,\"yanchor\":\"top\",\"yref\":\"paper\",\"yshift\":-30}],\"shapes\":[{\"line\":{\"color\":\"#371ea3\",\"dash\":\"dot\",\"width\":1.5},\"type\":\"line\",\"x0\":0.06957016589490946,\"x1\":0.06957016589490946,\"xref\":\"x\",\"y0\":-1,\"y1\":7,\"yref\":\"y\"}],\"title\":{\"text\":\"Variable Importance\",\"x\":0.15},\"font\":{\"color\":\"#371ea3\"},\"margin\":{\"t\":78,\"b\":71,\"r\":30},\"height\":323.0},                        {\"displaylogo\": false, \"staticPlot\": false, \"toImageButtonOptions\": {\"height\": null, \"width\": null}, \"modeBarButtonsToRemove\": [\"sendDataToCloud\", \"lasso2d\", \"autoScale2d\", \"select2d\", \"zoom2d\", \"pan2d\", \"zoomIn2d\", \"zoomOut2d\", \"resetScale2d\", \"toggleSpikelines\", \"hoverCompareCartesian\", \"hoverClosestCartesian\"], \"responsive\": true}                    ).then(function(){\n",
              "                            \n",
              "var gd = document.getElementById('6481b519-4947-4d80-a82f-dead4a246a50');\n",
              "var x = new MutationObserver(function (mutations, observer) {{\n",
              "        var display = window.getComputedStyle(gd).display;\n",
              "        if (!display || display === 'none') {{\n",
              "            console.log([gd, 'removed!']);\n",
              "            Plotly.purge(gd);\n",
              "            observer.disconnect();\n",
              "        }}\n",
              "}});\n",
              "\n",
              "// Listen for the removal of the full notebook cells\n",
              "var notebookContainer = gd.closest('#notebook-container');\n",
              "if (notebookContainer) {{\n",
              "    x.observe(notebookContainer, {childList: true});\n",
              "}}\n",
              "\n",
              "// Listen for the clearing of the current output cell\n",
              "var outputEl = gd.closest('.output');\n",
              "if (outputEl) {{\n",
              "    x.observe(outputEl, {childList: true});\n",
              "}}\n",
              "\n",
              "                        })                };                            </script>        </div>\n",
              "</body>\n",
              "</html>"
            ]
          },
          "metadata": {}
        }
      ],
      "source": [
        "# visualize permutation feature importance for Random Forest model\n",
        "conv_rf_exp.model_parts().plot()"
      ]
    },
    {
      "cell_type": "markdown",
      "metadata": {
        "id": "-B_GzHAuI9AT"
      },
      "source": [
        "From the feature importance, we know that the highest four importance variable to determine late delivery risk is :\n",
        "* Shipping Mode\n",
        "* Order City\n",
        "* Category Name\n",
        "* Order Item Quantity"
      ]
    },
    {
      "cell_type": "code",
      "execution_count": null,
      "metadata": {
        "colab": {
          "base_uri": "https://localhost:8080/",
          "height": 1000
        },
        "id": "b6n7iRSDoIZF",
        "outputId": "3b5605e7-6677-48e8-829c-1fc9585b3760"
      },
      "outputs": [
        {
          "output_type": "stream",
          "name": "stderr",
          "text": [
            "Calculating ceteris paribus: 100%|██████████| 7/7 [00:06<00:00,  1.05it/s]\n"
          ]
        },
        {
          "output_type": "display_data",
          "data": {
            "text/html": [
              "<html>\n",
              "<head><meta charset=\"utf-8\" /></head>\n",
              "<body>\n",
              "    <div>            <script src=\"https://cdnjs.cloudflare.com/ajax/libs/mathjax/2.7.5/MathJax.js?config=TeX-AMS-MML_SVG\"></script><script type=\"text/javascript\">if (window.MathJax) {MathJax.Hub.Config({SVG: {font: \"STIX-Web\"}});}</script>                <script type=\"text/javascript\">window.PlotlyConfig = {MathJaxConfig: 'local'};</script>\n",
              "        <script src=\"https://cdn.plot.ly/plotly-2.8.3.min.js\"></script>                <div id=\"e41e5339-ebdf-4985-a757-5e30f4c950c1\" class=\"plotly-graph-div\" style=\"height:1509px; width:100%;\"></div>            <script type=\"text/javascript\">                                    window.PLOTLYENV=window.PLOTLYENV || {};                                    if (document.getElementById(\"e41e5339-ebdf-4985-a757-5e30f4c950c1\")) {                    Plotly.newPlot(                        \"e41e5339-ebdf-4985-a757-5e30f4c950c1\",                        [{\"customdata\":[[0.5315287953360255,\"Random Forest Interpretation\",\"Category Name\"],[0.5315287953360255,\"Random Forest Interpretation\",\"Category Name\"],[0.5315287953360255,\"Random Forest Interpretation\",\"Category Name\"],[0.5315287953360255,\"Random Forest Interpretation\",\"Category Name\"],[0.5315287953360255,\"Random Forest Interpretation\",\"Category Name\"],[0.5315287953360255,\"Random Forest Interpretation\",\"Category Name\"],[0.5315287953360255,\"Random Forest Interpretation\",\"Category Name\"],[0.5315287953360255,\"Random Forest Interpretation\",\"Category Name\"],[0.5315287953360255,\"Random Forest Interpretation\",\"Category Name\"],[0.5315287953360255,\"Random Forest Interpretation\",\"Category Name\"],[0.5315287953360255,\"Random Forest Interpretation\",\"Category Name\"],[0.5315287953360255,\"Random Forest Interpretation\",\"Category Name\"],[0.5315287953360255,\"Random Forest Interpretation\",\"Category Name\"],[0.5315287953360255,\"Random Forest Interpretation\",\"Category Name\"],[0.5315287953360255,\"Random Forest Interpretation\",\"Category Name\"],[0.5315287953360255,\"Random Forest Interpretation\",\"Category Name\"],[0.5315287953360255,\"Random Forest Interpretation\",\"Category Name\"],[0.5315287953360255,\"Random Forest Interpretation\",\"Category Name\"],[0.5315287953360255,\"Random Forest Interpretation\",\"Category Name\"],[0.5315287953360255,\"Random Forest Interpretation\",\"Category Name\"],[0.5315287953360255,\"Random Forest Interpretation\",\"Category Name\"],[0.5315287953360255,\"Random Forest Interpretation\",\"Category Name\"],[0.5315287953360255,\"Random Forest Interpretation\",\"Category Name\"],[0.5315287953360255,\"Random Forest Interpretation\",\"Category Name\"],[0.5315287953360255,\"Random Forest Interpretation\",\"Category Name\"],[0.5315287953360255,\"Random Forest Interpretation\",\"Category Name\"],[0.5315287953360255,\"Random Forest Interpretation\",\"Category Name\"],[0.5315287953360255,\"Random Forest Interpretation\",\"Category Name\"],[0.5315287953360255,\"Random Forest Interpretation\",\"Category Name\"],[0.5315287953360255,\"Random Forest Interpretation\",\"Category Name\"],[0.5315287953360255,\"Random Forest Interpretation\",\"Category Name\"],[0.5315287953360255,\"Random Forest Interpretation\",\"Category Name\"],[0.5315287953360255,\"Random Forest Interpretation\",\"Category Name\"],[0.5315287953360255,\"Random Forest Interpretation\",\"Category Name\"],[0.5315287953360255,\"Random Forest Interpretation\",\"Category Name\"],[0.5315287953360255,\"Random Forest Interpretation\",\"Category Name\"],[0.5315287953360255,\"Random Forest Interpretation\",\"Category Name\"],[0.5315287953360255,\"Random Forest Interpretation\",\"Category Name\"],[0.5315287953360255,\"Random Forest Interpretation\",\"Category Name\"],[0.5315287953360255,\"Random Forest Interpretation\",\"Category Name\"],[0.5315287953360255,\"Random Forest Interpretation\",\"Category Name\"],[0.5315287953360255,\"Random Forest Interpretation\",\"Category Name\"],[0.5315287953360255,\"Random Forest Interpretation\",\"Category Name\"],[0.5315287953360255,\"Random Forest Interpretation\",\"Category Name\"],[0.5315287953360255,\"Random Forest Interpretation\",\"Category Name\"],[0.5315287953360255,\"Random Forest Interpretation\",\"Category Name\"],[0.5315287953360255,\"Random Forest Interpretation\",\"Category Name\"],[0.5315287953360255,\"Random Forest Interpretation\",\"Category Name\"],[0.5315287953360255,\"Random Forest Interpretation\",\"Category Name\"],[0.5315287953360255,\"Random Forest Interpretation\",\"Category Name\"],[0.5315287953360255,\"Random Forest Interpretation\",\"Category Name\"],[0.5315287953360255,\"Random Forest Interpretation\",\"Category Name\"],[0.5315287953360255,\"Random Forest Interpretation\",\"Category Name\"],[0.5315287953360255,\"Random Forest Interpretation\",\"Category Name\"],[0.5315287953360255,\"Random Forest Interpretation\",\"Category Name\"],[0.5315287953360255,\"Random Forest Interpretation\",\"Category Name\"],[0.5315287953360255,\"Random Forest Interpretation\",\"Category Name\"],[0.5315287953360255,\"Random Forest Interpretation\",\"Category Name\"],[0.5315287953360255,\"Random Forest Interpretation\",\"Category Name\"],[0.5315287953360255,\"Random Forest Interpretation\",\"Category Name\"],[0.5315287953360255,\"Random Forest Interpretation\",\"Category Name\"],[0.5315287953360255,\"Random Forest Interpretation\",\"Category Name\"],[0.5315287953360255,\"Random Forest Interpretation\",\"Category Name\"],[0.5315287953360255,\"Random Forest Interpretation\",\"Category Name\"],[0.5315287953360255,\"Random Forest Interpretation\",\"Category Name\"],[0.5315287953360255,\"Random Forest Interpretation\",\"Category Name\"],[0.5315287953360255,\"Random Forest Interpretation\",\"Category Name\"],[0.5315287953360255,\"Random Forest Interpretation\",\"Category Name\"],[0.5315287953360255,\"Random Forest Interpretation\",\"Category Name\"],[0.5315287953360255,\"Random Forest Interpretation\",\"Category Name\"],[0.5315287953360255,\"Random Forest Interpretation\",\"Category Name\"],[0.5315287953360255,\"Random Forest Interpretation\",\"Category Name\"],[0.5315287953360255,\"Random Forest Interpretation\",\"Category Name\"],[0.5315287953360255,\"Random Forest Interpretation\",\"Category Name\"],[0.5315287953360255,\"Random Forest Interpretation\",\"Category Name\"],[0.5315287953360255,\"Random Forest Interpretation\",\"Category Name\"],[0.5315287953360255,\"Random Forest Interpretation\",\"Category Name\"],[0.5315287953360255,\"Random Forest Interpretation\",\"Category Name\"],[0.5315287953360255,\"Random Forest Interpretation\",\"Category Name\"],[0.5315287953360255,\"Random Forest Interpretation\",\"Category Name\"],[0.5315287953360255,\"Random Forest Interpretation\",\"Category Name\"],[0.5315287953360255,\"Random Forest Interpretation\",\"Category Name\"],[0.5315287953360255,\"Random Forest Interpretation\",\"Category Name\"],[0.5315287953360255,\"Random Forest Interpretation\",\"Category Name\"],[0.5315287953360255,\"Random Forest Interpretation\",\"Category Name\"],[0.5315287953360255,\"Random Forest Interpretation\",\"Category Name\"],[0.5315287953360255,\"Random Forest Interpretation\",\"Category Name\"],[0.5315287953360255,\"Random Forest Interpretation\",\"Category Name\"],[0.5315287953360255,\"Random Forest Interpretation\",\"Category Name\"],[0.5315287953360255,\"Random Forest Interpretation\",\"Category Name\"],[0.5315287953360255,\"Random Forest Interpretation\",\"Category Name\"],[0.5315287953360255,\"Random Forest Interpretation\",\"Category Name\"],[0.5315287953360255,\"Random Forest Interpretation\",\"Category Name\"],[0.5315287953360255,\"Random Forest Interpretation\",\"Category Name\"],[0.5315287953360255,\"Random Forest Interpretation\",\"Category Name\"],[0.5315287953360255,\"Random Forest Interpretation\",\"Category Name\"],[0.5315287953360255,\"Random Forest Interpretation\",\"Category Name\"],[0.5315287953360255,\"Random Forest Interpretation\",\"Category Name\"],[0.5315287953360255,\"Random Forest Interpretation\",\"Category Name\"],[0.5315287953360255,\"Random Forest Interpretation\",\"Category Name\"],[0.5315287953360255,\"Random Forest Interpretation\",\"Category Name\"]],\"hovertemplate\":\"<b>%{hovertext}</b><br><br>prediction=%{y:.3f}<br>mean_prediction=%{customdata[0]:.3f}<extra></extra>\",\"hovertext\":[\"Random Forest Interpretation\",\"Random Forest Interpretation\",\"Random Forest Interpretation\",\"Random Forest Interpretation\",\"Random Forest Interpretation\",\"Random Forest Interpretation\",\"Random Forest Interpretation\",\"Random Forest Interpretation\",\"Random Forest Interpretation\",\"Random Forest Interpretation\",\"Random Forest Interpretation\",\"Random Forest Interpretation\",\"Random Forest Interpretation\",\"Random Forest Interpretation\",\"Random Forest Interpretation\",\"Random Forest Interpretation\",\"Random Forest Interpretation\",\"Random Forest Interpretation\",\"Random Forest Interpretation\",\"Random Forest Interpretation\",\"Random Forest Interpretation\",\"Random Forest Interpretation\",\"Random Forest Interpretation\",\"Random Forest Interpretation\",\"Random Forest Interpretation\",\"Random Forest Interpretation\",\"Random Forest Interpretation\",\"Random Forest Interpretation\",\"Random Forest Interpretation\",\"Random Forest Interpretation\",\"Random Forest Interpretation\",\"Random Forest Interpretation\",\"Random Forest Interpretation\",\"Random Forest Interpretation\",\"Random Forest Interpretation\",\"Random Forest Interpretation\",\"Random Forest Interpretation\",\"Random Forest Interpretation\",\"Random Forest Interpretation\",\"Random Forest Interpretation\",\"Random Forest Interpretation\",\"Random Forest Interpretation\",\"Random Forest Interpretation\",\"Random Forest Interpretation\",\"Random Forest Interpretation\",\"Random Forest Interpretation\",\"Random Forest Interpretation\",\"Random Forest Interpretation\",\"Random Forest Interpretation\",\"Random Forest Interpretation\",\"Random Forest Interpretation\",\"Random Forest Interpretation\",\"Random Forest Interpretation\",\"Random Forest Interpretation\",\"Random Forest Interpretation\",\"Random Forest Interpretation\",\"Random Forest Interpretation\",\"Random Forest Interpretation\",\"Random Forest Interpretation\",\"Random Forest Interpretation\",\"Random Forest Interpretation\",\"Random Forest Interpretation\",\"Random Forest Interpretation\",\"Random Forest Interpretation\",\"Random Forest Interpretation\",\"Random Forest Interpretation\",\"Random Forest Interpretation\",\"Random Forest Interpretation\",\"Random Forest Interpretation\",\"Random Forest Interpretation\",\"Random Forest Interpretation\",\"Random Forest Interpretation\",\"Random Forest Interpretation\",\"Random Forest Interpretation\",\"Random Forest Interpretation\",\"Random Forest Interpretation\",\"Random Forest Interpretation\",\"Random Forest Interpretation\",\"Random Forest Interpretation\",\"Random Forest Interpretation\",\"Random Forest Interpretation\",\"Random Forest Interpretation\",\"Random Forest Interpretation\",\"Random Forest Interpretation\",\"Random Forest Interpretation\",\"Random Forest Interpretation\",\"Random Forest Interpretation\",\"Random Forest Interpretation\",\"Random Forest Interpretation\",\"Random Forest Interpretation\",\"Random Forest Interpretation\",\"Random Forest Interpretation\",\"Random Forest Interpretation\",\"Random Forest Interpretation\",\"Random Forest Interpretation\",\"Random Forest Interpretation\",\"Random Forest Interpretation\",\"Random Forest Interpretation\",\"Random Forest Interpretation\",\"Random Forest Interpretation\",\"Random Forest Interpretation\"],\"legendgroup\":\"Random Forest Interpretation\",\"line\":{\"color\":\"#46bac2\",\"dash\":\"solid\",\"width\":2},\"marker\":{\"symbol\":\"circle\"},\"mode\":\"lines\",\"name\":\"Random Forest Interpretation\",\"orientation\":\"v\",\"showlegend\":true,\"x\":[0.0003649928096416501,0.0017555424158144086,0.003146092021987167,0.004536641628159926,0.005927191234332684,0.007317740840505443,0.008708290446678202,0.01009884005285096,0.011489389659023718,0.012879939265196478,0.014270488871369235,0.015661038477541994,0.017051588083714753,0.018442137689887513,0.019832687296060268,0.021223236902233027,0.022613786508405787,0.024004336114578546,0.025394885720751305,0.02678543532692406,0.02817598493309682,0.02956653453926958,0.030957084145442338,0.03234763375161509,0.03373818335778785,0.03512873296396061,0.03651928257013337,0.03790983217630613,0.03930038178247888,0.040690931388651645,0.0420814809948244,0.043472030600997164,0.04486258020716992,0.046253129813342675,0.04764367941951544,0.04903422902568819,0.050424778631860956,0.05181532823803371,0.05320587784420647,0.05459642745037923,0.055986977056551986,0.05737752666272475,0.058768076268897504,0.06015862587507026,0.06154917548124302,0.06293972508741578,0.06433027469358854,0.06572082429976131,0.06711137390593407,0.06850192351210682,0.06989247311827958,0.07128302272445233,0.0726735723306251,0.07406412193679786,0.07545467154297061,0.07684522114914337,0.07823577075531613,0.0796263203614889,0.08101686996766165,0.0824074195738344,0.08379796918000716,0.08518851878617992,0.08657906839235269,0.08796961799852544,0.0893601676046982,0.09075071721087095,0.09214126681704371,0.09353181642321648,0.09492236602938924,0.09631291563556199,0.09770346524173475,0.0990940148479075,0.10048456445408027,0.10187511406025303,0.10326566366642578,0.10465621327259854,0.1060467628787713,0.10743731248494406,0.10882786209111682,0.11021841169728958,0.11160896130346233,0.11299951090963509,0.11439006051580786,0.11578061012198061,0.11717115972815337,0.11856170933432612,0.11995225894049888,0.12134280854667165,0.1227333581528444,0.12412390775901716,0.1255144573651899,0.12690500697136267,0.1282955565775354,0.12968610618370818,0.13107665578988095,0.1324672053960537,0.13385775500222646,0.1352483046083992,0.13663885421457198,0.13802940382074474,0.1394199534269175],\"xaxis\":\"x7\",\"y\":[0.5721145305620305,0.5449022856718445,0.5386103274900592,0.5378401516077683,0.5412656213944813,0.5469826186437078,0.5392674023874875,0.5521100666481781,0.55342982855294,0.5570635848873349,0.5736743718781219,0.5736743718781219,0.5736743718781219,0.5736743718781219,0.5736743718781219,0.5736743718781219,0.5736743718781219,0.5736743718781219,0.5736743718781219,0.5736743718781219,0.5736743718781219,0.5736743718781219,0.5736743718781219,0.5736465941003441,0.5726785232822733,0.5713316728886582,0.5694607308677161,0.5726150916502035,0.5721714340115459,0.5662939789295007,0.5674185025789393,0.5673732644837011,0.567457788293225,0.5693133702957635,0.5694183702957635,0.5692517036290968,0.5692628147402079,0.5692628147402079,0.5692628147402079,0.5692628147402079,0.5692961480735412,0.5692794814068746,0.5693544814068746,0.5692628147402079,0.5692267036290969,0.5692600369624301,0.5693757512481444,0.5693424179148111,0.5693424179148111,0.5693390138779024,0.5692417916556801,0.5692417916556801,0.5692567122906008,0.5533524957223838,0.5534191623890503,0.5534191623890503,0.5368211147386285,0.5366877814052952,0.5366877814052952,0.5367209067059204,0.5367209067059204,0.5367209067059204,0.5512795508434307,0.5506205719519519,0.5505066830630629,0.5505066830630629,0.5507837619077011,0.5507837619077011,0.5507020952410343,0.5499849086313477,0.5499849086313477,0.5499497631287023,0.5499497631287023,0.5384815408179822,0.5357774435849512,0.5357774435849512,0.5355453007278083,0.5355453007278083,0.5355453007278083,0.5355453007278083,0.5355453007278083,0.5336825296905237,0.5336825296905237,0.5273742297546749,0.5294210872130313,0.5294210872130313,0.5294210872130313,0.5294210872130313,0.5294210872130313,0.5294210872130313,0.5297296783441224,0.5328723541622368,0.5328723541622368,0.5348301591267223,0.5348301591267223,0.5348301591267223,0.5348301591267223,0.5348301591267223,0.5348301591267223,0.5348301591267223,0.5348301591267223],\"yaxis\":\"y7\",\"type\":\"scatter\",\"opacity\":1},{\"customdata\":[[0.5315287953360255,\"Random Forest Interpretation\",\"Market\"],[0.5315287953360255,\"Random Forest Interpretation\",\"Market\"],[0.5315287953360255,\"Random Forest Interpretation\",\"Market\"],[0.5315287953360255,\"Random Forest Interpretation\",\"Market\"],[0.5315287953360255,\"Random Forest Interpretation\",\"Market\"],[0.5315287953360255,\"Random Forest Interpretation\",\"Market\"],[0.5315287953360255,\"Random Forest Interpretation\",\"Market\"],[0.5315287953360255,\"Random Forest Interpretation\",\"Market\"],[0.5315287953360255,\"Random Forest Interpretation\",\"Market\"],[0.5315287953360255,\"Random Forest Interpretation\",\"Market\"],[0.5315287953360255,\"Random Forest Interpretation\",\"Market\"],[0.5315287953360255,\"Random Forest Interpretation\",\"Market\"],[0.5315287953360255,\"Random Forest Interpretation\",\"Market\"],[0.5315287953360255,\"Random Forest Interpretation\",\"Market\"],[0.5315287953360255,\"Random Forest Interpretation\",\"Market\"],[0.5315287953360255,\"Random Forest Interpretation\",\"Market\"],[0.5315287953360255,\"Random Forest Interpretation\",\"Market\"],[0.5315287953360255,\"Random Forest Interpretation\",\"Market\"],[0.5315287953360255,\"Random Forest Interpretation\",\"Market\"],[0.5315287953360255,\"Random Forest Interpretation\",\"Market\"],[0.5315287953360255,\"Random Forest Interpretation\",\"Market\"],[0.5315287953360255,\"Random Forest Interpretation\",\"Market\"],[0.5315287953360255,\"Random Forest Interpretation\",\"Market\"],[0.5315287953360255,\"Random Forest Interpretation\",\"Market\"],[0.5315287953360255,\"Random Forest Interpretation\",\"Market\"],[0.5315287953360255,\"Random Forest Interpretation\",\"Market\"],[0.5315287953360255,\"Random Forest Interpretation\",\"Market\"],[0.5315287953360255,\"Random Forest Interpretation\",\"Market\"],[0.5315287953360255,\"Random Forest Interpretation\",\"Market\"],[0.5315287953360255,\"Random Forest Interpretation\",\"Market\"],[0.5315287953360255,\"Random Forest Interpretation\",\"Market\"],[0.5315287953360255,\"Random Forest Interpretation\",\"Market\"],[0.5315287953360255,\"Random Forest Interpretation\",\"Market\"],[0.5315287953360255,\"Random Forest Interpretation\",\"Market\"],[0.5315287953360255,\"Random Forest Interpretation\",\"Market\"],[0.5315287953360255,\"Random Forest Interpretation\",\"Market\"],[0.5315287953360255,\"Random Forest Interpretation\",\"Market\"],[0.5315287953360255,\"Random Forest Interpretation\",\"Market\"],[0.5315287953360255,\"Random Forest Interpretation\",\"Market\"],[0.5315287953360255,\"Random Forest Interpretation\",\"Market\"],[0.5315287953360255,\"Random Forest Interpretation\",\"Market\"],[0.5315287953360255,\"Random Forest Interpretation\",\"Market\"],[0.5315287953360255,\"Random Forest Interpretation\",\"Market\"],[0.5315287953360255,\"Random Forest Interpretation\",\"Market\"],[0.5315287953360255,\"Random Forest Interpretation\",\"Market\"],[0.5315287953360255,\"Random Forest Interpretation\",\"Market\"],[0.5315287953360255,\"Random Forest Interpretation\",\"Market\"],[0.5315287953360255,\"Random Forest Interpretation\",\"Market\"],[0.5315287953360255,\"Random Forest Interpretation\",\"Market\"],[0.5315287953360255,\"Random Forest Interpretation\",\"Market\"],[0.5315287953360255,\"Random Forest Interpretation\",\"Market\"],[0.5315287953360255,\"Random Forest Interpretation\",\"Market\"],[0.5315287953360255,\"Random Forest Interpretation\",\"Market\"],[0.5315287953360255,\"Random Forest Interpretation\",\"Market\"],[0.5315287953360255,\"Random Forest Interpretation\",\"Market\"],[0.5315287953360255,\"Random Forest Interpretation\",\"Market\"],[0.5315287953360255,\"Random Forest Interpretation\",\"Market\"],[0.5315287953360255,\"Random Forest Interpretation\",\"Market\"],[0.5315287953360255,\"Random Forest Interpretation\",\"Market\"],[0.5315287953360255,\"Random Forest Interpretation\",\"Market\"],[0.5315287953360255,\"Random Forest Interpretation\",\"Market\"],[0.5315287953360255,\"Random Forest Interpretation\",\"Market\"],[0.5315287953360255,\"Random Forest Interpretation\",\"Market\"],[0.5315287953360255,\"Random Forest Interpretation\",\"Market\"],[0.5315287953360255,\"Random Forest Interpretation\",\"Market\"],[0.5315287953360255,\"Random Forest Interpretation\",\"Market\"],[0.5315287953360255,\"Random Forest Interpretation\",\"Market\"],[0.5315287953360255,\"Random Forest Interpretation\",\"Market\"],[0.5315287953360255,\"Random Forest Interpretation\",\"Market\"],[0.5315287953360255,\"Random Forest Interpretation\",\"Market\"],[0.5315287953360255,\"Random Forest Interpretation\",\"Market\"],[0.5315287953360255,\"Random Forest Interpretation\",\"Market\"],[0.5315287953360255,\"Random Forest Interpretation\",\"Market\"],[0.5315287953360255,\"Random Forest Interpretation\",\"Market\"],[0.5315287953360255,\"Random Forest Interpretation\",\"Market\"],[0.5315287953360255,\"Random Forest Interpretation\",\"Market\"],[0.5315287953360255,\"Random Forest Interpretation\",\"Market\"],[0.5315287953360255,\"Random Forest Interpretation\",\"Market\"],[0.5315287953360255,\"Random Forest Interpretation\",\"Market\"],[0.5315287953360255,\"Random Forest Interpretation\",\"Market\"],[0.5315287953360255,\"Random Forest Interpretation\",\"Market\"],[0.5315287953360255,\"Random Forest Interpretation\",\"Market\"],[0.5315287953360255,\"Random Forest Interpretation\",\"Market\"],[0.5315287953360255,\"Random Forest Interpretation\",\"Market\"],[0.5315287953360255,\"Random Forest Interpretation\",\"Market\"],[0.5315287953360255,\"Random Forest Interpretation\",\"Market\"],[0.5315287953360255,\"Random Forest Interpretation\",\"Market\"],[0.5315287953360255,\"Random Forest Interpretation\",\"Market\"],[0.5315287953360255,\"Random Forest Interpretation\",\"Market\"],[0.5315287953360255,\"Random Forest Interpretation\",\"Market\"],[0.5315287953360255,\"Random Forest Interpretation\",\"Market\"],[0.5315287953360255,\"Random Forest Interpretation\",\"Market\"],[0.5315287953360255,\"Random Forest Interpretation\",\"Market\"],[0.5315287953360255,\"Random Forest Interpretation\",\"Market\"],[0.5315287953360255,\"Random Forest Interpretation\",\"Market\"],[0.5315287953360255,\"Random Forest Interpretation\",\"Market\"],[0.5315287953360255,\"Random Forest Interpretation\",\"Market\"],[0.5315287953360255,\"Random Forest Interpretation\",\"Market\"],[0.5315287953360255,\"Random Forest Interpretation\",\"Market\"],[0.5315287953360255,\"Random Forest Interpretation\",\"Market\"],[0.5315287953360255,\"Random Forest Interpretation\",\"Market\"]],\"hovertemplate\":\"<b>%{hovertext}</b><br><br>prediction=%{y:.3f}<br>mean_prediction=%{customdata[0]:.3f}<extra></extra>\",\"hovertext\":[\"Random Forest Interpretation\",\"Random Forest Interpretation\",\"Random Forest Interpretation\",\"Random Forest Interpretation\",\"Random Forest Interpretation\",\"Random Forest Interpretation\",\"Random Forest Interpretation\",\"Random Forest Interpretation\",\"Random Forest Interpretation\",\"Random Forest Interpretation\",\"Random Forest Interpretation\",\"Random Forest Interpretation\",\"Random Forest Interpretation\",\"Random Forest Interpretation\",\"Random Forest Interpretation\",\"Random Forest Interpretation\",\"Random Forest Interpretation\",\"Random Forest Interpretation\",\"Random Forest Interpretation\",\"Random Forest Interpretation\",\"Random Forest Interpretation\",\"Random Forest Interpretation\",\"Random Forest Interpretation\",\"Random Forest Interpretation\",\"Random Forest Interpretation\",\"Random Forest Interpretation\",\"Random Forest Interpretation\",\"Random Forest Interpretation\",\"Random Forest Interpretation\",\"Random Forest Interpretation\",\"Random Forest Interpretation\",\"Random Forest Interpretation\",\"Random Forest Interpretation\",\"Random Forest Interpretation\",\"Random Forest Interpretation\",\"Random Forest Interpretation\",\"Random Forest Interpretation\",\"Random Forest Interpretation\",\"Random Forest Interpretation\",\"Random Forest Interpretation\",\"Random Forest Interpretation\",\"Random Forest Interpretation\",\"Random Forest Interpretation\",\"Random Forest Interpretation\",\"Random Forest Interpretation\",\"Random Forest Interpretation\",\"Random Forest Interpretation\",\"Random Forest Interpretation\",\"Random Forest Interpretation\",\"Random Forest Interpretation\",\"Random Forest Interpretation\",\"Random Forest Interpretation\",\"Random Forest Interpretation\",\"Random Forest Interpretation\",\"Random Forest Interpretation\",\"Random Forest Interpretation\",\"Random Forest Interpretation\",\"Random Forest Interpretation\",\"Random Forest Interpretation\",\"Random Forest Interpretation\",\"Random Forest Interpretation\",\"Random Forest Interpretation\",\"Random Forest Interpretation\",\"Random Forest Interpretation\",\"Random Forest Interpretation\",\"Random Forest Interpretation\",\"Random Forest Interpretation\",\"Random Forest Interpretation\",\"Random Forest Interpretation\",\"Random Forest Interpretation\",\"Random Forest Interpretation\",\"Random Forest Interpretation\",\"Random Forest Interpretation\",\"Random Forest Interpretation\",\"Random Forest Interpretation\",\"Random Forest Interpretation\",\"Random Forest Interpretation\",\"Random Forest Interpretation\",\"Random Forest Interpretation\",\"Random Forest Interpretation\",\"Random Forest Interpretation\",\"Random Forest Interpretation\",\"Random Forest Interpretation\",\"Random Forest Interpretation\",\"Random Forest Interpretation\",\"Random Forest Interpretation\",\"Random Forest Interpretation\",\"Random Forest Interpretation\",\"Random Forest Interpretation\",\"Random Forest Interpretation\",\"Random Forest Interpretation\",\"Random Forest Interpretation\",\"Random Forest Interpretation\",\"Random Forest Interpretation\",\"Random Forest Interpretation\",\"Random Forest Interpretation\",\"Random Forest Interpretation\",\"Random Forest Interpretation\",\"Random Forest Interpretation\",\"Random Forest Interpretation\",\"Random Forest Interpretation\"],\"legendgroup\":\"Random Forest Interpretation\",\"line\":{\"color\":\"#46bac2\",\"dash\":\"solid\",\"width\":2},\"marker\":{\"symbol\":\"circle\"},\"mode\":\"lines\",\"name\":\"Random Forest Interpretation\",\"orientation\":\"v\",\"showlegend\":false,\"x\":[0.06374234427581776,0.06595982159151464,0.06817729890721153,0.0703947762229084,0.07261225353860529,0.07482973085430217,0.07704720816999905,0.07926468548569593,0.08148216280139281,0.08369964011708969,0.08591711743278657,0.08813459474848345,0.09035207206418033,0.09256954937987721,0.0947870266955741,0.09700450401127098,0.09922198132696786,0.10143945864266474,0.10365693595836162,0.1058744132740585,0.10809189058975538,0.11030936790545226,0.11252684522114914,0.11474432253684602,0.1169617998525429,0.11917927716823978,0.12139675448393666,0.12361423179963354,0.12583170911533043,0.1280491864310273,0.1302666637467242,0.13248414106242107,0.13470161837811795,0.13691909569381483,0.1391365730095117,0.1413540503252086,0.14357152764090547,0.14578900495660235,0.14800648227229923,0.15022395958799611,0.152441436903693,0.15465891421938988,0.15687639153508676,0.15909386885078364,0.16131134616648052,0.1635288234821774,0.16574630079787428,0.16796377811357116,0.17018125542926804,0.17239873274496492,0.1746162100606618,0.17683368737635868,0.17905116469205556,0.18126864200775245,0.18348611932344933,0.1857035966391462,0.1879210739548431,0.19013855127053997,0.19235602858623685,0.19457350590193373,0.1967909832176306,0.1990084605333275,0.20122593784902437,0.20344341516472125,0.20566089248041813,0.20787836979611501,0.2100958471118119,0.21231332442750878,0.21453080174320566,0.21674827905890254,0.21896575637459942,0.2211832336902963,0.22340071100599318,0.22561818832169006,0.22783566563738694,0.23005314295308382,0.2322706202687807,0.23448809758447758,0.23670557490017446,0.23892305221587135,0.24114052953156823,0.2433580068472651,0.245575484162962,0.24779296147865887,0.25001043879435575,0.25222791611005263,0.2544453934257495,0.2566628707414464,0.2588803480571433,0.26109782537284015,0.26331530268853703,0.2655327800042339,0.2677502573199308,0.2699677346356277,0.27218521195132456,0.27440268926702144,0.2766201665827183,0.2788376438984152,0.2810551212141121,0.28327259852980896,0.28549007584550584],\"xaxis\":\"x8\",\"y\":[0.5375449240553617,0.5375449240553617,0.5375449240553617,0.5375449240553617,0.5375449240553617,0.5375449240553617,0.5375449240553617,0.5375449240553617,0.5375449240553617,0.5375449240553617,0.5375449240553617,0.5375449240553617,0.5375449240553617,0.5375449240553617,0.5375449240553617,0.5375449240553617,0.5375449240553617,0.5375449240553617,0.5391945875734372,0.5391945875734372,0.5391945875734372,0.5391945875734372,0.5391945875734372,0.5391945875734372,0.5391945875734372,0.5391945875734372,0.5391945875734372,0.5391945875734372,0.5391945875734372,0.5391945875734372,0.5391945875734372,0.5391945875734372,0.5391945875734372,0.5391945875734372,0.5391945875734372,0.5391945875734372,0.5391945875734372,0.5391945875734372,0.5404595578771413,0.5404595578771413,0.5404595578771413,0.5404595578771413,0.5404595578771413,0.5404595578771413,0.5404595578771413,0.5404595578771413,0.5404595578771413,0.5404595578771413,0.5404595578771413,0.540550470575554,0.540550470575554,0.5405507431461207,0.5405507431461207,0.5405507431461207,0.5405507431461207,0.5405507431461207,0.542802501793199,0.542802501793199,0.542802501793199,0.542802501793199,0.542802501793199,0.542802501793199,0.542802501793199,0.542802501793199,0.542802501793199,0.542802501793199,0.542802501793199,0.5420848163896782,0.5421137758758353,0.5421137758758353,0.5421137758758353,0.5421137758758353,0.5421137758758353,0.5421137758758353,0.5421137758758353,0.5421137758758353,0.5421137758758353,0.5421137758758353,0.5421137758758353,0.5421137758758353,0.5421137758758353,0.5421137758758353,0.5421137758758353,0.5421137758758353,0.5421137758758353,0.5421137758758353,0.5359489695935254,0.5359489695935254,0.5362705822252456,0.5362705822252456,0.5362705822252456,0.5362705822252456,0.5362705822252456,0.5362705822252456,0.5362705822252456,0.5362705822252456,0.5362705822252456,0.5362705822252456,0.5362705822252456,0.5391311250566804,0.5391311250566804],\"yaxis\":\"y8\",\"type\":\"scatter\",\"opacity\":1},{\"customdata\":[[0.5315287953360255,\"Random Forest Interpretation\",\"Order City\"],[0.5315287953360255,\"Random Forest Interpretation\",\"Order City\"],[0.5315287953360255,\"Random Forest Interpretation\",\"Order City\"],[0.5315287953360255,\"Random Forest Interpretation\",\"Order City\"],[0.5315287953360255,\"Random Forest Interpretation\",\"Order City\"],[0.5315287953360255,\"Random Forest Interpretation\",\"Order City\"],[0.5315287953360255,\"Random Forest Interpretation\",\"Order City\"],[0.5315287953360255,\"Random Forest Interpretation\",\"Order City\"],[0.5315287953360255,\"Random Forest Interpretation\",\"Order City\"],[0.5315287953360255,\"Random Forest Interpretation\",\"Order City\"],[0.5315287953360255,\"Random Forest Interpretation\",\"Order City\"],[0.5315287953360255,\"Random Forest Interpretation\",\"Order City\"],[0.5315287953360255,\"Random Forest Interpretation\",\"Order City\"],[0.5315287953360255,\"Random Forest Interpretation\",\"Order City\"],[0.5315287953360255,\"Random Forest Interpretation\",\"Order City\"],[0.5315287953360255,\"Random Forest Interpretation\",\"Order City\"],[0.5315287953360255,\"Random Forest Interpretation\",\"Order City\"],[0.5315287953360255,\"Random Forest Interpretation\",\"Order City\"],[0.5315287953360255,\"Random Forest Interpretation\",\"Order City\"],[0.5315287953360255,\"Random Forest Interpretation\",\"Order City\"],[0.5315287953360255,\"Random Forest Interpretation\",\"Order City\"],[0.5315287953360255,\"Random Forest Interpretation\",\"Order City\"],[0.5315287953360255,\"Random Forest Interpretation\",\"Order City\"],[0.5315287953360255,\"Random Forest Interpretation\",\"Order City\"],[0.5315287953360255,\"Random Forest Interpretation\",\"Order City\"],[0.5315287953360255,\"Random Forest Interpretation\",\"Order City\"],[0.5315287953360255,\"Random Forest Interpretation\",\"Order City\"],[0.5315287953360255,\"Random Forest Interpretation\",\"Order City\"],[0.5315287953360255,\"Random Forest Interpretation\",\"Order City\"],[0.5315287953360255,\"Random Forest Interpretation\",\"Order City\"],[0.5315287953360255,\"Random Forest Interpretation\",\"Order City\"],[0.5315287953360255,\"Random Forest Interpretation\",\"Order City\"],[0.5315287953360255,\"Random Forest Interpretation\",\"Order City\"],[0.5315287953360255,\"Random Forest Interpretation\",\"Order City\"],[0.5315287953360255,\"Random Forest Interpretation\",\"Order City\"],[0.5315287953360255,\"Random Forest Interpretation\",\"Order City\"],[0.5315287953360255,\"Random Forest Interpretation\",\"Order City\"],[0.5315287953360255,\"Random Forest Interpretation\",\"Order City\"],[0.5315287953360255,\"Random Forest Interpretation\",\"Order City\"],[0.5315287953360255,\"Random Forest Interpretation\",\"Order City\"],[0.5315287953360255,\"Random Forest Interpretation\",\"Order City\"],[0.5315287953360255,\"Random Forest Interpretation\",\"Order City\"],[0.5315287953360255,\"Random Forest Interpretation\",\"Order City\"],[0.5315287953360255,\"Random Forest Interpretation\",\"Order City\"],[0.5315287953360255,\"Random Forest Interpretation\",\"Order City\"],[0.5315287953360255,\"Random Forest Interpretation\",\"Order City\"],[0.5315287953360255,\"Random Forest Interpretation\",\"Order City\"],[0.5315287953360255,\"Random Forest Interpretation\",\"Order City\"],[0.5315287953360255,\"Random Forest Interpretation\",\"Order City\"],[0.5315287953360255,\"Random Forest Interpretation\",\"Order City\"],[0.5315287953360255,\"Random Forest Interpretation\",\"Order City\"],[0.5315287953360255,\"Random Forest Interpretation\",\"Order City\"],[0.5315287953360255,\"Random Forest Interpretation\",\"Order City\"],[0.5315287953360255,\"Random Forest Interpretation\",\"Order City\"],[0.5315287953360255,\"Random Forest Interpretation\",\"Order City\"],[0.5315287953360255,\"Random Forest Interpretation\",\"Order City\"],[0.5315287953360255,\"Random Forest Interpretation\",\"Order City\"],[0.5315287953360255,\"Random Forest Interpretation\",\"Order City\"],[0.5315287953360255,\"Random Forest Interpretation\",\"Order City\"],[0.5315287953360255,\"Random Forest Interpretation\",\"Order City\"],[0.5315287953360255,\"Random Forest Interpretation\",\"Order City\"],[0.5315287953360255,\"Random Forest Interpretation\",\"Order City\"],[0.5315287953360255,\"Random Forest Interpretation\",\"Order City\"],[0.5315287953360255,\"Random Forest Interpretation\",\"Order City\"],[0.5315287953360255,\"Random Forest Interpretation\",\"Order City\"],[0.5315287953360255,\"Random Forest Interpretation\",\"Order City\"],[0.5315287953360255,\"Random Forest Interpretation\",\"Order City\"],[0.5315287953360255,\"Random Forest Interpretation\",\"Order City\"],[0.5315287953360255,\"Random Forest Interpretation\",\"Order City\"],[0.5315287953360255,\"Random Forest Interpretation\",\"Order City\"],[0.5315287953360255,\"Random Forest Interpretation\",\"Order City\"],[0.5315287953360255,\"Random Forest Interpretation\",\"Order City\"],[0.5315287953360255,\"Random Forest Interpretation\",\"Order City\"],[0.5315287953360255,\"Random Forest Interpretation\",\"Order City\"],[0.5315287953360255,\"Random Forest Interpretation\",\"Order City\"],[0.5315287953360255,\"Random Forest Interpretation\",\"Order City\"],[0.5315287953360255,\"Random Forest Interpretation\",\"Order City\"],[0.5315287953360255,\"Random Forest Interpretation\",\"Order City\"],[0.5315287953360255,\"Random Forest Interpretation\",\"Order City\"],[0.5315287953360255,\"Random Forest Interpretation\",\"Order City\"],[0.5315287953360255,\"Random Forest Interpretation\",\"Order City\"],[0.5315287953360255,\"Random Forest Interpretation\",\"Order City\"],[0.5315287953360255,\"Random Forest Interpretation\",\"Order City\"],[0.5315287953360255,\"Random Forest Interpretation\",\"Order City\"],[0.5315287953360255,\"Random Forest Interpretation\",\"Order City\"],[0.5315287953360255,\"Random Forest Interpretation\",\"Order City\"],[0.5315287953360255,\"Random Forest Interpretation\",\"Order City\"],[0.5315287953360255,\"Random Forest Interpretation\",\"Order City\"],[0.5315287953360255,\"Random Forest Interpretation\",\"Order City\"],[0.5315287953360255,\"Random Forest Interpretation\",\"Order City\"],[0.5315287953360255,\"Random Forest Interpretation\",\"Order City\"],[0.5315287953360255,\"Random Forest Interpretation\",\"Order City\"],[0.5315287953360255,\"Random Forest Interpretation\",\"Order City\"],[0.5315287953360255,\"Random Forest Interpretation\",\"Order City\"],[0.5315287953360255,\"Random Forest Interpretation\",\"Order City\"],[0.5315287953360255,\"Random Forest Interpretation\",\"Order City\"],[0.5315287953360255,\"Random Forest Interpretation\",\"Order City\"],[0.5315287953360255,\"Random Forest Interpretation\",\"Order City\"],[0.5315287953360255,\"Random Forest Interpretation\",\"Order City\"],[0.5315287953360255,\"Random Forest Interpretation\",\"Order City\"],[0.5315287953360255,\"Random Forest Interpretation\",\"Order City\"]],\"hovertemplate\":\"<b>%{hovertext}</b><br><br>prediction=%{y:.3f}<br>mean_prediction=%{customdata[0]:.3f}<extra></extra>\",\"hovertext\":[\"Random Forest Interpretation\",\"Random Forest Interpretation\",\"Random Forest Interpretation\",\"Random Forest Interpretation\",\"Random Forest Interpretation\",\"Random Forest Interpretation\",\"Random Forest Interpretation\",\"Random Forest Interpretation\",\"Random Forest Interpretation\",\"Random Forest Interpretation\",\"Random Forest Interpretation\",\"Random Forest Interpretation\",\"Random Forest Interpretation\",\"Random Forest Interpretation\",\"Random Forest Interpretation\",\"Random Forest Interpretation\",\"Random Forest Interpretation\",\"Random Forest Interpretation\",\"Random Forest Interpretation\",\"Random Forest Interpretation\",\"Random Forest Interpretation\",\"Random Forest Interpretation\",\"Random Forest Interpretation\",\"Random Forest Interpretation\",\"Random Forest Interpretation\",\"Random Forest Interpretation\",\"Random Forest Interpretation\",\"Random Forest Interpretation\",\"Random Forest Interpretation\",\"Random Forest Interpretation\",\"Random Forest Interpretation\",\"Random Forest Interpretation\",\"Random Forest Interpretation\",\"Random Forest Interpretation\",\"Random Forest Interpretation\",\"Random Forest Interpretation\",\"Random Forest Interpretation\",\"Random Forest Interpretation\",\"Random Forest Interpretation\",\"Random Forest Interpretation\",\"Random Forest Interpretation\",\"Random Forest Interpretation\",\"Random Forest Interpretation\",\"Random Forest Interpretation\",\"Random Forest Interpretation\",\"Random Forest Interpretation\",\"Random Forest Interpretation\",\"Random Forest Interpretation\",\"Random Forest Interpretation\",\"Random Forest Interpretation\",\"Random Forest Interpretation\",\"Random Forest Interpretation\",\"Random Forest Interpretation\",\"Random Forest Interpretation\",\"Random Forest Interpretation\",\"Random Forest Interpretation\",\"Random Forest Interpretation\",\"Random Forest Interpretation\",\"Random Forest Interpretation\",\"Random Forest Interpretation\",\"Random Forest Interpretation\",\"Random Forest Interpretation\",\"Random Forest Interpretation\",\"Random Forest Interpretation\",\"Random Forest Interpretation\",\"Random Forest Interpretation\",\"Random Forest Interpretation\",\"Random Forest Interpretation\",\"Random Forest Interpretation\",\"Random Forest Interpretation\",\"Random Forest Interpretation\",\"Random Forest Interpretation\",\"Random Forest Interpretation\",\"Random Forest Interpretation\",\"Random Forest Interpretation\",\"Random Forest Interpretation\",\"Random Forest Interpretation\",\"Random Forest Interpretation\",\"Random Forest Interpretation\",\"Random Forest Interpretation\",\"Random Forest Interpretation\",\"Random Forest Interpretation\",\"Random Forest Interpretation\",\"Random Forest Interpretation\",\"Random Forest Interpretation\",\"Random Forest Interpretation\",\"Random Forest Interpretation\",\"Random Forest Interpretation\",\"Random Forest Interpretation\",\"Random Forest Interpretation\",\"Random Forest Interpretation\",\"Random Forest Interpretation\",\"Random Forest Interpretation\",\"Random Forest Interpretation\",\"Random Forest Interpretation\",\"Random Forest Interpretation\",\"Random Forest Interpretation\",\"Random Forest Interpretation\",\"Random Forest Interpretation\",\"Random Forest Interpretation\",\"Random Forest Interpretation\"],\"legendgroup\":\"Random Forest Interpretation\",\"line\":{\"color\":\"#46bac2\",\"dash\":\"solid\",\"width\":2},\"marker\":{\"symbol\":\"circle\"},\"mode\":\"lines\",\"name\":\"Random Forest Interpretation\",\"orientation\":\"v\",\"showlegend\":false,\"x\":[7.2998561928330015e-06,0.0001311054172232807,0.0002549109782537284,0.0003787165392841761,0.0005025221003146238,0.0006263276613450716,0.0007501332223755192,0.0008739387834059669,0.0009977443444364148,0.0011215499054668624,0.0012453554664973103,0.0013691610275277579,0.0014929665885582055,0.0016167721495886534,0.001740577710619101,0.0018643832716495488,0.0019881888326799962,0.002111994393710444,0.0022357999547408915,0.0023596055157713396,0.002483411076801787,0.002607216637832235,0.0027310221988626824,0.00285482775989313,0.0029786333209235777,0.0031024388819540258,0.0032262444429844734,0.003350050004014921,0.0034738555650453687,0.0035976611260758163,0.0037214666871062643,0.003845272248136712,0.00396907780916716,0.004092883370197608,0.004216688931228055,0.004340494492258503,0.0044643000532889505,0.004588105614319399,0.004711911175349847,0.004835716736380294,0.004959522297410742,0.005083327858441189,0.005207133419471637,0.005330938980502085,0.0054547445415325324,0.0055785501025629805,0.005702355663593428,0.005826161224623876,0.005949966785654323,0.006073772346684771,0.006197577907715219,0.006321383468745666,0.006445189029776114,0.0065689945908065615,0.00669280015183701,0.006816605712867458,0.006940411273897905,0.007064216834928353,0.0071880223959588,0.007311827956989248,0.007435633518019696,0.007559439079050143,0.0076832446400805915,0.007807050201111039,0.007930855762141486,0.008054661323171933,0.008178466884202382,0.00830227244523283,0.008426078006263276,0.008549883567293724,0.008673689128324173,0.00879749468935462,0.008921300250385067,0.009045105811415516,0.009168911372445963,0.00929271693347641,0.00941652249450686,0.009540328055537306,0.009664133616567754,0.0097879391775982,0.00991174473862865,0.010035550299659097,0.010159355860689544,0.010283161421719993,0.01040696698275044,0.010530772543780887,0.010654578104811336,0.010778383665841784,0.01090218922687223,0.011025994787902678,0.011149800348933127,0.011273605909963574,0.011397411470994021,0.01152121703202447,0.011645022593054917,0.011768828154085365,0.011892633715115812,0.01201643927614626,0.012140244837176708,0.012264050398207155,0.012387855959237602],\"xaxis\":\"x5\",\"y\":[0.5914981068931069,0.5251530791106002,0.5412997038310273,0.5571583506226596,0.5720118132057724,0.523983586165892,0.5284312396635525,0.5278348233771579,0.5175261876641531,0.5329587434259337,0.5268405252856325,0.5346448718507522,0.5377008670066017,0.542657655108675,0.5448562182678064,0.5312310930479713,0.5222296092443137,0.530191686598696,0.5322493442496624,0.535367264607231,0.5337189262122043,0.5500159430207974,0.5551875412980464,0.5483074490356029,0.5469690151749995,0.5466393570749603,0.5550444397392351,0.547430898755665,0.5449961253340153,0.547457134181375,0.548041363269867,0.5465759987004937,0.5470677721191571,0.5447403360957268,0.5457394764714992,0.5460345985499153,0.5397038023958447,0.5372388412687001,0.5412902134133137,0.5417527495809131,0.5413551627884134,0.5413709469567746,0.5386823108096581,0.5354771640542729,0.5327573074757379,0.5331658366864298,0.5330961904640675,0.5325774708477398,0.531989248915522,0.5320356935253224,0.5310072050133053,0.53021788510873,0.5301653434620255,0.5323614281906021,0.5330483300054867,0.5331386953948464,0.5319909947461189,0.5322305054364519,0.5311336631876014,0.530818605793851,0.5307423764427487,0.5322098079599751,0.5322098079599751,0.5323753942337558,0.5325499191996911,0.5324065158073921,0.5324149650961985,0.5323835256869497,0.5323459661780969,0.5322719929167312,0.5325219768965975,0.5330354620148573,0.5335047845038198,0.533854531693057,0.5338345316930571,0.5343646789110585,0.5343646789110585,0.5359066378640269,0.5359066378640269,0.5388041432943677,0.5395847145965934,0.5395847145965934,0.5395635548755876,0.5395635548755876,0.5395806005445591,0.5395806005445591,0.5395806005445591,0.5395806005445591,0.5395806005445591,0.5391069586424078,0.5520783425182255,0.5521571846127815,0.5521571846127815,0.5521571846127815,0.5521571846127815,0.5521571846127815,0.5521571846127815,0.5521571846127815,0.5521571846127815,0.5501316104058889,0.5501316104058889],\"yaxis\":\"y5\",\"type\":\"scatter\",\"opacity\":1},{\"customdata\":[[0.5315287953360255,\"Random Forest Interpretation\",\"Order Country\"],[0.5315287953360255,\"Random Forest Interpretation\",\"Order Country\"],[0.5315287953360255,\"Random Forest Interpretation\",\"Order Country\"],[0.5315287953360255,\"Random Forest Interpretation\",\"Order Country\"],[0.5315287953360255,\"Random Forest Interpretation\",\"Order Country\"],[0.5315287953360255,\"Random Forest Interpretation\",\"Order Country\"],[0.5315287953360255,\"Random Forest Interpretation\",\"Order Country\"],[0.5315287953360255,\"Random Forest Interpretation\",\"Order Country\"],[0.5315287953360255,\"Random Forest Interpretation\",\"Order Country\"],[0.5315287953360255,\"Random Forest Interpretation\",\"Order Country\"],[0.5315287953360255,\"Random Forest Interpretation\",\"Order Country\"],[0.5315287953360255,\"Random Forest Interpretation\",\"Order Country\"],[0.5315287953360255,\"Random Forest Interpretation\",\"Order Country\"],[0.5315287953360255,\"Random Forest Interpretation\",\"Order Country\"],[0.5315287953360255,\"Random Forest Interpretation\",\"Order Country\"],[0.5315287953360255,\"Random Forest Interpretation\",\"Order Country\"],[0.5315287953360255,\"Random Forest Interpretation\",\"Order Country\"],[0.5315287953360255,\"Random Forest Interpretation\",\"Order Country\"],[0.5315287953360255,\"Random Forest Interpretation\",\"Order Country\"],[0.5315287953360255,\"Random Forest Interpretation\",\"Order Country\"],[0.5315287953360255,\"Random Forest Interpretation\",\"Order Country\"],[0.5315287953360255,\"Random Forest Interpretation\",\"Order Country\"],[0.5315287953360255,\"Random Forest Interpretation\",\"Order Country\"],[0.5315287953360255,\"Random Forest Interpretation\",\"Order Country\"],[0.5315287953360255,\"Random Forest Interpretation\",\"Order Country\"],[0.5315287953360255,\"Random Forest Interpretation\",\"Order Country\"],[0.5315287953360255,\"Random Forest Interpretation\",\"Order Country\"],[0.5315287953360255,\"Random Forest Interpretation\",\"Order Country\"],[0.5315287953360255,\"Random Forest Interpretation\",\"Order Country\"],[0.5315287953360255,\"Random Forest Interpretation\",\"Order Country\"],[0.5315287953360255,\"Random Forest Interpretation\",\"Order Country\"],[0.5315287953360255,\"Random Forest Interpretation\",\"Order Country\"],[0.5315287953360255,\"Random Forest Interpretation\",\"Order Country\"],[0.5315287953360255,\"Random Forest Interpretation\",\"Order Country\"],[0.5315287953360255,\"Random Forest Interpretation\",\"Order Country\"],[0.5315287953360255,\"Random Forest Interpretation\",\"Order Country\"],[0.5315287953360255,\"Random Forest Interpretation\",\"Order Country\"],[0.5315287953360255,\"Random Forest Interpretation\",\"Order Country\"],[0.5315287953360255,\"Random Forest Interpretation\",\"Order Country\"],[0.5315287953360255,\"Random Forest Interpretation\",\"Order Country\"],[0.5315287953360255,\"Random Forest Interpretation\",\"Order Country\"],[0.5315287953360255,\"Random Forest Interpretation\",\"Order Country\"],[0.5315287953360255,\"Random Forest Interpretation\",\"Order Country\"],[0.5315287953360255,\"Random Forest Interpretation\",\"Order Country\"],[0.5315287953360255,\"Random Forest Interpretation\",\"Order Country\"],[0.5315287953360255,\"Random Forest Interpretation\",\"Order Country\"],[0.5315287953360255,\"Random Forest Interpretation\",\"Order Country\"],[0.5315287953360255,\"Random Forest Interpretation\",\"Order Country\"],[0.5315287953360255,\"Random Forest Interpretation\",\"Order Country\"],[0.5315287953360255,\"Random Forest Interpretation\",\"Order Country\"],[0.5315287953360255,\"Random Forest Interpretation\",\"Order Country\"],[0.5315287953360255,\"Random Forest Interpretation\",\"Order Country\"],[0.5315287953360255,\"Random Forest Interpretation\",\"Order Country\"],[0.5315287953360255,\"Random Forest Interpretation\",\"Order Country\"],[0.5315287953360255,\"Random Forest Interpretation\",\"Order Country\"],[0.5315287953360255,\"Random Forest Interpretation\",\"Order Country\"],[0.5315287953360255,\"Random Forest Interpretation\",\"Order Country\"],[0.5315287953360255,\"Random Forest Interpretation\",\"Order Country\"],[0.5315287953360255,\"Random Forest Interpretation\",\"Order Country\"],[0.5315287953360255,\"Random Forest Interpretation\",\"Order Country\"],[0.5315287953360255,\"Random Forest Interpretation\",\"Order Country\"],[0.5315287953360255,\"Random Forest Interpretation\",\"Order Country\"],[0.5315287953360255,\"Random Forest Interpretation\",\"Order Country\"],[0.5315287953360255,\"Random Forest Interpretation\",\"Order Country\"],[0.5315287953360255,\"Random Forest Interpretation\",\"Order Country\"],[0.5315287953360255,\"Random Forest Interpretation\",\"Order Country\"],[0.5315287953360255,\"Random Forest Interpretation\",\"Order Country\"],[0.5315287953360255,\"Random Forest Interpretation\",\"Order Country\"],[0.5315287953360255,\"Random Forest Interpretation\",\"Order Country\"],[0.5315287953360255,\"Random Forest Interpretation\",\"Order Country\"],[0.5315287953360255,\"Random Forest Interpretation\",\"Order Country\"],[0.5315287953360255,\"Random Forest Interpretation\",\"Order Country\"],[0.5315287953360255,\"Random Forest Interpretation\",\"Order Country\"],[0.5315287953360255,\"Random Forest Interpretation\",\"Order Country\"],[0.5315287953360255,\"Random Forest Interpretation\",\"Order Country\"],[0.5315287953360255,\"Random Forest Interpretation\",\"Order Country\"],[0.5315287953360255,\"Random Forest Interpretation\",\"Order Country\"],[0.5315287953360255,\"Random Forest Interpretation\",\"Order Country\"],[0.5315287953360255,\"Random Forest Interpretation\",\"Order Country\"],[0.5315287953360255,\"Random Forest Interpretation\",\"Order Country\"],[0.5315287953360255,\"Random Forest Interpretation\",\"Order Country\"],[0.5315287953360255,\"Random Forest Interpretation\",\"Order Country\"],[0.5315287953360255,\"Random Forest Interpretation\",\"Order Country\"],[0.5315287953360255,\"Random Forest Interpretation\",\"Order Country\"],[0.5315287953360255,\"Random Forest Interpretation\",\"Order Country\"],[0.5315287953360255,\"Random Forest Interpretation\",\"Order Country\"],[0.5315287953360255,\"Random Forest Interpretation\",\"Order Country\"],[0.5315287953360255,\"Random Forest Interpretation\",\"Order Country\"],[0.5315287953360255,\"Random Forest Interpretation\",\"Order Country\"],[0.5315287953360255,\"Random Forest Interpretation\",\"Order Country\"],[0.5315287953360255,\"Random Forest Interpretation\",\"Order Country\"],[0.5315287953360255,\"Random Forest Interpretation\",\"Order Country\"],[0.5315287953360255,\"Random Forest Interpretation\",\"Order Country\"],[0.5315287953360255,\"Random Forest Interpretation\",\"Order Country\"],[0.5315287953360255,\"Random Forest Interpretation\",\"Order Country\"],[0.5315287953360255,\"Random Forest Interpretation\",\"Order Country\"],[0.5315287953360255,\"Random Forest Interpretation\",\"Order Country\"],[0.5315287953360255,\"Random Forest Interpretation\",\"Order Country\"],[0.5315287953360255,\"Random Forest Interpretation\",\"Order Country\"],[0.5315287953360255,\"Random Forest Interpretation\",\"Order Country\"],[0.5315287953360255,\"Random Forest Interpretation\",\"Order Country\"]],\"hovertemplate\":\"<b>%{hovertext}</b><br><br>prediction=%{y:.3f}<br>mean_prediction=%{customdata[0]:.3f}<extra></extra>\",\"hovertext\":[\"Random Forest Interpretation\",\"Random Forest Interpretation\",\"Random Forest Interpretation\",\"Random Forest Interpretation\",\"Random Forest Interpretation\",\"Random Forest Interpretation\",\"Random Forest Interpretation\",\"Random Forest Interpretation\",\"Random Forest Interpretation\",\"Random Forest Interpretation\",\"Random Forest Interpretation\",\"Random Forest Interpretation\",\"Random Forest Interpretation\",\"Random Forest Interpretation\",\"Random Forest Interpretation\",\"Random Forest Interpretation\",\"Random Forest Interpretation\",\"Random Forest Interpretation\",\"Random Forest Interpretation\",\"Random Forest Interpretation\",\"Random Forest Interpretation\",\"Random Forest Interpretation\",\"Random Forest Interpretation\",\"Random Forest Interpretation\",\"Random Forest Interpretation\",\"Random Forest Interpretation\",\"Random Forest Interpretation\",\"Random Forest Interpretation\",\"Random Forest Interpretation\",\"Random Forest Interpretation\",\"Random Forest Interpretation\",\"Random Forest Interpretation\",\"Random Forest Interpretation\",\"Random Forest Interpretation\",\"Random Forest Interpretation\",\"Random Forest Interpretation\",\"Random Forest Interpretation\",\"Random Forest Interpretation\",\"Random Forest Interpretation\",\"Random Forest Interpretation\",\"Random Forest Interpretation\",\"Random Forest Interpretation\",\"Random Forest Interpretation\",\"Random Forest Interpretation\",\"Random Forest Interpretation\",\"Random Forest Interpretation\",\"Random Forest Interpretation\",\"Random Forest Interpretation\",\"Random Forest Interpretation\",\"Random Forest Interpretation\",\"Random Forest Interpretation\",\"Random Forest Interpretation\",\"Random Forest Interpretation\",\"Random Forest Interpretation\",\"Random Forest Interpretation\",\"Random Forest Interpretation\",\"Random Forest Interpretation\",\"Random Forest Interpretation\",\"Random Forest Interpretation\",\"Random Forest Interpretation\",\"Random Forest Interpretation\",\"Random Forest Interpretation\",\"Random Forest Interpretation\",\"Random Forest Interpretation\",\"Random Forest Interpretation\",\"Random Forest Interpretation\",\"Random Forest Interpretation\",\"Random Forest Interpretation\",\"Random Forest Interpretation\",\"Random Forest Interpretation\",\"Random Forest Interpretation\",\"Random Forest Interpretation\",\"Random Forest Interpretation\",\"Random Forest Interpretation\",\"Random Forest Interpretation\",\"Random Forest Interpretation\",\"Random Forest Interpretation\",\"Random Forest Interpretation\",\"Random Forest Interpretation\",\"Random Forest Interpretation\",\"Random Forest Interpretation\",\"Random Forest Interpretation\",\"Random Forest Interpretation\",\"Random Forest Interpretation\",\"Random Forest Interpretation\",\"Random Forest Interpretation\",\"Random Forest Interpretation\",\"Random Forest Interpretation\",\"Random Forest Interpretation\",\"Random Forest Interpretation\",\"Random Forest Interpretation\",\"Random Forest Interpretation\",\"Random Forest Interpretation\",\"Random Forest Interpretation\",\"Random Forest Interpretation\",\"Random Forest Interpretation\",\"Random Forest Interpretation\",\"Random Forest Interpretation\",\"Random Forest Interpretation\",\"Random Forest Interpretation\",\"Random Forest Interpretation\"],\"legendgroup\":\"Random Forest Interpretation\",\"line\":{\"color\":\"#46bac2\",\"dash\":\"solid\",\"width\":2},\"marker\":{\"symbol\":\"circle\"},\"mode\":\"lines\",\"name\":\"Random Forest Interpretation\",\"orientation\":\"v\",\"showlegend\":false,\"x\":[7.2998561928330015e-06,0.0013812787888078607,0.002755257721422888,0.004129236654037916,0.005503215586652944,0.006877194519267971,0.008251173451882999,0.009625152384498025,0.010999131317113053,0.012373110249728082,0.013747089182343108,0.015121068114958136,0.016495047047573166,0.017869025980188195,0.01924300491280322,0.020616983845418248,0.021990962778033276,0.023364941710648304,0.024738920643263333,0.026112899575878357,0.027486878508493386,0.028860857441108414,0.030234836373723442,0.03160881530633847,0.0329827942389535,0.03435677317156852,0.035730752104183555,0.03710473103679858,0.038478709969413605,0.039852688902028637,0.04122666783464366,0.04260064676725869,0.04397462569987372,0.04534860463248874,0.046722583565103774,0.0480965624977188,0.04947054143033383,0.050844520362948856,0.05221849929556388,0.05359247822817891,0.05496645716079394,0.05634043609340897,0.057714415026023994,0.05908839395863902,0.06046237289125405,0.061836351823869075,0.06321033075648409,0.06458430968909913,0.06595828862171416,0.06733226755432918,0.0687062464869442,0.07008022541955923,0.07145420435217427,0.0728281832847893,0.07420216221740432,0.07557614115001934,0.07695012008263437,0.07832409901524941,0.07969807794786443,0.08107205688047946,0.08244603581309448,0.0838200147457095,0.08519399367832454,0.08656797261093957,0.0879419515435546,0.08931593047616962,0.09068990940878464,0.09206388834139968,0.09343786727401471,0.09481184620662973,0.09618582513924476,0.09755980407185978,0.09893378300447482,0.10030776193708985,0.10168174086970487,0.1030557198023199,0.10442969873493492,0.10580367766754996,0.10717765660016498,0.10855163553278001,0.10992561446539503,0.11129959339801006,0.1126735723306251,0.11404755126324012,0.11542153019585515,0.11679550912847017,0.1181694880610852,0.11954346699370023,0.12091744592631526,0.12229142485893028,0.12366540379154531,0.12503938272416035,0.12641336165677536,0.1277873405893904,0.12916131952200544,0.13053529845462045,0.13190927738723549,0.1332832563198505,0.13465723525246553,0.13603121418508057,0.13740519311769558],\"xaxis\":\"x6\",\"y\":[0.5480945169363022,0.5295249149060001,0.5457582935794769,0.5306107405160784,0.5302313062693305,0.5433634956035448,0.5408050311154052,0.5327135795180129,0.5319622880909269,0.5340678115030131,0.532527377420117,0.532928045745328,0.5296412117371363,0.5300940239552093,0.5326253584158337,0.5422741199456426,0.5419142658049501,0.5413429690046132,0.5430198935785746,0.5440837283082601,0.5428081458187766,0.54387552848849,0.5412462645290551,0.5410333109815867,0.5387718284187009,0.5376215158876068,0.5380595980733869,0.5380057325305941,0.5380399917898533,0.5385861838555219,0.5385861838555219,0.5407368289428937,0.5437741652268826,0.5437341086886145,0.546766847124401,0.5438567558596233,0.54412487123304,0.5434808885776253,0.5434808885776253,0.5434808885776253,0.5434808885776253,0.5434808885776253,0.543526728652583,0.5434872951157282,0.5434606284490616,0.5434828506712838,0.5442207084411244,0.5532124286820735,0.5532124286820735,0.5532124286820735,0.5532124286820735,0.5532124286820735,0.5531885747920949,0.5532870397043756,0.5533506333811828,0.5535261638533792,0.5535261638533792,0.5534905020642966,0.553652001957259,0.5537551072871144,0.5536754512024583,0.5536804873099944,0.5537747134070111,0.5537747134070111,0.5537747134070111,0.553575137987522,0.553575137987522,0.5536390268764109,0.5531503335007136,0.5531503335007136,0.5532253335007136,0.5532253335007136,0.5532253335007136,0.5532253335007136,0.5532253335007136,0.5532253335007136,0.5532253335007136,0.5539716195670575,0.5539716195670575,0.5539716195670575,0.5539716195670575,0.5539716195670575,0.5539716195670575,0.5539716195670575,0.5539716195670575,0.5539716195670575,0.5539716195670575,0.5539716195670575,0.5539716195670575,0.5539716195670575,0.5539716195670575,0.5539716195670575,0.5539716195670575,0.5539716195670575,0.5539716195670575,0.5539716195670575,0.5539716195670575,0.5539716195670575,0.5539716195670575,0.5539716195670575,0.5539716195670575],\"yaxis\":\"y6\",\"type\":\"scatter\",\"opacity\":1},{\"customdata\":[[0.5315287953360255,\"Random Forest Interpretation\",\"Order Item Quantity\"],[0.5315287953360255,\"Random Forest Interpretation\",\"Order Item Quantity\"],[0.5315287953360255,\"Random Forest Interpretation\",\"Order Item Quantity\"],[0.5315287953360255,\"Random Forest Interpretation\",\"Order Item Quantity\"],[0.5315287953360255,\"Random Forest Interpretation\",\"Order Item Quantity\"],[0.5315287953360255,\"Random Forest Interpretation\",\"Order Item Quantity\"],[0.5315287953360255,\"Random Forest Interpretation\",\"Order Item Quantity\"],[0.5315287953360255,\"Random Forest Interpretation\",\"Order Item Quantity\"],[0.5315287953360255,\"Random Forest Interpretation\",\"Order Item Quantity\"],[0.5315287953360255,\"Random Forest Interpretation\",\"Order Item Quantity\"],[0.5315287953360255,\"Random Forest Interpretation\",\"Order Item Quantity\"],[0.5315287953360255,\"Random Forest Interpretation\",\"Order Item Quantity\"],[0.5315287953360255,\"Random Forest Interpretation\",\"Order Item Quantity\"],[0.5315287953360255,\"Random Forest Interpretation\",\"Order Item Quantity\"],[0.5315287953360255,\"Random Forest Interpretation\",\"Order Item Quantity\"],[0.5315287953360255,\"Random Forest Interpretation\",\"Order Item Quantity\"],[0.5315287953360255,\"Random Forest Interpretation\",\"Order Item Quantity\"],[0.5315287953360255,\"Random Forest Interpretation\",\"Order Item Quantity\"],[0.5315287953360255,\"Random Forest Interpretation\",\"Order Item Quantity\"],[0.5315287953360255,\"Random Forest Interpretation\",\"Order Item Quantity\"],[0.5315287953360255,\"Random Forest Interpretation\",\"Order Item Quantity\"],[0.5315287953360255,\"Random Forest Interpretation\",\"Order Item Quantity\"],[0.5315287953360255,\"Random Forest Interpretation\",\"Order Item Quantity\"],[0.5315287953360255,\"Random Forest Interpretation\",\"Order Item Quantity\"],[0.5315287953360255,\"Random Forest Interpretation\",\"Order Item Quantity\"],[0.5315287953360255,\"Random Forest Interpretation\",\"Order Item Quantity\"],[0.5315287953360255,\"Random Forest Interpretation\",\"Order Item Quantity\"],[0.5315287953360255,\"Random Forest Interpretation\",\"Order Item Quantity\"],[0.5315287953360255,\"Random Forest Interpretation\",\"Order Item Quantity\"],[0.5315287953360255,\"Random Forest Interpretation\",\"Order Item Quantity\"],[0.5315287953360255,\"Random Forest Interpretation\",\"Order Item Quantity\"],[0.5315287953360255,\"Random Forest Interpretation\",\"Order Item Quantity\"],[0.5315287953360255,\"Random Forest Interpretation\",\"Order Item Quantity\"],[0.5315287953360255,\"Random Forest Interpretation\",\"Order Item Quantity\"],[0.5315287953360255,\"Random Forest Interpretation\",\"Order Item Quantity\"],[0.5315287953360255,\"Random Forest Interpretation\",\"Order Item Quantity\"],[0.5315287953360255,\"Random Forest Interpretation\",\"Order Item Quantity\"],[0.5315287953360255,\"Random Forest Interpretation\",\"Order Item Quantity\"],[0.5315287953360255,\"Random Forest Interpretation\",\"Order Item Quantity\"],[0.5315287953360255,\"Random Forest Interpretation\",\"Order Item Quantity\"],[0.5315287953360255,\"Random Forest Interpretation\",\"Order Item Quantity\"],[0.5315287953360255,\"Random Forest Interpretation\",\"Order Item Quantity\"],[0.5315287953360255,\"Random Forest Interpretation\",\"Order Item Quantity\"],[0.5315287953360255,\"Random Forest Interpretation\",\"Order Item Quantity\"],[0.5315287953360255,\"Random Forest Interpretation\",\"Order Item Quantity\"],[0.5315287953360255,\"Random Forest Interpretation\",\"Order Item Quantity\"],[0.5315287953360255,\"Random Forest Interpretation\",\"Order Item Quantity\"],[0.5315287953360255,\"Random Forest Interpretation\",\"Order Item Quantity\"],[0.5315287953360255,\"Random Forest Interpretation\",\"Order Item Quantity\"],[0.5315287953360255,\"Random Forest Interpretation\",\"Order Item Quantity\"],[0.5315287953360255,\"Random Forest Interpretation\",\"Order Item Quantity\"],[0.5315287953360255,\"Random Forest Interpretation\",\"Order Item Quantity\"],[0.5315287953360255,\"Random Forest Interpretation\",\"Order Item Quantity\"],[0.5315287953360255,\"Random Forest Interpretation\",\"Order Item Quantity\"],[0.5315287953360255,\"Random Forest Interpretation\",\"Order Item Quantity\"],[0.5315287953360255,\"Random Forest Interpretation\",\"Order Item Quantity\"],[0.5315287953360255,\"Random Forest Interpretation\",\"Order Item Quantity\"],[0.5315287953360255,\"Random Forest Interpretation\",\"Order Item Quantity\"],[0.5315287953360255,\"Random Forest Interpretation\",\"Order Item Quantity\"],[0.5315287953360255,\"Random Forest Interpretation\",\"Order Item Quantity\"],[0.5315287953360255,\"Random Forest Interpretation\",\"Order Item Quantity\"],[0.5315287953360255,\"Random Forest Interpretation\",\"Order Item Quantity\"],[0.5315287953360255,\"Random Forest Interpretation\",\"Order Item Quantity\"],[0.5315287953360255,\"Random Forest Interpretation\",\"Order Item Quantity\"],[0.5315287953360255,\"Random Forest Interpretation\",\"Order Item Quantity\"],[0.5315287953360255,\"Random Forest Interpretation\",\"Order Item Quantity\"],[0.5315287953360255,\"Random Forest Interpretation\",\"Order Item Quantity\"],[0.5315287953360255,\"Random Forest Interpretation\",\"Order Item Quantity\"],[0.5315287953360255,\"Random Forest Interpretation\",\"Order Item Quantity\"],[0.5315287953360255,\"Random Forest Interpretation\",\"Order Item Quantity\"],[0.5315287953360255,\"Random Forest Interpretation\",\"Order Item Quantity\"],[0.5315287953360255,\"Random Forest Interpretation\",\"Order Item Quantity\"],[0.5315287953360255,\"Random Forest Interpretation\",\"Order Item Quantity\"],[0.5315287953360255,\"Random Forest Interpretation\",\"Order Item Quantity\"],[0.5315287953360255,\"Random Forest Interpretation\",\"Order Item Quantity\"],[0.5315287953360255,\"Random Forest Interpretation\",\"Order Item Quantity\"],[0.5315287953360255,\"Random Forest Interpretation\",\"Order Item Quantity\"],[0.5315287953360255,\"Random Forest Interpretation\",\"Order Item Quantity\"],[0.5315287953360255,\"Random Forest Interpretation\",\"Order Item Quantity\"],[0.5315287953360255,\"Random Forest Interpretation\",\"Order Item Quantity\"],[0.5315287953360255,\"Random Forest Interpretation\",\"Order Item Quantity\"],[0.5315287953360255,\"Random Forest Interpretation\",\"Order Item Quantity\"],[0.5315287953360255,\"Random Forest Interpretation\",\"Order Item Quantity\"],[0.5315287953360255,\"Random Forest Interpretation\",\"Order Item Quantity\"],[0.5315287953360255,\"Random Forest Interpretation\",\"Order Item Quantity\"],[0.5315287953360255,\"Random Forest Interpretation\",\"Order Item Quantity\"],[0.5315287953360255,\"Random Forest Interpretation\",\"Order Item Quantity\"],[0.5315287953360255,\"Random Forest Interpretation\",\"Order Item Quantity\"],[0.5315287953360255,\"Random Forest Interpretation\",\"Order Item Quantity\"],[0.5315287953360255,\"Random Forest Interpretation\",\"Order Item Quantity\"],[0.5315287953360255,\"Random Forest Interpretation\",\"Order Item Quantity\"],[0.5315287953360255,\"Random Forest Interpretation\",\"Order Item Quantity\"],[0.5315287953360255,\"Random Forest Interpretation\",\"Order Item Quantity\"],[0.5315287953360255,\"Random Forest Interpretation\",\"Order Item Quantity\"],[0.5315287953360255,\"Random Forest Interpretation\",\"Order Item Quantity\"],[0.5315287953360255,\"Random Forest Interpretation\",\"Order Item Quantity\"],[0.5315287953360255,\"Random Forest Interpretation\",\"Order Item Quantity\"],[0.5315287953360255,\"Random Forest Interpretation\",\"Order Item Quantity\"],[0.5315287953360255,\"Random Forest Interpretation\",\"Order Item Quantity\"],[0.5315287953360255,\"Random Forest Interpretation\",\"Order Item Quantity\"],[0.5315287953360255,\"Random Forest Interpretation\",\"Order Item Quantity\"]],\"hovertemplate\":\"<b>%{hovertext}</b><br><br>prediction=%{y:.3f}<br>mean_prediction=%{customdata[0]:.3f}<extra></extra>\",\"hovertext\":[\"Random Forest Interpretation\",\"Random Forest Interpretation\",\"Random Forest Interpretation\",\"Random Forest Interpretation\",\"Random Forest Interpretation\",\"Random Forest Interpretation\",\"Random Forest Interpretation\",\"Random Forest Interpretation\",\"Random Forest Interpretation\",\"Random Forest Interpretation\",\"Random Forest Interpretation\",\"Random Forest Interpretation\",\"Random Forest Interpretation\",\"Random Forest Interpretation\",\"Random Forest Interpretation\",\"Random Forest Interpretation\",\"Random Forest Interpretation\",\"Random Forest Interpretation\",\"Random Forest Interpretation\",\"Random Forest Interpretation\",\"Random Forest Interpretation\",\"Random Forest Interpretation\",\"Random Forest Interpretation\",\"Random Forest Interpretation\",\"Random Forest Interpretation\",\"Random Forest Interpretation\",\"Random Forest Interpretation\",\"Random Forest Interpretation\",\"Random Forest Interpretation\",\"Random Forest Interpretation\",\"Random Forest Interpretation\",\"Random Forest Interpretation\",\"Random Forest Interpretation\",\"Random Forest Interpretation\",\"Random Forest Interpretation\",\"Random Forest Interpretation\",\"Random Forest Interpretation\",\"Random Forest Interpretation\",\"Random Forest Interpretation\",\"Random Forest Interpretation\",\"Random Forest Interpretation\",\"Random Forest Interpretation\",\"Random Forest Interpretation\",\"Random Forest Interpretation\",\"Random Forest Interpretation\",\"Random Forest Interpretation\",\"Random Forest Interpretation\",\"Random Forest Interpretation\",\"Random Forest Interpretation\",\"Random Forest Interpretation\",\"Random Forest Interpretation\",\"Random Forest Interpretation\",\"Random Forest Interpretation\",\"Random Forest Interpretation\",\"Random Forest Interpretation\",\"Random Forest Interpretation\",\"Random Forest Interpretation\",\"Random Forest Interpretation\",\"Random Forest Interpretation\",\"Random Forest Interpretation\",\"Random Forest Interpretation\",\"Random Forest Interpretation\",\"Random Forest Interpretation\",\"Random Forest Interpretation\",\"Random Forest Interpretation\",\"Random Forest Interpretation\",\"Random Forest Interpretation\",\"Random Forest Interpretation\",\"Random Forest Interpretation\",\"Random Forest Interpretation\",\"Random Forest Interpretation\",\"Random Forest Interpretation\",\"Random Forest Interpretation\",\"Random Forest Interpretation\",\"Random Forest Interpretation\",\"Random Forest Interpretation\",\"Random Forest Interpretation\",\"Random Forest Interpretation\",\"Random Forest Interpretation\",\"Random Forest Interpretation\",\"Random Forest Interpretation\",\"Random Forest Interpretation\",\"Random Forest Interpretation\",\"Random Forest Interpretation\",\"Random Forest Interpretation\",\"Random Forest Interpretation\",\"Random Forest Interpretation\",\"Random Forest Interpretation\",\"Random Forest Interpretation\",\"Random Forest Interpretation\",\"Random Forest Interpretation\",\"Random Forest Interpretation\",\"Random Forest Interpretation\",\"Random Forest Interpretation\",\"Random Forest Interpretation\",\"Random Forest Interpretation\",\"Random Forest Interpretation\",\"Random Forest Interpretation\",\"Random Forest Interpretation\",\"Random Forest Interpretation\",\"Random Forest Interpretation\"],\"legendgroup\":\"Random Forest Interpretation\",\"line\":{\"color\":\"#46bac2\",\"dash\":\"solid\",\"width\":2},\"marker\":{\"symbol\":\"circle\"},\"mode\":\"lines\",\"name\":\"Random Forest Interpretation\",\"orientation\":\"v\",\"showlegend\":false,\"x\":[0.0,0.01,0.02,0.03,0.04,0.05,0.06,0.07,0.08,0.09,0.1,0.11,0.12,0.13,0.14,0.15,0.16,0.17,0.18,0.19,0.2,0.21,0.22,0.23,0.24,0.25,0.26,0.27,0.28,0.29,0.3,0.31,0.32,0.33,0.34,0.35000000000000003,0.36,0.37,0.38,0.39,0.4,0.41000000000000003,0.42,0.43,0.44,0.45,0.46,0.47000000000000003,0.48,0.49,0.5,0.51,0.52,0.53,0.54,0.55,0.56,0.5700000000000001,0.58,0.59,0.6,0.61,0.62,0.63,0.64,0.65,0.66,0.67,0.68,0.6900000000000001,0.7000000000000001,0.71,0.72,0.73,0.74,0.75,0.76,0.77,0.78,0.79,0.8,0.81,0.8200000000000001,0.8300000000000001,0.84,0.85,0.86,0.87,0.88,0.89,0.9,0.91,0.92,0.93,0.9400000000000001,0.9500000000000001,0.96,0.97,0.98,0.99,1.0],\"xaxis\":\"x3\",\"y\":[0.5378254715868653,0.5378254715868653,0.5378254715868653,0.5378254715868653,0.5378254715868653,0.5378254715868653,0.5378254715868653,0.5378254715868653,0.5378254715868653,0.5378254715868653,0.5378254715868653,0.5378254715868653,0.5378254715868653,0.5555335977499606,0.5555335977499606,0.5555335977499606,0.5555335977499606,0.5555335977499606,0.5555335977499606,0.5555335977499606,0.5555335977499606,0.5555335977499606,0.5555335977499606,0.5555335977499606,0.5555335977499606,0.5555335977499606,0.5549905937185315,0.5549905937185315,0.5549905937185315,0.5549905937185315,0.5549905937185315,0.5549905937185315,0.5549905937185315,0.5549905937185315,0.5549905937185315,0.5549905937185315,0.5549905937185315,0.5549905937185315,0.549687803435058,0.549687803435058,0.549687803435058,0.549687803435058,0.549687803435058,0.549687803435058,0.549687803435058,0.549687803435058,0.549687803435058,0.549687803435058,0.549687803435058,0.549687803435058,0.549687803435058,0.5495079393176938,0.5495079393176938,0.5495079393176938,0.5495079393176938,0.5495079393176938,0.5495079393176938,0.5495079393176938,0.5495079393176938,0.5495079393176938,0.5495079393176938,0.5495079393176938,0.5495079393176938,0.5294702468977591,0.5294702468977591,0.5294702468977591,0.5294702468977591,0.5294702468977591,0.5294702468977591,0.5294702468977591,0.5294702468977591,0.5294702468977591,0.5294702468977591,0.5294702468977591,0.5294702468977591,0.5294702468977591,0.5284147839347961,0.5284147839347961,0.5284147839347961,0.5284147839347961,0.5284147839347961,0.5284147839347961,0.5284147839347961,0.5284147839347961,0.5284147839347961,0.5284147839347961,0.5284147839347961,0.5284147839347961,0.5557013913563256,0.5557013913563256,0.5557013913563256,0.5557013913563256,0.5557013913563256,0.5557013913563256,0.5557013913563256,0.5557013913563256,0.5557013913563256,0.5557013913563256,0.5557013913563256,0.5557013913563256,0.5557013913563256],\"yaxis\":\"y3\",\"type\":\"scatter\",\"opacity\":1},{\"customdata\":[[0.5315287953360255,\"Random Forest Interpretation\",\"Order Region\"],[0.5315287953360255,\"Random Forest Interpretation\",\"Order Region\"],[0.5315287953360255,\"Random Forest Interpretation\",\"Order Region\"],[0.5315287953360255,\"Random Forest Interpretation\",\"Order Region\"],[0.5315287953360255,\"Random Forest Interpretation\",\"Order Region\"],[0.5315287953360255,\"Random Forest Interpretation\",\"Order Region\"],[0.5315287953360255,\"Random Forest Interpretation\",\"Order Region\"],[0.5315287953360255,\"Random Forest Interpretation\",\"Order Region\"],[0.5315287953360255,\"Random Forest Interpretation\",\"Order Region\"],[0.5315287953360255,\"Random Forest Interpretation\",\"Order Region\"],[0.5315287953360255,\"Random Forest Interpretation\",\"Order Region\"],[0.5315287953360255,\"Random Forest Interpretation\",\"Order Region\"],[0.5315287953360255,\"Random Forest Interpretation\",\"Order Region\"],[0.5315287953360255,\"Random Forest Interpretation\",\"Order Region\"],[0.5315287953360255,\"Random Forest Interpretation\",\"Order Region\"],[0.5315287953360255,\"Random Forest Interpretation\",\"Order Region\"],[0.5315287953360255,\"Random Forest Interpretation\",\"Order Region\"],[0.5315287953360255,\"Random Forest Interpretation\",\"Order Region\"],[0.5315287953360255,\"Random Forest Interpretation\",\"Order Region\"],[0.5315287953360255,\"Random Forest Interpretation\",\"Order Region\"],[0.5315287953360255,\"Random Forest Interpretation\",\"Order Region\"],[0.5315287953360255,\"Random Forest Interpretation\",\"Order Region\"],[0.5315287953360255,\"Random Forest Interpretation\",\"Order Region\"],[0.5315287953360255,\"Random Forest Interpretation\",\"Order Region\"],[0.5315287953360255,\"Random Forest Interpretation\",\"Order Region\"],[0.5315287953360255,\"Random Forest Interpretation\",\"Order Region\"],[0.5315287953360255,\"Random Forest Interpretation\",\"Order Region\"],[0.5315287953360255,\"Random Forest Interpretation\",\"Order Region\"],[0.5315287953360255,\"Random Forest Interpretation\",\"Order Region\"],[0.5315287953360255,\"Random Forest Interpretation\",\"Order Region\"],[0.5315287953360255,\"Random Forest Interpretation\",\"Order Region\"],[0.5315287953360255,\"Random Forest Interpretation\",\"Order Region\"],[0.5315287953360255,\"Random Forest Interpretation\",\"Order Region\"],[0.5315287953360255,\"Random Forest Interpretation\",\"Order Region\"],[0.5315287953360255,\"Random Forest Interpretation\",\"Order Region\"],[0.5315287953360255,\"Random Forest Interpretation\",\"Order Region\"],[0.5315287953360255,\"Random Forest Interpretation\",\"Order Region\"],[0.5315287953360255,\"Random Forest Interpretation\",\"Order Region\"],[0.5315287953360255,\"Random Forest Interpretation\",\"Order Region\"],[0.5315287953360255,\"Random Forest Interpretation\",\"Order Region\"],[0.5315287953360255,\"Random Forest Interpretation\",\"Order Region\"],[0.5315287953360255,\"Random Forest Interpretation\",\"Order Region\"],[0.5315287953360255,\"Random Forest Interpretation\",\"Order Region\"],[0.5315287953360255,\"Random Forest Interpretation\",\"Order Region\"],[0.5315287953360255,\"Random Forest Interpretation\",\"Order Region\"],[0.5315287953360255,\"Random Forest Interpretation\",\"Order Region\"],[0.5315287953360255,\"Random Forest Interpretation\",\"Order Region\"],[0.5315287953360255,\"Random Forest Interpretation\",\"Order Region\"],[0.5315287953360255,\"Random Forest Interpretation\",\"Order Region\"],[0.5315287953360255,\"Random Forest Interpretation\",\"Order Region\"],[0.5315287953360255,\"Random Forest Interpretation\",\"Order Region\"],[0.5315287953360255,\"Random Forest Interpretation\",\"Order Region\"],[0.5315287953360255,\"Random Forest Interpretation\",\"Order Region\"],[0.5315287953360255,\"Random Forest Interpretation\",\"Order Region\"],[0.5315287953360255,\"Random Forest Interpretation\",\"Order Region\"],[0.5315287953360255,\"Random Forest Interpretation\",\"Order Region\"],[0.5315287953360255,\"Random Forest Interpretation\",\"Order Region\"],[0.5315287953360255,\"Random Forest Interpretation\",\"Order Region\"],[0.5315287953360255,\"Random Forest Interpretation\",\"Order Region\"],[0.5315287953360255,\"Random Forest Interpretation\",\"Order Region\"],[0.5315287953360255,\"Random Forest Interpretation\",\"Order Region\"],[0.5315287953360255,\"Random Forest Interpretation\",\"Order Region\"],[0.5315287953360255,\"Random Forest Interpretation\",\"Order Region\"],[0.5315287953360255,\"Random Forest Interpretation\",\"Order Region\"],[0.5315287953360255,\"Random Forest Interpretation\",\"Order Region\"],[0.5315287953360255,\"Random Forest Interpretation\",\"Order Region\"],[0.5315287953360255,\"Random Forest Interpretation\",\"Order Region\"],[0.5315287953360255,\"Random Forest Interpretation\",\"Order Region\"],[0.5315287953360255,\"Random Forest Interpretation\",\"Order Region\"],[0.5315287953360255,\"Random Forest Interpretation\",\"Order Region\"],[0.5315287953360255,\"Random Forest Interpretation\",\"Order Region\"],[0.5315287953360255,\"Random Forest Interpretation\",\"Order Region\"],[0.5315287953360255,\"Random Forest Interpretation\",\"Order Region\"],[0.5315287953360255,\"Random Forest Interpretation\",\"Order Region\"],[0.5315287953360255,\"Random Forest Interpretation\",\"Order Region\"],[0.5315287953360255,\"Random Forest Interpretation\",\"Order Region\"],[0.5315287953360255,\"Random Forest Interpretation\",\"Order Region\"],[0.5315287953360255,\"Random Forest Interpretation\",\"Order Region\"],[0.5315287953360255,\"Random Forest Interpretation\",\"Order Region\"],[0.5315287953360255,\"Random Forest Interpretation\",\"Order Region\"],[0.5315287953360255,\"Random Forest Interpretation\",\"Order Region\"],[0.5315287953360255,\"Random Forest Interpretation\",\"Order Region\"],[0.5315287953360255,\"Random Forest Interpretation\",\"Order Region\"],[0.5315287953360255,\"Random Forest Interpretation\",\"Order Region\"],[0.5315287953360255,\"Random Forest Interpretation\",\"Order Region\"],[0.5315287953360255,\"Random Forest Interpretation\",\"Order Region\"],[0.5315287953360255,\"Random Forest Interpretation\",\"Order Region\"],[0.5315287953360255,\"Random Forest Interpretation\",\"Order Region\"],[0.5315287953360255,\"Random Forest Interpretation\",\"Order Region\"],[0.5315287953360255,\"Random Forest Interpretation\",\"Order Region\"],[0.5315287953360255,\"Random Forest Interpretation\",\"Order Region\"],[0.5315287953360255,\"Random Forest Interpretation\",\"Order Region\"],[0.5315287953360255,\"Random Forest Interpretation\",\"Order Region\"],[0.5315287953360255,\"Random Forest Interpretation\",\"Order Region\"],[0.5315287953360255,\"Random Forest Interpretation\",\"Order Region\"],[0.5315287953360255,\"Random Forest Interpretation\",\"Order Region\"],[0.5315287953360255,\"Random Forest Interpretation\",\"Order Region\"],[0.5315287953360255,\"Random Forest Interpretation\",\"Order Region\"],[0.5315287953360255,\"Random Forest Interpretation\",\"Order Region\"],[0.5315287953360255,\"Random Forest Interpretation\",\"Order Region\"],[0.5315287953360255,\"Random Forest Interpretation\",\"Order Region\"]],\"hovertemplate\":\"<b>%{hovertext}</b><br><br>prediction=%{y:.3f}<br>mean_prediction=%{customdata[0]:.3f}<extra></extra>\",\"hovertext\":[\"Random Forest Interpretation\",\"Random Forest Interpretation\",\"Random Forest Interpretation\",\"Random Forest Interpretation\",\"Random Forest Interpretation\",\"Random Forest Interpretation\",\"Random Forest Interpretation\",\"Random Forest Interpretation\",\"Random Forest Interpretation\",\"Random Forest Interpretation\",\"Random Forest Interpretation\",\"Random Forest Interpretation\",\"Random Forest Interpretation\",\"Random Forest Interpretation\",\"Random Forest Interpretation\",\"Random Forest Interpretation\",\"Random Forest Interpretation\",\"Random Forest Interpretation\",\"Random Forest Interpretation\",\"Random Forest Interpretation\",\"Random Forest Interpretation\",\"Random Forest Interpretation\",\"Random Forest Interpretation\",\"Random Forest Interpretation\",\"Random Forest Interpretation\",\"Random Forest Interpretation\",\"Random Forest Interpretation\",\"Random Forest Interpretation\",\"Random Forest Interpretation\",\"Random Forest Interpretation\",\"Random Forest Interpretation\",\"Random Forest Interpretation\",\"Random Forest Interpretation\",\"Random Forest Interpretation\",\"Random Forest Interpretation\",\"Random Forest Interpretation\",\"Random Forest Interpretation\",\"Random Forest Interpretation\",\"Random Forest Interpretation\",\"Random Forest Interpretation\",\"Random Forest Interpretation\",\"Random Forest Interpretation\",\"Random Forest Interpretation\",\"Random Forest Interpretation\",\"Random Forest Interpretation\",\"Random Forest Interpretation\",\"Random Forest Interpretation\",\"Random Forest Interpretation\",\"Random Forest Interpretation\",\"Random Forest Interpretation\",\"Random Forest Interpretation\",\"Random Forest Interpretation\",\"Random Forest Interpretation\",\"Random Forest Interpretation\",\"Random Forest Interpretation\",\"Random Forest Interpretation\",\"Random Forest Interpretation\",\"Random Forest Interpretation\",\"Random Forest Interpretation\",\"Random Forest Interpretation\",\"Random Forest Interpretation\",\"Random Forest Interpretation\",\"Random Forest Interpretation\",\"Random Forest Interpretation\",\"Random Forest Interpretation\",\"Random Forest Interpretation\",\"Random Forest Interpretation\",\"Random Forest Interpretation\",\"Random Forest Interpretation\",\"Random Forest Interpretation\",\"Random Forest Interpretation\",\"Random Forest Interpretation\",\"Random Forest Interpretation\",\"Random Forest Interpretation\",\"Random Forest Interpretation\",\"Random Forest Interpretation\",\"Random Forest Interpretation\",\"Random Forest Interpretation\",\"Random Forest Interpretation\",\"Random Forest Interpretation\",\"Random Forest Interpretation\",\"Random Forest Interpretation\",\"Random Forest Interpretation\",\"Random Forest Interpretation\",\"Random Forest Interpretation\",\"Random Forest Interpretation\",\"Random Forest Interpretation\",\"Random Forest Interpretation\",\"Random Forest Interpretation\",\"Random Forest Interpretation\",\"Random Forest Interpretation\",\"Random Forest Interpretation\",\"Random Forest Interpretation\",\"Random Forest Interpretation\",\"Random Forest Interpretation\",\"Random Forest Interpretation\",\"Random Forest Interpretation\",\"Random Forest Interpretation\",\"Random Forest Interpretation\",\"Random Forest Interpretation\",\"Random Forest Interpretation\"],\"legendgroup\":\"Random Forest Interpretation\",\"line\":{\"color\":\"#46bac2\",\"dash\":\"solid\",\"width\":2},\"marker\":{\"symbol\":\"circle\"},\"mode\":\"lines\",\"name\":\"Random Forest Interpretation\",\"orientation\":\"v\",\"showlegend\":false,\"x\":[0.0031608377314966897,0.004692858550686551,0.006224879369876413,0.007756900189066275,0.009288921008256137,0.010820941827446,0.01235296264663586,0.013884983465825722,0.015417004285015584,0.016949025104205446,0.01848104592339531,0.02001306674258517,0.02154508756177503,0.023077108380964894,0.024609129200154754,0.026141150019344618,0.02767317083853448,0.02920519165772434,0.030737212476914202,0.032269233296104066,0.03380125411529393,0.03533327493448379,0.03686529575367365,0.038397316572863514,0.03992933739205337,0.041461358211243235,0.0429933790304331,0.044525399849622956,0.04605742066881282,0.04758944148800268,0.04912146230719255,0.050653483126382404,0.05218550394557227,0.05371752476476213,0.05524954558395199,0.05678156640314185,0.058313587222331716,0.05984560804152158,0.061377628860711436,0.0629096496799013,0.06444167049909116,0.06597369131828103,0.06750571213747089,0.06903773295666076,0.07056975377585062,0.07210177459504048,0.07363379541423035,0.0751658162334202,0.07669783705261006,0.07822985787179992,0.07976187869098979,0.08129389951017965,0.08282592032936952,0.08435794114855938,0.08588996196774923,0.08742198278693909,0.08895400360612896,0.09048602442531882,0.09201804524450868,0.09355006606369855,0.09508208688288841,0.09661410770207826,0.09814612852126813,0.09967814934045799,0.10121017015964785,0.10274219097883772,0.10427421179802758,0.10580623261721744,0.1073382534364073,0.10887027425559716,0.11040229507478702,0.11193431589397689,0.11346633671316675,0.11499835753235661,0.11653037835154648,0.11806239917073633,0.11959441998992619,0.12112644080911605,0.12265846162830592,0.12419048244749578,0.12572250326668563,0.1272545240858755,0.12878654490506536,0.13031856572425524,0.1318505865434451,0.13338260736263496,0.1349146281818248,0.13644664900101466,0.13797866982020454,0.1395106906393944,0.14104271145858427,0.14257473227777412,0.144106753096964,0.14563877391615385,0.1471707947353437,0.14870281555453357,0.15023483637372342,0.1517668571929133,0.15329887801210315,0.15483089883129303,0.15636291965048288],\"xaxis\":\"x4\",\"y\":[0.5411428694438776,0.5234118139392341,0.5300717377004308,0.5305230159592091,0.5381745294329194,0.5356213661719477,0.5351283593401863,0.5349225630204749,0.5349116061776101,0.5350338813098853,0.5347052978467329,0.5319092653890342,0.5323057050088797,0.5320536339352167,0.53208696726855,0.5320405300704824,0.5459057548004445,0.5459233480405378,0.5457307182226905,0.5453013651683375,0.5462629754317948,0.5462629754317948,0.5520073815041743,0.5515043732980701,0.5484805543550693,0.5478868855862377,0.550802330046447,0.5503910086976398,0.5506135974920487,0.5509287574744137,0.5538591685493478,0.5527617436277482,0.5528978547388593,0.5462498606768446,0.5495416200454164,0.5495416200454164,0.5494284887322851,0.5494284887322851,0.5494284887322851,0.5494351553989518,0.5494126726964691,0.5463808528781938,0.5463808528781938,0.5466473381885739,0.5462145704554404,0.5462145704554404,0.5462145704554404,0.5462145704554404,0.5462145704554404,0.5462145704554404,0.5462145704554404,0.5462145704554404,0.5462145704554404,0.5462145704554404,0.5462115604219956,0.5461685865657864,0.5461667347139345,0.546200068047268,0.5461967347139346,0.5462154215826215,0.546194054061254,0.5461607207279205,0.5458172631799153,0.5457757599119414,0.545819030086819,0.5457125994433085,0.5440840341295641,0.5441438146577995,0.5441369363509212,0.5441369363509212,0.5441369363509212,0.5441369363509212,0.5441369363509212,0.5441369363509212,0.5441369363509212,0.5464908998230865,0.5464908998230865,0.5483428162705339,0.5483428162705339,0.5483428162705339,0.5483428162705339,0.5483428162705339,0.5483428162705339,0.5483428162705339,0.5483428162705339,0.5483428162705339,0.5483428162705339,0.5483428162705339,0.5483428162705339,0.5483428162705339,0.5483428162705339,0.5483428162705339,0.5483428162705339,0.5483428162705339,0.5483428162705339,0.5483428162705339,0.5483428162705339,0.5483428162705339,0.5483428162705339,0.5536346589173231,0.5536346589173231],\"yaxis\":\"y4\",\"type\":\"scatter\",\"opacity\":1},{\"customdata\":[[0.5315287953360255,\"Random Forest Interpretation\",\"Shipping Mode\"],[0.5315287953360255,\"Random Forest Interpretation\",\"Shipping Mode\"],[0.5315287953360255,\"Random Forest Interpretation\",\"Shipping Mode\"],[0.5315287953360255,\"Random Forest Interpretation\",\"Shipping Mode\"],[0.5315287953360255,\"Random Forest Interpretation\",\"Shipping Mode\"],[0.5315287953360255,\"Random Forest Interpretation\",\"Shipping Mode\"],[0.5315287953360255,\"Random Forest Interpretation\",\"Shipping Mode\"],[0.5315287953360255,\"Random Forest Interpretation\",\"Shipping Mode\"],[0.5315287953360255,\"Random Forest Interpretation\",\"Shipping Mode\"],[0.5315287953360255,\"Random Forest Interpretation\",\"Shipping Mode\"],[0.5315287953360255,\"Random Forest Interpretation\",\"Shipping Mode\"],[0.5315287953360255,\"Random Forest Interpretation\",\"Shipping Mode\"],[0.5315287953360255,\"Random Forest Interpretation\",\"Shipping Mode\"],[0.5315287953360255,\"Random Forest Interpretation\",\"Shipping Mode\"],[0.5315287953360255,\"Random Forest Interpretation\",\"Shipping Mode\"],[0.5315287953360255,\"Random Forest Interpretation\",\"Shipping Mode\"],[0.5315287953360255,\"Random Forest Interpretation\",\"Shipping Mode\"],[0.5315287953360255,\"Random Forest Interpretation\",\"Shipping Mode\"],[0.5315287953360255,\"Random Forest Interpretation\",\"Shipping Mode\"],[0.5315287953360255,\"Random Forest Interpretation\",\"Shipping Mode\"],[0.5315287953360255,\"Random Forest Interpretation\",\"Shipping Mode\"],[0.5315287953360255,\"Random Forest Interpretation\",\"Shipping Mode\"],[0.5315287953360255,\"Random Forest Interpretation\",\"Shipping Mode\"],[0.5315287953360255,\"Random Forest Interpretation\",\"Shipping Mode\"],[0.5315287953360255,\"Random Forest Interpretation\",\"Shipping Mode\"],[0.5315287953360255,\"Random Forest Interpretation\",\"Shipping Mode\"],[0.5315287953360255,\"Random Forest Interpretation\",\"Shipping Mode\"],[0.5315287953360255,\"Random Forest Interpretation\",\"Shipping Mode\"],[0.5315287953360255,\"Random Forest Interpretation\",\"Shipping Mode\"],[0.5315287953360255,\"Random Forest Interpretation\",\"Shipping Mode\"],[0.5315287953360255,\"Random Forest Interpretation\",\"Shipping Mode\"],[0.5315287953360255,\"Random Forest Interpretation\",\"Shipping Mode\"],[0.5315287953360255,\"Random Forest Interpretation\",\"Shipping Mode\"],[0.5315287953360255,\"Random Forest Interpretation\",\"Shipping Mode\"],[0.5315287953360255,\"Random Forest Interpretation\",\"Shipping Mode\"],[0.5315287953360255,\"Random Forest Interpretation\",\"Shipping Mode\"],[0.5315287953360255,\"Random Forest Interpretation\",\"Shipping Mode\"],[0.5315287953360255,\"Random Forest Interpretation\",\"Shipping Mode\"],[0.5315287953360255,\"Random Forest Interpretation\",\"Shipping Mode\"],[0.5315287953360255,\"Random Forest Interpretation\",\"Shipping Mode\"],[0.5315287953360255,\"Random Forest Interpretation\",\"Shipping Mode\"],[0.5315287953360255,\"Random Forest Interpretation\",\"Shipping Mode\"],[0.5315287953360255,\"Random Forest Interpretation\",\"Shipping Mode\"],[0.5315287953360255,\"Random Forest Interpretation\",\"Shipping Mode\"],[0.5315287953360255,\"Random Forest Interpretation\",\"Shipping Mode\"],[0.5315287953360255,\"Random Forest Interpretation\",\"Shipping Mode\"],[0.5315287953360255,\"Random Forest Interpretation\",\"Shipping Mode\"],[0.5315287953360255,\"Random Forest Interpretation\",\"Shipping Mode\"],[0.5315287953360255,\"Random Forest Interpretation\",\"Shipping Mode\"],[0.5315287953360255,\"Random Forest Interpretation\",\"Shipping Mode\"],[0.5315287953360255,\"Random Forest Interpretation\",\"Shipping Mode\"],[0.5315287953360255,\"Random Forest Interpretation\",\"Shipping Mode\"],[0.5315287953360255,\"Random Forest Interpretation\",\"Shipping Mode\"],[0.5315287953360255,\"Random Forest Interpretation\",\"Shipping Mode\"],[0.5315287953360255,\"Random Forest Interpretation\",\"Shipping Mode\"],[0.5315287953360255,\"Random Forest Interpretation\",\"Shipping Mode\"],[0.5315287953360255,\"Random Forest Interpretation\",\"Shipping Mode\"],[0.5315287953360255,\"Random Forest Interpretation\",\"Shipping Mode\"],[0.5315287953360255,\"Random Forest Interpretation\",\"Shipping Mode\"],[0.5315287953360255,\"Random Forest Interpretation\",\"Shipping Mode\"],[0.5315287953360255,\"Random Forest Interpretation\",\"Shipping Mode\"],[0.5315287953360255,\"Random Forest Interpretation\",\"Shipping Mode\"],[0.5315287953360255,\"Random Forest Interpretation\",\"Shipping Mode\"],[0.5315287953360255,\"Random Forest Interpretation\",\"Shipping Mode\"],[0.5315287953360255,\"Random Forest Interpretation\",\"Shipping Mode\"],[0.5315287953360255,\"Random Forest Interpretation\",\"Shipping Mode\"],[0.5315287953360255,\"Random Forest Interpretation\",\"Shipping Mode\"],[0.5315287953360255,\"Random Forest Interpretation\",\"Shipping Mode\"],[0.5315287953360255,\"Random Forest Interpretation\",\"Shipping Mode\"],[0.5315287953360255,\"Random Forest Interpretation\",\"Shipping Mode\"],[0.5315287953360255,\"Random Forest Interpretation\",\"Shipping Mode\"],[0.5315287953360255,\"Random Forest Interpretation\",\"Shipping Mode\"],[0.5315287953360255,\"Random Forest Interpretation\",\"Shipping Mode\"],[0.5315287953360255,\"Random Forest Interpretation\",\"Shipping Mode\"],[0.5315287953360255,\"Random Forest Interpretation\",\"Shipping Mode\"],[0.5315287953360255,\"Random Forest Interpretation\",\"Shipping Mode\"],[0.5315287953360255,\"Random Forest Interpretation\",\"Shipping Mode\"],[0.5315287953360255,\"Random Forest Interpretation\",\"Shipping Mode\"],[0.5315287953360255,\"Random Forest Interpretation\",\"Shipping Mode\"],[0.5315287953360255,\"Random Forest Interpretation\",\"Shipping Mode\"],[0.5315287953360255,\"Random Forest Interpretation\",\"Shipping Mode\"],[0.5315287953360255,\"Random Forest Interpretation\",\"Shipping Mode\"],[0.5315287953360255,\"Random Forest Interpretation\",\"Shipping Mode\"],[0.5315287953360255,\"Random Forest Interpretation\",\"Shipping Mode\"],[0.5315287953360255,\"Random Forest Interpretation\",\"Shipping Mode\"],[0.5315287953360255,\"Random Forest Interpretation\",\"Shipping Mode\"],[0.5315287953360255,\"Random Forest Interpretation\",\"Shipping Mode\"],[0.5315287953360255,\"Random Forest Interpretation\",\"Shipping Mode\"],[0.5315287953360255,\"Random Forest Interpretation\",\"Shipping Mode\"],[0.5315287953360255,\"Random Forest Interpretation\",\"Shipping Mode\"],[0.5315287953360255,\"Random Forest Interpretation\",\"Shipping Mode\"],[0.5315287953360255,\"Random Forest Interpretation\",\"Shipping Mode\"],[0.5315287953360255,\"Random Forest Interpretation\",\"Shipping Mode\"],[0.5315287953360255,\"Random Forest Interpretation\",\"Shipping Mode\"],[0.5315287953360255,\"Random Forest Interpretation\",\"Shipping Mode\"],[0.5315287953360255,\"Random Forest Interpretation\",\"Shipping Mode\"],[0.5315287953360255,\"Random Forest Interpretation\",\"Shipping Mode\"],[0.5315287953360255,\"Random Forest Interpretation\",\"Shipping Mode\"],[0.5315287953360255,\"Random Forest Interpretation\",\"Shipping Mode\"],[0.5315287953360255,\"Random Forest Interpretation\",\"Shipping Mode\"],[0.5315287953360255,\"Random Forest Interpretation\",\"Shipping Mode\"]],\"hovertemplate\":\"<b>%{hovertext}</b><br><br>prediction=%{y:.3f}<br>mean_prediction=%{customdata[0]:.3f}<extra></extra>\",\"hovertext\":[\"Random Forest Interpretation\",\"Random Forest Interpretation\",\"Random Forest Interpretation\",\"Random Forest Interpretation\",\"Random Forest Interpretation\",\"Random Forest Interpretation\",\"Random Forest Interpretation\",\"Random Forest Interpretation\",\"Random Forest Interpretation\",\"Random Forest Interpretation\",\"Random Forest Interpretation\",\"Random Forest Interpretation\",\"Random Forest Interpretation\",\"Random Forest Interpretation\",\"Random Forest Interpretation\",\"Random Forest Interpretation\",\"Random Forest Interpretation\",\"Random Forest Interpretation\",\"Random Forest Interpretation\",\"Random Forest Interpretation\",\"Random Forest Interpretation\",\"Random Forest Interpretation\",\"Random Forest Interpretation\",\"Random Forest Interpretation\",\"Random Forest Interpretation\",\"Random Forest Interpretation\",\"Random Forest Interpretation\",\"Random Forest Interpretation\",\"Random Forest Interpretation\",\"Random Forest Interpretation\",\"Random Forest Interpretation\",\"Random Forest Interpretation\",\"Random Forest Interpretation\",\"Random Forest Interpretation\",\"Random Forest Interpretation\",\"Random Forest Interpretation\",\"Random Forest Interpretation\",\"Random Forest Interpretation\",\"Random Forest Interpretation\",\"Random Forest Interpretation\",\"Random Forest Interpretation\",\"Random Forest Interpretation\",\"Random Forest Interpretation\",\"Random Forest Interpretation\",\"Random Forest Interpretation\",\"Random Forest Interpretation\",\"Random Forest Interpretation\",\"Random Forest Interpretation\",\"Random Forest Interpretation\",\"Random Forest Interpretation\",\"Random Forest Interpretation\",\"Random Forest Interpretation\",\"Random Forest Interpretation\",\"Random Forest Interpretation\",\"Random Forest Interpretation\",\"Random Forest Interpretation\",\"Random Forest Interpretation\",\"Random Forest Interpretation\",\"Random Forest Interpretation\",\"Random Forest Interpretation\",\"Random Forest Interpretation\",\"Random Forest Interpretation\",\"Random Forest Interpretation\",\"Random Forest Interpretation\",\"Random Forest Interpretation\",\"Random Forest Interpretation\",\"Random Forest Interpretation\",\"Random Forest Interpretation\",\"Random Forest Interpretation\",\"Random Forest Interpretation\",\"Random Forest Interpretation\",\"Random Forest Interpretation\",\"Random Forest Interpretation\",\"Random Forest Interpretation\",\"Random Forest Interpretation\",\"Random Forest Interpretation\",\"Random Forest Interpretation\",\"Random Forest Interpretation\",\"Random Forest Interpretation\",\"Random Forest Interpretation\",\"Random Forest Interpretation\",\"Random Forest Interpretation\",\"Random Forest Interpretation\",\"Random Forest Interpretation\",\"Random Forest Interpretation\",\"Random Forest Interpretation\",\"Random Forest Interpretation\",\"Random Forest Interpretation\",\"Random Forest Interpretation\",\"Random Forest Interpretation\",\"Random Forest Interpretation\",\"Random Forest Interpretation\",\"Random Forest Interpretation\",\"Random Forest Interpretation\",\"Random Forest Interpretation\",\"Random Forest Interpretation\",\"Random Forest Interpretation\",\"Random Forest Interpretation\",\"Random Forest Interpretation\",\"Random Forest Interpretation\",\"Random Forest Interpretation\"],\"legendgroup\":\"Random Forest Interpretation\",\"line\":{\"color\":\"#46bac2\",\"dash\":\"solid\",\"width\":2},\"marker\":{\"symbol\":\"circle\"},\"mode\":\"lines\",\"name\":\"Random Forest Interpretation\",\"orientation\":\"v\",\"showlegend\":false,\"x\":[0.05370504201067239,0.05914489484557154,0.06458474768047069,0.07002460051536985,0.075464453350269,0.08090430618516815,0.08634415902006731,0.09178401185496646,0.0972238646898656,0.10266371752476476,0.10810357035966392,0.11354342319456306,0.11898327602946222,0.12442312886436137,0.12986298169926053,0.13530283453415967,0.14074268736905882,0.146182540203958,0.15162239303885713,0.15706224587375628,0.16250209870865545,0.1679419515435546,0.17338180437845374,0.17882165721335289,0.18426151004825206,0.1897013628831512,0.19514121571805035,0.20058106855294952,0.20602092138784867,0.2114607742227478,0.21690062705764696,0.22234047989254613,0.22778033272744527,0.23322018556234442,0.2386600383972436,0.24409989123214273,0.24953974406704188,0.25497959690194105,0.26041944973684017,0.26585930257173934,0.2712991554066385,0.27673900824153763,0.2821788610764368,0.287618713911336,0.2930585667462351,0.29849841958113427,0.3039382724160334,0.30937812525093256,0.31481797808583173,0.32025783092073085,0.32569768375563,0.3311375365905292,0.3365773894254283,0.3420172422603275,0.34745709509522665,0.35289694793012577,0.35833680076502494,0.3637766535999241,0.36921650643482323,0.3746563592697224,0.3800962121046215,0.3855360649395207,0.39097591777441987,0.396415770609319,0.40185562344421816,0.40729547627911733,0.41273532911401645,0.4181751819489156,0.4236150347838148,0.4290548876187139,0.4344947404536131,0.4399345932885122,0.44537444612341137,0.45081429895831054,0.45625415179320966,0.46169400462810883,0.467133857463008,0.4725737102979071,0.4780135631328063,0.48345341596770547,0.4888932688026046,0.49433312163750376,0.49977297447240293,0.505212827307302,0.5106526801422012,0.5160925329771003,0.5215323858119996,0.5269722386468987,0.5324120914817978,0.5378519443166969,0.5432917971515961,0.5487316499864953,0.5541715028213944,0.5596113556562936,0.5650512084911927,0.5704910613260918,0.5759309141609911,0.5813707669958902,0.5868106198307893,0.5922504726656885,0.5976903255005876],\"xaxis\":\"x\",\"y\":[0.4729774842056808,0.4729774842056808,0.4729774842056808,0.4729774842056808,0.4729774842056808,0.4729774842056808,0.4729774842056808,0.4729774842056808,0.4729774842056808,0.4729774842056808,0.9479083779092023,0.9479083779092023,0.9479083779092023,0.9482461556869799,0.9482461556869799,0.9482461556869799,0.9482461556869799,0.9482461556869799,0.9482461556869799,0.9482461556869799,0.9482461556869799,0.9482461556869799,0.9482461556869799,0.7594741560349743,0.7594741560349743,0.7594741560349743,0.7594741560349743,0.7594741560349743,0.7594741560349743,0.7594741560349743,0.7594741560349743,0.7594741560349743,0.7594741560349743,0.7594741560349743,0.7594741560349743,0.7594741560349743,0.7594741560349743,0.7594741560349743,0.7594741560349743,0.7594741560349743,0.7594741560349743,0.7594741560349743,0.7594741560349743,0.7594741560349743,0.7594741560349743,0.7594741560349743,0.7594741560349743,0.7594741560349743,0.7594741560349743,0.7594741560349743,0.7594741560349743,0.7593741560349743,0.7593741560349743,0.7593741560349743,0.7593741560349743,0.7593741560349743,0.7593741560349743,0.7593741560349743,0.7593741560349743,0.7593741560349743,0.7590900290508473,0.7590900290508473,0.7590900290508473,0.36965861296536795,0.36965861296536795,0.36965861296536795,0.36965861296536795,0.36965861296536795,0.36965861296536795,0.36965861296536795,0.36965861296536795,0.36965861296536795,0.36965861296536795,0.36965861296536795,0.36965861296536795,0.36965861296536795,0.36965861296536795,0.36965861296536795,0.36965861296536795,0.36965861296536795,0.36965861296536795,0.36965861296536795,0.36965861296536795,0.36965861296536795,0.36965861296536795,0.36965861296536795,0.36965861296536795,0.36965861296536795,0.36965861296536795,0.36965861296536795,0.36965861296536795,0.36965861296536795,0.36965861296536795,0.36965861296536795,0.36965861296536795,0.36965861296536795,0.36965861296536795,0.36965861296536795,0.36965861296536795,0.36965861296536795,0.36965861296536795],\"yaxis\":\"y\",\"type\":\"scatter\",\"opacity\":1}],                        {\"template\":{\"data\":{\"scatter\":[{\"type\":\"scatter\"}]}},\"xaxis\":{\"anchor\":\"y\",\"domain\":[0.0,0.475],\"title\":{\"text\":\"\"},\"showticklabels\":true,\"type\":\"linear\",\"gridwidth\":2,\"zeroline\":false,\"automargin\":true,\"ticks\":\"outside\",\"tickcolor\":\"white\",\"ticklen\":3,\"fixedrange\":true},\"yaxis\":{\"anchor\":\"x\",\"domain\":[0.0,0.19375],\"title\":{\"text\":\"\"},\"range\":[0.31179985869320676,1.006104909959141],\"type\":\"linear\",\"gridwidth\":2,\"zeroline\":false,\"automargin\":true,\"ticks\":\"outside\",\"tickcolor\":\"white\",\"ticklen\":3,\"fixedrange\":true},\"xaxis2\":{\"anchor\":\"y2\",\"domain\":[0.525,1.0],\"title\":{\"text\":\"\"},\"showticklabels\":true,\"type\":\"linear\",\"gridwidth\":2,\"zeroline\":false,\"automargin\":true,\"ticks\":\"outside\",\"tickcolor\":\"white\",\"ticklen\":3,\"fixedrange\":true},\"yaxis2\":{\"anchor\":\"x2\",\"domain\":[0.0,0.19375],\"matches\":\"y\",\"showticklabels\":false,\"type\":\"linear\",\"gridwidth\":2,\"zeroline\":false,\"automargin\":true,\"ticks\":\"outside\",\"tickcolor\":\"white\",\"ticklen\":3,\"fixedrange\":true,\"title\":{\"text\":\"\"}},\"xaxis3\":{\"anchor\":\"y3\",\"domain\":[0.0,0.475],\"showticklabels\":true,\"type\":\"linear\",\"gridwidth\":2,\"zeroline\":false,\"automargin\":true,\"ticks\":\"outside\",\"tickcolor\":\"white\",\"ticklen\":3,\"fixedrange\":true,\"title\":{\"text\":\"\"}},\"yaxis3\":{\"anchor\":\"x3\",\"domain\":[0.26875,0.4625],\"matches\":\"y\",\"title\":{\"text\":\"\"},\"range\":[0.31179985869320676,1.006104909959141],\"type\":\"linear\",\"gridwidth\":2,\"zeroline\":false,\"automargin\":true,\"ticks\":\"outside\",\"tickcolor\":\"white\",\"ticklen\":3,\"fixedrange\":true},\"xaxis4\":{\"anchor\":\"y4\",\"domain\":[0.525,1.0],\"showticklabels\":true,\"type\":\"linear\",\"gridwidth\":2,\"zeroline\":false,\"automargin\":true,\"ticks\":\"outside\",\"tickcolor\":\"white\",\"ticklen\":3,\"fixedrange\":true,\"title\":{\"text\":\"\"}},\"yaxis4\":{\"anchor\":\"x4\",\"domain\":[0.26875,0.4625],\"matches\":\"y\",\"showticklabels\":false,\"type\":\"linear\",\"gridwidth\":2,\"zeroline\":false,\"automargin\":true,\"ticks\":\"outside\",\"tickcolor\":\"white\",\"ticklen\":3,\"fixedrange\":true,\"title\":{\"text\":\"\"}},\"xaxis5\":{\"anchor\":\"y5\",\"domain\":[0.0,0.475],\"showticklabels\":true,\"type\":\"linear\",\"gridwidth\":2,\"zeroline\":false,\"automargin\":true,\"ticks\":\"outside\",\"tickcolor\":\"white\",\"ticklen\":3,\"fixedrange\":true,\"title\":{\"text\":\"\"}},\"yaxis5\":{\"anchor\":\"x5\",\"domain\":[0.5375,0.73125],\"matches\":\"y\",\"title\":{\"text\":\"\"},\"range\":[0.31179985869320676,1.006104909959141],\"type\":\"linear\",\"gridwidth\":2,\"zeroline\":false,\"automargin\":true,\"ticks\":\"outside\",\"tickcolor\":\"white\",\"ticklen\":3,\"fixedrange\":true},\"xaxis6\":{\"anchor\":\"y6\",\"domain\":[0.525,1.0],\"showticklabels\":true,\"type\":\"linear\",\"gridwidth\":2,\"zeroline\":false,\"automargin\":true,\"ticks\":\"outside\",\"tickcolor\":\"white\",\"ticklen\":3,\"fixedrange\":true,\"title\":{\"text\":\"\"}},\"yaxis6\":{\"anchor\":\"x6\",\"domain\":[0.5375,0.73125],\"matches\":\"y\",\"showticklabels\":false,\"type\":\"linear\",\"gridwidth\":2,\"zeroline\":false,\"automargin\":true,\"ticks\":\"outside\",\"tickcolor\":\"white\",\"ticklen\":3,\"fixedrange\":true,\"title\":{\"text\":\"\"}},\"xaxis7\":{\"anchor\":\"y7\",\"domain\":[0.0,0.475],\"showticklabels\":true,\"type\":\"linear\",\"gridwidth\":2,\"zeroline\":false,\"automargin\":true,\"ticks\":\"outside\",\"tickcolor\":\"white\",\"ticklen\":3,\"fixedrange\":true,\"title\":{\"text\":\"\"}},\"yaxis7\":{\"anchor\":\"x7\",\"domain\":[0.80625,1.0],\"matches\":\"y\",\"title\":{\"text\":\"\"},\"range\":[0.31179985869320676,1.006104909959141],\"type\":\"linear\",\"gridwidth\":2,\"zeroline\":false,\"automargin\":true,\"ticks\":\"outside\",\"tickcolor\":\"white\",\"ticklen\":3,\"fixedrange\":true},\"xaxis8\":{\"anchor\":\"y8\",\"domain\":[0.525,1.0],\"showticklabels\":true,\"type\":\"linear\",\"gridwidth\":2,\"zeroline\":false,\"automargin\":true,\"ticks\":\"outside\",\"tickcolor\":\"white\",\"ticklen\":3,\"fixedrange\":true,\"title\":{\"text\":\"\"}},\"yaxis8\":{\"anchor\":\"x8\",\"domain\":[0.80625,1.0],\"matches\":\"y\",\"showticklabels\":false,\"type\":\"linear\",\"gridwidth\":2,\"zeroline\":false,\"automargin\":true,\"ticks\":\"outside\",\"tickcolor\":\"white\",\"ticklen\":3,\"fixedrange\":true,\"title\":{\"text\":\"\"}},\"annotations\":[{\"font\":{\"size\":13},\"showarrow\":false,\"text\":\"Shipping Mode\",\"x\":0.2375,\"xanchor\":\"center\",\"xref\":\"paper\",\"y\":0.19375,\"yanchor\":\"bottom\",\"yref\":\"paper\"},{\"font\":{\"size\":13},\"showarrow\":false,\"text\":\"Order Item Quantity\",\"x\":0.2375,\"xanchor\":\"center\",\"xref\":\"paper\",\"y\":0.4625,\"yanchor\":\"bottom\",\"yref\":\"paper\"},{\"font\":{\"size\":13},\"showarrow\":false,\"text\":\"Order Region\",\"x\":0.7625,\"xanchor\":\"center\",\"xref\":\"paper\",\"y\":0.4625,\"yanchor\":\"bottom\",\"yref\":\"paper\"},{\"font\":{\"size\":13},\"showarrow\":false,\"text\":\"Order City\",\"x\":0.2375,\"xanchor\":\"center\",\"xref\":\"paper\",\"y\":0.73125,\"yanchor\":\"bottom\",\"yref\":\"paper\"},{\"font\":{\"size\":13},\"showarrow\":false,\"text\":\"Order Country\",\"x\":0.7625,\"xanchor\":\"center\",\"xref\":\"paper\",\"y\":0.73125,\"yanchor\":\"bottom\",\"yref\":\"paper\"},{\"font\":{\"size\":13},\"showarrow\":false,\"text\":\"Category Name\",\"x\":0.2375,\"xanchor\":\"center\",\"xref\":\"paper\",\"y\":1.0,\"yanchor\":\"bottom\",\"yref\":\"paper\"},{\"font\":{\"size\":13},\"showarrow\":false,\"text\":\"Market\",\"x\":0.7625,\"xanchor\":\"center\",\"xref\":\"paper\",\"y\":1.0,\"yanchor\":\"bottom\",\"yref\":\"paper\"},{\"font\":{\"size\":13},\"showarrow\":false,\"text\":\"prediction\",\"textangle\":-90,\"x\":-0.07,\"xref\":\"paper\",\"y\":0.5,\"yref\":\"paper\"}],\"legend\":{\"title\":{\"text\":\"label\",\"font\":{\"size\":12}},\"tracegroupgap\":0,\"font\":{\"size\":11},\"orientation\":\"h\",\"yanchor\":\"bottom\",\"y\":1.0198807157057654,\"xanchor\":\"right\",\"x\":1,\"itemsizing\":\"constant\"},\"margin\":{\"t\":78,\"b\":71,\"r\":30},\"font\":{\"color\":\"#371ea3\"},\"title\":{\"font\":{\"size\":16},\"text\":\"Aggregated Profiles\",\"x\":0.15},\"hovermode\":\"x unified\",\"height\":1509},                        {\"displaylogo\": false, \"staticPlot\": false, \"toImageButtonOptions\": {\"height\": null, \"width\": null}, \"modeBarButtonsToRemove\": [\"sendDataToCloud\", \"lasso2d\", \"autoScale2d\", \"select2d\", \"zoom2d\", \"pan2d\", \"zoomIn2d\", \"zoomOut2d\", \"resetScale2d\", \"toggleSpikelines\", \"hoverCompareCartesian\", \"hoverClosestCartesian\"], \"responsive\": true}                    ).then(function(){\n",
              "                            \n",
              "var gd = document.getElementById('e41e5339-ebdf-4985-a757-5e30f4c950c1');\n",
              "var x = new MutationObserver(function (mutations, observer) {{\n",
              "        var display = window.getComputedStyle(gd).display;\n",
              "        if (!display || display === 'none') {{\n",
              "            console.log([gd, 'removed!']);\n",
              "            Plotly.purge(gd);\n",
              "            observer.disconnect();\n",
              "        }}\n",
              "}});\n",
              "\n",
              "// Listen for the removal of the full notebook cells\n",
              "var notebookContainer = gd.closest('#notebook-container');\n",
              "if (notebookContainer) {{\n",
              "    x.observe(notebookContainer, {childList: true});\n",
              "}}\n",
              "\n",
              "// Listen for the clearing of the current output cell\n",
              "var outputEl = gd.closest('.output');\n",
              "if (outputEl) {{\n",
              "    x.observe(outputEl, {childList: true});\n",
              "}}\n",
              "\n",
              "                        })                };                            </script>        </div>\n",
              "</body>\n",
              "</html>"
            ]
          },
          "metadata": {}
        }
      ],
      "source": [
        "# create partial dependence plot of RF model\n",
        "conv_rf_exp.model_profile().plot()"
      ]
    },
    {
      "cell_type": "markdown",
      "metadata": {
        "id": "bLaJwVNIJfLU"
      },
      "source": [
        "From the partial dependence plot, we know that even there are many factor that impact late delivery, the higher effect comes from shipping mode. We know that if the more shipping mode get used by the company, the higher chance that the delivery will be on time."
      ]
    },
    {
      "cell_type": "markdown",
      "source": [
        "# Recommendation"
      ],
      "metadata": {
        "id": "SsQav0kVpviT"
      }
    },
    {
      "cell_type": "markdown",
      "source": [
        "From the EDA and maching learning modelling, can formulate recommendation like :\n",
        "* Check the possibility of closing few of Shipping mode. We found that the Standard Class have best performance amongst all, so we can recommend this shipping mode for customer. We can also opening partnership with third-party courier with more sorting hub since we know where the potential orders comes from.\n",
        "* Doing more analysis for characteristic of the customer city. From the modelling we know that city more important than country and region in terms of predicting late delivery risk. Therefore, there is possibility that the distance is not so important. How about the road condition? Weather climate? or anything else that can determine late delivery risk on potential city.\n",
        "* Initiate movement grouping for all Category. From the modelling we know that Category is also have higher importance in determine SLA. Therefore, we can make movement grouping to FAST, MED, and SLOW movement for the Category that company handle. So we can prepare the more effective layout for outbound staging to minimize the lead time for order processing.\n",
        "* Calculate manpower more efficiently. As we can see, the order quantity is also one of important feature. The company can calculate several point and analyze the possibility where the most needed for additional manpower. Also we can add the facility to maximize the productivity like conveyor belt so the picker could deliver the goods to packing station without actually walking there."
      ],
      "metadata": {
        "id": "Ayjguygmqxsz"
      }
    }
  ],
  "metadata": {
    "colab": {
      "collapsed_sections": [
        "bNiw3hhx73Ee",
        "4Ys4z_zA-UGT",
        "8Fk_VefVH8L-",
        "nYhyAWGRH-s-",
        "b-1hMoXQIRs_",
        "VB8asUJ1FZqI",
        "RFH1tzo6-4bP",
        "dqVId9rH_X40",
        "MFz3-Jj1EGbQ",
        "ZhuOy2uiD_Sg",
        "VBcA3K2DGLk3",
        "wS91bNUCHl5_",
        "inbnCyaCgXkN",
        "VzJWnjFwUVk5",
        "FJYDM8M-7atv",
        "G37piFDQZ_ML",
        "8GpjKbER0icM",
        "Ug_eod1aVmbd",
        "2vHYX037U94_",
        "T31acBFMhUDE",
        "SsQav0kVpviT"
      ],
      "provenance": []
    },
    "kernelspec": {
      "display_name": "Python 3",
      "name": "python3"
    },
    "language_info": {
      "name": "python"
    }
  },
  "nbformat": 4,
  "nbformat_minor": 0
}